{
 "cells": [
  {
   "cell_type": "code",
   "execution_count": 1,
   "metadata": {},
   "outputs": [],
   "source": [
    "from tqdm.notebook import tqdm\n",
    "\n",
    "import pandas as pd\n",
    "import numpy as np\n",
    "\n",
    "import re\n",
    "import string"
   ]
  },
  {
   "cell_type": "markdown",
   "metadata": {},
   "source": [
    "# Outline\n",
    "1. Clean Tier List Table\n",
    "    - Encoding tier list - (S+ = 0 -> D = 5)\n",
    "    - Turn rates into float dtype\n",
    "2. Clean Champion Strategies Table \n",
    "    - Manually edit to add missing champions and tips\n",
    "    - Fix obvious translation errors\n",
    "3. Sync champion names across ALL tables"
   ]
  },
  {
   "cell_type": "markdown",
   "metadata": {},
   "source": [
    "## 0. Load Data"
   ]
  },
  {
   "cell_type": "code",
   "execution_count": 2,
   "metadata": {},
   "outputs": [],
   "source": [
    "preprocessed_data_dir = './preprocessed_data'\n",
    "processed_data_dir = './processed_data'"
   ]
  },
  {
   "cell_type": "code",
   "execution_count": 3,
   "metadata": {},
   "outputs": [],
   "source": [
    "df_tier_list = pd.read_csv(f'{preprocessed_data_dir}/ugg_tier_list.csv')\n",
    "df_champ_roles = pd.read_csv(f'{preprocessed_data_dir}/wiki_champ_roles.csv')\n",
    "df_champ_strats = pd.read_csv(f'{preprocessed_data_dir}/tencent_champion_strats.csv')\n",
    "df_champ_details = pd.read_csv(f'{preprocessed_data_dir}/wiki_champion_details.csv')"
   ]
  },
  {
   "cell_type": "markdown",
   "metadata": {},
   "source": [
    "## 1. Clean Tier List Table"
   ]
  },
  {
   "cell_type": "code",
   "execution_count": 4,
   "metadata": {},
   "outputs": [],
   "source": [
    "def convert_to_float(percent):\n",
    "    if isinstance(percent,str):\n",
    "        return round(float(percent.replace('%',''))/100,4)\n",
    "    else:\n",
    "        return float('nan')"
   ]
  },
  {
   "cell_type": "code",
   "execution_count": 5,
   "metadata": {},
   "outputs": [],
   "source": [
    "df_tier_list['win_rate'] = df_tier_list['win_rate'].apply(convert_to_float)\n",
    "df_tier_list['pick_rate'] = df_tier_list['pick_rate'].apply(convert_to_float)\n",
    "df_tier_list['ban_rate'] = df_tier_list['ban_rate'].apply(convert_to_float)"
   ]
  },
  {
   "cell_type": "code",
   "execution_count": 6,
   "metadata": {},
   "outputs": [],
   "source": [
    "tier_mapping = {'S+':0,'S':1,'A':2,'B':3,'C':4,'D':5}\n",
    "df_tier_list['tier'] = df_tier_list['tier'].map(tier_mapping)"
   ]
  },
  {
   "cell_type": "code",
   "execution_count": 8,
   "metadata": {},
   "outputs": [],
   "source": [
    "df_tier_list.to_csv(f'{processed_data_dir}/ugg_tier_list.csv',index=False)"
   ]
  },
  {
   "cell_type": "markdown",
   "metadata": {},
   "source": [
    "## 2. Clean Champion Strategies Table"
   ]
  },
  {
   "cell_type": "code",
   "execution_count": null,
   "metadata": {},
   "outputs": [],
   "source": []
  }
 ],
 "metadata": {
  "@webio": {
   "lastCommId": null,
   "lastKernelId": null
  },
  "kernelspec": {
   "display_name": "Python 3",
   "language": "python",
   "name": "python3"
  },
  "language_info": {
   "codemirror_mode": {
    "name": "ipython",
    "version": 3
   },
   "file_extension": ".py",
   "mimetype": "text/x-python",
   "name": "python",
   "nbconvert_exporter": "python",
   "pygments_lexer": "ipython3",
   "version": "3.6.8"
  }
 },
 "nbformat": 4,
 "nbformat_minor": 2
}
