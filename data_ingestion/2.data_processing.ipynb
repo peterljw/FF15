{
 "cells": [
  {
   "cell_type": "code",
   "execution_count": 1,
   "metadata": {},
   "outputs": [],
   "source": [
    "from tqdm.notebook import tqdm\n",
    "\n",
    "import pandas as pd\n",
    "import numpy as np\n",
    "\n",
    "import re\n",
    "import string"
   ]
  },
  {
   "cell_type": "markdown",
   "metadata": {},
   "source": [
    "# Outline\n",
    "1. Clean Tier List Table\n",
    "    - Encoding tier list - (S+ = 0 -> D = 5)\n",
    "    - Turn rates into float dtype\n",
    "2. Clean Champion Strategies Table \n",
    "    - Manually edit to add missing champions and tips\n",
    "    - Clean format\n",
    "3. Sync champion names across ALL tables\n",
    "4. Generate Tables for Features"
   ]
  },
  {
   "cell_type": "markdown",
   "metadata": {},
   "source": [
    "## 0. Load Data"
   ]
  },
  {
   "cell_type": "code",
   "execution_count": 2,
   "metadata": {},
   "outputs": [],
   "source": [
    "preprocessed_data_dir = './preprocessed_data'\n",
    "processed_data_dir = './processed_data'"
   ]
  },
  {
   "cell_type": "code",
   "execution_count": 3,
   "metadata": {},
   "outputs": [],
   "source": [
    "df_tier_list = pd.read_csv(f'{preprocessed_data_dir}/ugg_tier_list.csv')\n",
    "df_champ_roles = pd.read_csv(f'{preprocessed_data_dir}/wiki_champ_roles.csv')\n",
    "df_champ_strats = pd.read_csv(f'{preprocessed_data_dir}/tencent_champion_strats_clean.csv')\n",
    "df_champ_details = pd.read_csv(f'{preprocessed_data_dir}/wiki_champion_details.csv')"
   ]
  },
  {
   "cell_type": "markdown",
   "metadata": {},
   "source": [
    "## 1. Clean Tier List Table"
   ]
  },
  {
   "cell_type": "code",
   "execution_count": 4,
   "metadata": {},
   "outputs": [],
   "source": [
    "def convert_to_float(percent):\n",
    "    if isinstance(percent,str):\n",
    "        return round(float(percent.replace('%',''))/100,4)\n",
    "    else:\n",
    "        return float('nan')"
   ]
  },
  {
   "cell_type": "code",
   "execution_count": 5,
   "metadata": {},
   "outputs": [],
   "source": [
    "# df_tier_list['win_rate'] = df_tier_list['win_rate'].apply(convert_to_float)\n",
    "# df_tier_list['pick_rate'] = df_tier_list['pick_rate'].apply(convert_to_float)\n",
    "# df_tier_list['ban_rate'] = df_tier_list['ban_rate'].apply(convert_to_float)"
   ]
  },
  {
   "cell_type": "code",
   "execution_count": 6,
   "metadata": {},
   "outputs": [],
   "source": [
    "# tier_mapping = {'S+':0,'S':1,'A':2,'B':3,'C':4,'D':5}\n",
    "# df_tier_list['tier'] = df_tier_list['tier'].map(tier_mapping)"
   ]
  },
  {
   "cell_type": "markdown",
   "metadata": {},
   "source": [
    "## 2. Clean Champion Strategies Table"
   ]
  },
  {
   "cell_type": "code",
   "execution_count": 7,
   "metadata": {},
   "outputs": [],
   "source": [
    "def clean_paragraphs(txt):\n",
    "    segments = pd.Series(txt.split('.')).apply(lambda x: x.replace('-','').strip()+'.')[:-1]\n",
    "    return '\\n'.join(segments).strip()"
   ]
  },
  {
   "cell_type": "code",
   "execution_count": 8,
   "metadata": {},
   "outputs": [],
   "source": [
    "df_champ_strats['play_strats'] = df_champ_strats['play_strats'].apply(clean_paragraphs)\n",
    "df_champ_strats['counter_strats'] = df_champ_strats['counter_strats'].apply(clean_paragraphs)"
   ]
  },
  {
   "cell_type": "code",
   "execution_count": 9,
   "metadata": {},
   "outputs": [],
   "source": [
    "df_champ_strats['champion'] = df_champ_strats['champion'].apply(lambda x: x.replace(',','').replace('’',\"'\"))"
   ]
  },
  {
   "cell_type": "code",
   "execution_count": 10,
   "metadata": {},
   "outputs": [],
   "source": [
    "df_champ_strats.drop('champion_cn',axis=1,inplace=True)"
   ]
  },
  {
   "cell_type": "markdown",
   "metadata": {},
   "source": [
    "## 3. Sync champion names across ALL tables"
   ]
  },
  {
   "cell_type": "code",
   "execution_count": 11,
   "metadata": {},
   "outputs": [],
   "source": [
    "tier_list_set = set(df_tier_list['champion'].unique())\n",
    "champ_roles_set = set(df_champ_roles['champion'].unique())\n",
    "champ_strats_set = set(df_champ_strats['champion'].unique())\n",
    "champ_details_set = set(df_champ_details['champion'].unique())"
   ]
  },
  {
   "cell_type": "code",
   "execution_count": 12,
   "metadata": {},
   "outputs": [
    {
     "data": {
      "text/plain": [
       "True"
      ]
     },
     "execution_count": 12,
     "metadata": {},
     "output_type": "execute_result"
    }
   ],
   "source": [
    "tier_list_set == champ_roles_set"
   ]
  },
  {
   "cell_type": "code",
   "execution_count": 13,
   "metadata": {},
   "outputs": [
    {
     "data": {
      "text/plain": [
       "True"
      ]
     },
     "execution_count": 13,
     "metadata": {},
     "output_type": "execute_result"
    }
   ],
   "source": [
    "tier_list_set == champ_strats_set"
   ]
  },
  {
   "cell_type": "code",
   "execution_count": 14,
   "metadata": {},
   "outputs": [
    {
     "data": {
      "text/plain": [
       "True"
      ]
     },
     "execution_count": 14,
     "metadata": {},
     "output_type": "execute_result"
    }
   ],
   "source": [
    "tier_list_set == champ_details_set"
   ]
  },
  {
   "cell_type": "markdown",
   "metadata": {},
   "source": [
    "## 4. Generate Tables for Features"
   ]
  },
  {
   "cell_type": "markdown",
   "metadata": {},
   "source": [
    "### 4.1 Feature 1\n",
    "- Champion statistics table\n",
    "    - Division\n",
    "    - Champion\n",
    "    - Lane\n",
    "    - Tier\n",
    "    - Win rate\n",
    "    - Pick rate\n",
    "    - Ban rate\n",
    "    - Class\n",
    "    - Secondary class\n",
    "    - Role\n",
    "    - Counter picks\n",
    "    - Matches\n",
    "- Main table: Tier List Table\n",
    "- Join [Class,Secondary class] from the Champion Details Table by champion name\n",
    "- Join [Role] from Champion Roles Table by champion name"
   ]
  },
  {
   "cell_type": "code",
   "execution_count": 15,
   "metadata": {},
   "outputs": [],
   "source": [
    "df_champ_stats = pd.merge(df_tier_list,df_champ_roles[['champion','primary_role']],how='left',on='champion')\n",
    "df_champ_stats = pd.merge(df_champ_stats,df_champ_details[['champion','primary_class','secondary_class']],how='left',on='champion')\n",
    "df_champ_stats = df_champ_stats[['divison', 'lane', 'champion', 'tier', 'win_rate', 'pick_rate',\n",
    "                                 'ban_rate', 'primary_role', 'primary_class',\n",
    "                                 'secondary_class','counters','matches']]"
   ]
  },
  {
   "cell_type": "code",
   "execution_count": 16,
   "metadata": {},
   "outputs": [
    {
     "data": {
      "text/html": [
       "<div>\n",
       "<style scoped>\n",
       "    .dataframe tbody tr th:only-of-type {\n",
       "        vertical-align: middle;\n",
       "    }\n",
       "\n",
       "    .dataframe tbody tr th {\n",
       "        vertical-align: top;\n",
       "    }\n",
       "\n",
       "    .dataframe thead th {\n",
       "        text-align: right;\n",
       "    }\n",
       "</style>\n",
       "<table border=\"1\" class=\"dataframe\">\n",
       "  <thead>\n",
       "    <tr style=\"text-align: right;\">\n",
       "      <th></th>\n",
       "      <th>divison</th>\n",
       "      <th>lane</th>\n",
       "      <th>champion</th>\n",
       "      <th>tier</th>\n",
       "      <th>win_rate</th>\n",
       "      <th>pick_rate</th>\n",
       "      <th>ban_rate</th>\n",
       "      <th>primary_role</th>\n",
       "      <th>primary_class</th>\n",
       "      <th>secondary_class</th>\n",
       "      <th>counters</th>\n",
       "      <th>matches</th>\n",
       "    </tr>\n",
       "  </thead>\n",
       "  <tbody>\n",
       "    <tr>\n",
       "      <th>0</th>\n",
       "      <td>Iron</td>\n",
       "      <td>Jungle</td>\n",
       "      <td>Karthus</td>\n",
       "      <td>2</td>\n",
       "      <td>0.6818</td>\n",
       "      <td>0.010</td>\n",
       "      <td>0.003</td>\n",
       "      <td>Battlemage</td>\n",
       "      <td>Mage</td>\n",
       "      <td>NaN</td>\n",
       "      <td>Malphite,Warwick,Hecarim,Rammus,Vi,Udyr,Lee Sin</td>\n",
       "      <td>66</td>\n",
       "    </tr>\n",
       "    <tr>\n",
       "      <th>1</th>\n",
       "      <td>Iron</td>\n",
       "      <td>Jungle</td>\n",
       "      <td>Poppy</td>\n",
       "      <td>2</td>\n",
       "      <td>0.6522</td>\n",
       "      <td>0.007</td>\n",
       "      <td>0.004</td>\n",
       "      <td>Warden</td>\n",
       "      <td>Tank</td>\n",
       "      <td>Fighter</td>\n",
       "      <td>Sion,Rengar,Kayn,Kindred,Ivern,Amumu,Olaf</td>\n",
       "      <td>46</td>\n",
       "    </tr>\n",
       "    <tr>\n",
       "      <th>2</th>\n",
       "      <td>Iron</td>\n",
       "      <td>Supp</td>\n",
       "      <td>Shen</td>\n",
       "      <td>2</td>\n",
       "      <td>0.6500</td>\n",
       "      <td>0.006</td>\n",
       "      <td>0.008</td>\n",
       "      <td>Warden</td>\n",
       "      <td>Tank</td>\n",
       "      <td>NaN</td>\n",
       "      <td>Swain,Blitzcrank,Maokai,Kayn,Zoe,Seraphine,Rakan</td>\n",
       "      <td>40</td>\n",
       "    </tr>\n",
       "    <tr>\n",
       "      <th>3</th>\n",
       "      <td>Iron</td>\n",
       "      <td>Top</td>\n",
       "      <td>Warwick</td>\n",
       "      <td>2</td>\n",
       "      <td>0.6182</td>\n",
       "      <td>0.008</td>\n",
       "      <td>0.102</td>\n",
       "      <td>Diver</td>\n",
       "      <td>Fighter</td>\n",
       "      <td>Tank</td>\n",
       "      <td>Jax,Malphite,Gangplank,Aatrox,Vayne,Dr. Mundo,...</td>\n",
       "      <td>55</td>\n",
       "    </tr>\n",
       "    <tr>\n",
       "      <th>4</th>\n",
       "      <td>Iron</td>\n",
       "      <td>Mid</td>\n",
       "      <td>Sett</td>\n",
       "      <td>2</td>\n",
       "      <td>0.5962</td>\n",
       "      <td>0.008</td>\n",
       "      <td>0.108</td>\n",
       "      <td>Juggernaut</td>\n",
       "      <td>Fighter</td>\n",
       "      <td>Tank</td>\n",
       "      <td>Irelia,Nocturne,Heimerdinger,Pantheon,Lucian,S...</td>\n",
       "      <td>52</td>\n",
       "    </tr>\n",
       "  </tbody>\n",
       "</table>\n",
       "</div>"
      ],
      "text/plain": [
       "  divison    lane champion  tier  win_rate  pick_rate  ban_rate primary_role  \\\n",
       "0    Iron  Jungle  Karthus     2    0.6818      0.010     0.003   Battlemage   \n",
       "1    Iron  Jungle    Poppy     2    0.6522      0.007     0.004       Warden   \n",
       "2    Iron    Supp     Shen     2    0.6500      0.006     0.008       Warden   \n",
       "3    Iron     Top  Warwick     2    0.6182      0.008     0.102        Diver   \n",
       "4    Iron     Mid     Sett     2    0.5962      0.008     0.108   Juggernaut   \n",
       "\n",
       "  primary_class secondary_class  \\\n",
       "0          Mage             NaN   \n",
       "1          Tank         Fighter   \n",
       "2          Tank             NaN   \n",
       "3       Fighter            Tank   \n",
       "4       Fighter            Tank   \n",
       "\n",
       "                                            counters matches  \n",
       "0    Malphite,Warwick,Hecarim,Rammus,Vi,Udyr,Lee Sin      66  \n",
       "1          Sion,Rengar,Kayn,Kindred,Ivern,Amumu,Olaf      46  \n",
       "2   Swain,Blitzcrank,Maokai,Kayn,Zoe,Seraphine,Rakan      40  \n",
       "3  Jax,Malphite,Gangplank,Aatrox,Vayne,Dr. Mundo,...      55  \n",
       "4  Irelia,Nocturne,Heimerdinger,Pantheon,Lucian,S...      52  "
      ]
     },
     "execution_count": 16,
     "metadata": {},
     "output_type": "execute_result"
    }
   ],
   "source": [
    "df_champ_stats.head()"
   ]
  },
  {
   "cell_type": "code",
   "execution_count": 17,
   "metadata": {},
   "outputs": [],
   "source": [
    "df_champ_stats.to_csv(f'{processed_data_dir}/champion_stats.csv',index=False)"
   ]
  },
  {
   "cell_type": "markdown",
   "metadata": {},
   "source": [
    "## 4.2 Feature 2\n",
    "- Champion properties table\n",
    "    - champion\n",
    "    - class\n",
    "    - ratings\n",
    "    - role"
   ]
  },
  {
   "cell_type": "code",
   "execution_count": 18,
   "metadata": {},
   "outputs": [],
   "source": [
    "df_champ_properties = pd.merge(df_champ_details,df_champ_roles[['champion','primary_role']],how='left',on='champion')"
   ]
  },
  {
   "cell_type": "code",
   "execution_count": 19,
   "metadata": {},
   "outputs": [],
   "source": [
    "df_champ_properties.rename(columns={'primary_role':'role'},inplace=True)"
   ]
  },
  {
   "cell_type": "code",
   "execution_count": 20,
   "metadata": {},
   "outputs": [],
   "source": [
    "def merge_classes(class1,class2):\n",
    "    if isinstance(class2,str):\n",
    "        return f'{class1}/{class2}'\n",
    "    else:\n",
    "        return class1"
   ]
  },
  {
   "cell_type": "code",
   "execution_count": 21,
   "metadata": {},
   "outputs": [],
   "source": [
    "df_champ_properties['class'] = df_champ_properties.apply(lambda x: merge_classes(x['primary_class'],x['secondary_class']),axis=1)\n",
    "df_champ_properties = df_champ_properties[['champion','class','role','ratings']]"
   ]
  },
  {
   "cell_type": "code",
   "execution_count": 22,
   "metadata": {},
   "outputs": [
    {
     "data": {
      "text/html": [
       "<div>\n",
       "<style scoped>\n",
       "    .dataframe tbody tr th:only-of-type {\n",
       "        vertical-align: middle;\n",
       "    }\n",
       "\n",
       "    .dataframe tbody tr th {\n",
       "        vertical-align: top;\n",
       "    }\n",
       "\n",
       "    .dataframe thead th {\n",
       "        text-align: right;\n",
       "    }\n",
       "</style>\n",
       "<table border=\"1\" class=\"dataframe\">\n",
       "  <thead>\n",
       "    <tr style=\"text-align: right;\">\n",
       "      <th></th>\n",
       "      <th>champion</th>\n",
       "      <th>class</th>\n",
       "      <th>role</th>\n",
       "      <th>ratings</th>\n",
       "    </tr>\n",
       "  </thead>\n",
       "  <tbody>\n",
       "    <tr>\n",
       "      <th>0</th>\n",
       "      <td>Aatrox</td>\n",
       "      <td>Fighter/Tank</td>\n",
       "      <td>Juggernaut</td>\n",
       "      <td>{'Physical Damage': 3, 'Toughness': 3, 'Contro...</td>\n",
       "    </tr>\n",
       "    <tr>\n",
       "      <th>1</th>\n",
       "      <td>Ahri</td>\n",
       "      <td>Mage/Assassin</td>\n",
       "      <td>Burst</td>\n",
       "      <td>{'Magic Damage': 3, 'Toughness': 1, 'Control':...</td>\n",
       "    </tr>\n",
       "    <tr>\n",
       "      <th>2</th>\n",
       "      <td>Akali</td>\n",
       "      <td>Assassin</td>\n",
       "      <td>Assassin</td>\n",
       "      <td>{'Physical Damage': 3, 'Toughness': 1, 'Contro...</td>\n",
       "    </tr>\n",
       "    <tr>\n",
       "      <th>3</th>\n",
       "      <td>Alistar</td>\n",
       "      <td>Tank/Support</td>\n",
       "      <td>Vanguard</td>\n",
       "      <td>{'Magic Damage': 1, 'Toughness': 3, 'Control':...</td>\n",
       "    </tr>\n",
       "    <tr>\n",
       "      <th>4</th>\n",
       "      <td>Amumu</td>\n",
       "      <td>Tank/Mage</td>\n",
       "      <td>Vanguard</td>\n",
       "      <td>{'Magic Damage': 2, 'Toughness': 3, 'Control':...</td>\n",
       "    </tr>\n",
       "  </tbody>\n",
       "</table>\n",
       "</div>"
      ],
      "text/plain": [
       "  champion          class        role  \\\n",
       "0   Aatrox   Fighter/Tank  Juggernaut   \n",
       "1     Ahri  Mage/Assassin       Burst   \n",
       "2    Akali       Assassin    Assassin   \n",
       "3  Alistar   Tank/Support    Vanguard   \n",
       "4    Amumu      Tank/Mage    Vanguard   \n",
       "\n",
       "                                             ratings  \n",
       "0  {'Physical Damage': 3, 'Toughness': 3, 'Contro...  \n",
       "1  {'Magic Damage': 3, 'Toughness': 1, 'Control':...  \n",
       "2  {'Physical Damage': 3, 'Toughness': 1, 'Contro...  \n",
       "3  {'Magic Damage': 1, 'Toughness': 3, 'Control':...  \n",
       "4  {'Magic Damage': 2, 'Toughness': 3, 'Control':...  "
      ]
     },
     "execution_count": 22,
     "metadata": {},
     "output_type": "execute_result"
    }
   ],
   "source": [
    "df_champ_properties.head()"
   ]
  },
  {
   "cell_type": "code",
   "execution_count": 23,
   "metadata": {},
   "outputs": [],
   "source": [
    "df_champ_properties.to_csv(f'{processed_data_dir}/champion_properties.csv',index=False)"
   ]
  },
  {
   "cell_type": "markdown",
   "metadata": {},
   "source": [
    "## 5. Upload to S3"
   ]
  },
  {
   "cell_type": "code",
   "execution_count": 26,
   "metadata": {},
   "outputs": [],
   "source": [
    "from utility.s3_file_transfer import upload_df_to_s3"
   ]
  },
  {
   "cell_type": "code",
   "execution_count": 28,
   "metadata": {},
   "outputs": [],
   "source": [
    "upload_df_to_s3(df_champ_stats,'peter-ff15-data/champion_stats.csv')\n",
    "upload_df_to_s3(df_champ_properties,'peter-ff15-data/champion_properties.csv')"
   ]
  }
 ],
 "metadata": {
  "@webio": {
   "lastCommId": null,
   "lastKernelId": null
  },
  "kernelspec": {
   "display_name": "Python 3",
   "language": "python",
   "name": "python3"
  },
  "language_info": {
   "codemirror_mode": {
    "name": "ipython",
    "version": 3
   },
   "file_extension": ".py",
   "mimetype": "text/x-python",
   "name": "python",
   "nbconvert_exporter": "python",
   "pygments_lexer": "ipython3",
   "version": "3.6.8"
  }
 },
 "nbformat": 4,
 "nbformat_minor": 2
}
