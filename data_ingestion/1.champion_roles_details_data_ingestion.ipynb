{
 "cells": [
  {
   "cell_type": "code",
   "execution_count": 1,
   "metadata": {
    "tags": []
   },
   "outputs": [],
   "source": [
    "from utility import scraper\n",
    "from bs4 import BeautifulSoup as soup\n",
    "from tqdm import tqdm\n",
    "\n",
    "import pandas as pd\n",
    "import numpy as np\n",
    "import json\n",
    "\n",
    "import re\n",
    "import string\n",
    "\n",
    "from utility.s3_file_transfer import upload_df_to_s3"
   ]
  },
  {
   "cell_type": "markdown",
   "metadata": {},
   "source": [
    "## 1. Scrape Champion Roles (Fandom Wiki)\n",
    "- Updated when there's a new champion release\n",
    "- Can be updated manually"
   ]
  },
  {
   "cell_type": "code",
   "execution_count": 2,
   "metadata": {},
   "outputs": [
    {
     "name": "stdout",
     "output_type": "stream",
     "text": [
      "making html request:https://leagueoflegends.fandom.com/wiki/List_of_champions\n"
     ]
    }
   ],
   "source": [
    "url = 'https://leagueoflegends.fandom.com/wiki/List_of_champions'\n",
    "wiki_champion_page_soup = scraper.get_page(url)\n",
    "champion_table = wiki_champion_page_soup.findAll('tbody')[1]\n",
    "champion_rows = champion_table.findAll('tr',recursive=False)[1:]"
   ]
  },
  {
   "cell_type": "code",
   "execution_count": 3,
   "metadata": {},
   "outputs": [],
   "source": [
    "champion_name_list,primary_role_list,secondary_role_list  = list(),list(),list()\n",
    "\n",
    "for champion_row in champion_rows:\n",
    "    # get name and classes\n",
    "    champion_name = champion_row.find('td')['data-sort-value']\n",
    "    classes = champion_row.findAll('td')[1]['data-sort-value']\n",
    "    \n",
    "    # transform classes into primary and secondary roles\n",
    "    if ',' in classes:\n",
    "        primary_role = classes.split(',')[0].strip()\n",
    "        secondary_role = classes.split(',')[1].strip()\n",
    "    else:\n",
    "        primary_role = classes\n",
    "        secondary_role = None\n",
    "        \n",
    "    # append to lists\n",
    "    champion_name_list.append(champion_name)\n",
    "    primary_role_list.append(primary_role)\n",
    "    secondary_role_list.append(secondary_role)"
   ]
  },
  {
   "cell_type": "code",
   "execution_count": 4,
   "metadata": {},
   "outputs": [],
   "source": [
    "df_roles = pd.DataFrame({'champion':champion_name_list,\n",
    "                         'primary_role':primary_role_list,\n",
    "                         'secondary_role':secondary_role_list})"
   ]
  },
  {
   "cell_type": "code",
   "execution_count": 5,
   "metadata": {},
   "outputs": [
    {
     "data": {
      "text/html": [
       "<div>\n",
       "<style scoped>\n",
       "    .dataframe tbody tr th:only-of-type {\n",
       "        vertical-align: middle;\n",
       "    }\n",
       "\n",
       "    .dataframe tbody tr th {\n",
       "        vertical-align: top;\n",
       "    }\n",
       "\n",
       "    .dataframe thead th {\n",
       "        text-align: right;\n",
       "    }\n",
       "</style>\n",
       "<table border=\"1\" class=\"dataframe\">\n",
       "  <thead>\n",
       "    <tr style=\"text-align: right;\">\n",
       "      <th></th>\n",
       "      <th>champion</th>\n",
       "      <th>primary_role</th>\n",
       "      <th>secondary_role</th>\n",
       "    </tr>\n",
       "  </thead>\n",
       "  <tbody>\n",
       "    <tr>\n",
       "      <th>0</th>\n",
       "      <td>Aatrox</td>\n",
       "      <td>Juggernaut</td>\n",
       "      <td>None</td>\n",
       "    </tr>\n",
       "    <tr>\n",
       "      <th>1</th>\n",
       "      <td>Ahri</td>\n",
       "      <td>Burst</td>\n",
       "      <td>None</td>\n",
       "    </tr>\n",
       "    <tr>\n",
       "      <th>2</th>\n",
       "      <td>Akali</td>\n",
       "      <td>Assassin</td>\n",
       "      <td>None</td>\n",
       "    </tr>\n",
       "    <tr>\n",
       "      <th>3</th>\n",
       "      <td>Akshan</td>\n",
       "      <td>Marksman</td>\n",
       "      <td>Assassin</td>\n",
       "    </tr>\n",
       "    <tr>\n",
       "      <th>4</th>\n",
       "      <td>Alistar</td>\n",
       "      <td>Vanguard</td>\n",
       "      <td>None</td>\n",
       "    </tr>\n",
       "  </tbody>\n",
       "</table>\n",
       "</div>"
      ],
      "text/plain": [
       "  champion primary_role secondary_role\n",
       "0   Aatrox   Juggernaut           None\n",
       "1     Ahri        Burst           None\n",
       "2    Akali     Assassin           None\n",
       "3   Akshan     Marksman       Assassin\n",
       "4  Alistar     Vanguard           None"
      ]
     },
     "metadata": {},
     "output_type": "display_data"
    }
   ],
   "source": [
    "display(df_roles.head())\n",
    "df_roles.to_csv('./temp/wiki_champ_roles.csv',index=False)\n",
    "df_roles.to_csv('./preprocessed_data/wiki_champ_roles.csv',index=False)"
   ]
  },
  {
   "cell_type": "markdown",
   "metadata": {},
   "source": [
    "## 2. Scrape Champion Details (Fandom Wiki)\n",
    "- Updated when there's a new champion release\n",
    "- Can be updated manually"
   ]
  },
  {
   "cell_type": "markdown",
   "metadata": {},
   "source": [
    "### 2.1 Scrape Champion Catalog Page\n",
    "- Champion name\n",
    "- Champion page url"
   ]
  },
  {
   "cell_type": "code",
   "execution_count": 6,
   "metadata": {},
   "outputs": [
    {
     "name": "stdout",
     "output_type": "stream",
     "text": [
      "making html request:https://leagueoflegends.fandom.com/wiki/List_of_champions\n"
     ]
    }
   ],
   "source": [
    "url = 'https://leagueoflegends.fandom.com/wiki/List_of_champions'\n",
    "wiki_champion_page_soup = scraper.get_page(url)\n",
    "champion_table = wiki_champion_page_soup.findAll('tbody')[1]\n",
    "champion_rows = champion_table.findAll('tr',recursive=False)[1:]"
   ]
  },
  {
   "cell_type": "code",
   "execution_count": 7,
   "metadata": {},
   "outputs": [],
   "source": [
    "champion_name_list,champion_url_list  = list(),list()\n",
    "\n",
    "for champion_row in champion_rows:\n",
    "    champion_name_list.append(champion_row.find('td')['data-sort-value'])\n",
    "    url = champion_row.find('td').find('a',href=True)['href']\n",
    "    champion_url_list.append(f'https://leagueoflegends.fandom.com{url}')"
   ]
  },
  {
   "cell_type": "code",
   "execution_count": 8,
   "metadata": {},
   "outputs": [],
   "source": [
    "df_wiki_links = pd.DataFrame({'champion':champion_name_list,\n",
    "                              'url':champion_url_list})"
   ]
  },
  {
   "cell_type": "code",
   "execution_count": 9,
   "metadata": {},
   "outputs": [
    {
     "data": {
      "text/html": [
       "<div>\n",
       "<style scoped>\n",
       "    .dataframe tbody tr th:only-of-type {\n",
       "        vertical-align: middle;\n",
       "    }\n",
       "\n",
       "    .dataframe tbody tr th {\n",
       "        vertical-align: top;\n",
       "    }\n",
       "\n",
       "    .dataframe thead th {\n",
       "        text-align: right;\n",
       "    }\n",
       "</style>\n",
       "<table border=\"1\" class=\"dataframe\">\n",
       "  <thead>\n",
       "    <tr style=\"text-align: right;\">\n",
       "      <th></th>\n",
       "      <th>champion</th>\n",
       "      <th>url</th>\n",
       "    </tr>\n",
       "  </thead>\n",
       "  <tbody>\n",
       "    <tr>\n",
       "      <th>0</th>\n",
       "      <td>Aatrox</td>\n",
       "      <td>https://leagueoflegends.fandom.com/wiki/Aatrox...</td>\n",
       "    </tr>\n",
       "    <tr>\n",
       "      <th>1</th>\n",
       "      <td>Ahri</td>\n",
       "      <td>https://leagueoflegends.fandom.com/wiki/Ahri/LoL</td>\n",
       "    </tr>\n",
       "    <tr>\n",
       "      <th>2</th>\n",
       "      <td>Akali</td>\n",
       "      <td>https://leagueoflegends.fandom.com/wiki/Akali/LoL</td>\n",
       "    </tr>\n",
       "    <tr>\n",
       "      <th>3</th>\n",
       "      <td>Akshan</td>\n",
       "      <td>https://leagueoflegends.fandom.com/wiki/Akshan...</td>\n",
       "    </tr>\n",
       "    <tr>\n",
       "      <th>4</th>\n",
       "      <td>Alistar</td>\n",
       "      <td>https://leagueoflegends.fandom.com/wiki/Alista...</td>\n",
       "    </tr>\n",
       "  </tbody>\n",
       "</table>\n",
       "</div>"
      ],
      "text/plain": [
       "  champion                                                url\n",
       "0   Aatrox  https://leagueoflegends.fandom.com/wiki/Aatrox...\n",
       "1     Ahri   https://leagueoflegends.fandom.com/wiki/Ahri/LoL\n",
       "2    Akali  https://leagueoflegends.fandom.com/wiki/Akali/LoL\n",
       "3   Akshan  https://leagueoflegends.fandom.com/wiki/Akshan...\n",
       "4  Alistar  https://leagueoflegends.fandom.com/wiki/Alista..."
      ]
     },
     "metadata": {},
     "output_type": "display_data"
    }
   ],
   "source": [
    "display(df_wiki_links.head())\n",
    "df_wiki_links.to_csv('./temp/wiki_champ_urls.csv',index=False)"
   ]
  },
  {
   "cell_type": "markdown",
   "metadata": {},
   "source": [
    "### 2.2 Scrape Indivdual Champion Page"
   ]
  },
  {
   "cell_type": "code",
   "execution_count": 10,
   "metadata": {},
   "outputs": [],
   "source": [
    "df_wiki_links = pd.read_csv('./temp/wiki_champ_urls.csv')"
   ]
  },
  {
   "cell_type": "code",
   "execution_count": 11,
   "metadata": {},
   "outputs": [],
   "source": [
    "def extract_champion_details(url):\n",
    "    for i in range(3):\n",
    "        try:\n",
    "            champ_page_soup = scraper.get_page(url)\n",
    "\n",
    "            # extract primary and secondary classes\n",
    "            classes = champ_page_soup.find('div',{'data-source':'legacy'}).find('div').findAll('span')\n",
    "            primary_class = classes[0].findAll('a')[1].text.strip()\n",
    "            try:\n",
    "                secondary_class = classes[1].findAll('a')[1].text.strip()\n",
    "            except:\n",
    "                secondary_class = float('nan')\n",
    "\n",
    "            # extract adaptive type\n",
    "            adaptivetype = champ_page_soup.find('div',{'data-source':'adaptivetype'}).find('div').find('span').findAll('a')[0].text.strip()\n",
    "\n",
    "            # extract rating distributions\n",
    "            values = champ_page_soup.find('div',{'class':'stat-wheel'})['data-values'].split(';')\n",
    "            values = pd.Series(values).apply(int)\n",
    "            ratings = [element.text.strip() for element in champ_page_soup.find('div',{'class':'stat-wheel'}).findAll('th')]\n",
    "            ratings[0] = f'{adaptivetype} {ratings[0]}'\n",
    "            rating_dist = dict(zip(ratings,values))\n",
    "\n",
    "            details_dict = {'primary_class':primary_class,'secondary_class':secondary_class,'ratings':rating_dist}\n",
    "            return details_dict\n",
    "        except:\n",
    "            pass\n",
    "    print(f'Error{url}')\n",
    "    details_dict = {'primary_class':float('nan'),'secondary_class':float('nan'),'ratings':float('nan')}\n",
    "    return details_dict"
   ]
  },
  {
   "cell_type": "code",
   "execution_count": 12,
   "metadata": {
    "scrolled": true,
    "tags": []
   },
   "outputs": [
    {
     "data": {
      "application/vnd.jupyter.widget-view+json": {
       "model_id": "f00f52dfe09b4d4ea321afcda9a8a4fd",
       "version_major": 2,
       "version_minor": 0
      },
      "text/plain": [
       "  0%|          | 0/159 [00:00<?, ?it/s]"
      ]
     },
     "metadata": {},
     "output_type": "display_data"
    },
    {
     "name": "stdout",
     "output_type": "stream",
     "text": [
      "making html request:https://leagueoflegends.fandom.com/wiki/Aatrox/LoL\n",
      "making html request:https://leagueoflegends.fandom.com/wiki/Ahri/LoL\n",
      "making html request:https://leagueoflegends.fandom.com/wiki/Akali/LoL\n",
      "making html request:https://leagueoflegends.fandom.com/wiki/Akshan/LoL\n",
      "making html request:https://leagueoflegends.fandom.com/wiki/Alistar/LoL\n",
      "making html request:https://leagueoflegends.fandom.com/wiki/Amumu/LoL\n",
      "making html request:https://leagueoflegends.fandom.com/wiki/Anivia/LoL\n",
      "making html request:https://leagueoflegends.fandom.com/wiki/Annie/LoL\n",
      "making html request:https://leagueoflegends.fandom.com/wiki/Aphelios/LoL\n",
      "making html request:https://leagueoflegends.fandom.com/wiki/Ashe/LoL\n",
      "making html request:https://leagueoflegends.fandom.com/wiki/Aurelion_Sol/LoL\n",
      "making html request:https://leagueoflegends.fandom.com/wiki/Azir/LoL\n",
      "making html request:https://leagueoflegends.fandom.com/wiki/Bard/LoL\n",
      "making html request:https://leagueoflegends.fandom.com/wiki/Blitzcrank/LoL\n",
      "making html request:https://leagueoflegends.fandom.com/wiki/Brand/LoL\n",
      "making html request:https://leagueoflegends.fandom.com/wiki/Braum/LoL\n",
      "making html request:https://leagueoflegends.fandom.com/wiki/Caitlyn/LoL\n",
      "making html request:https://leagueoflegends.fandom.com/wiki/Camille/LoL\n",
      "making html request:https://leagueoflegends.fandom.com/wiki/Cassiopeia/LoL\n",
      "making html request:https://leagueoflegends.fandom.com/wiki/Cho%27Gath/LoL\n",
      "making html request:https://leagueoflegends.fandom.com/wiki/Corki/LoL\n",
      "making html request:https://leagueoflegends.fandom.com/wiki/Darius/LoL\n",
      "making html request:https://leagueoflegends.fandom.com/wiki/Diana/LoL\n",
      "making html request:https://leagueoflegends.fandom.com/wiki/Dr._Mundo/LoL\n",
      "making html request:https://leagueoflegends.fandom.com/wiki/Draven/LoL\n",
      "making html request:https://leagueoflegends.fandom.com/wiki/Ekko/LoL\n",
      "making html request:https://leagueoflegends.fandom.com/wiki/Elise/LoL\n",
      "making html request:https://leagueoflegends.fandom.com/wiki/Evelynn/LoL\n",
      "making html request:https://leagueoflegends.fandom.com/wiki/Ezreal/LoL\n",
      "making html request:https://leagueoflegends.fandom.com/wiki/Fiddlesticks/LoL\n",
      "making html request:https://leagueoflegends.fandom.com/wiki/Fiora/LoL\n",
      "making html request:https://leagueoflegends.fandom.com/wiki/Fizz/LoL\n",
      "making html request:https://leagueoflegends.fandom.com/wiki/Galio/LoL\n",
      "making html request:https://leagueoflegends.fandom.com/wiki/Gangplank/LoL\n",
      "making html request:https://leagueoflegends.fandom.com/wiki/Garen/LoL\n",
      "making html request:https://leagueoflegends.fandom.com/wiki/Gnar/LoL\n",
      "making html request:https://leagueoflegends.fandom.com/wiki/Gragas/LoL\n",
      "making html request:https://leagueoflegends.fandom.com/wiki/Graves/LoL\n",
      "making html request:https://leagueoflegends.fandom.com/wiki/Gwen/LoL\n",
      "making html request:https://leagueoflegends.fandom.com/wiki/Hecarim/LoL\n",
      "making html request:https://leagueoflegends.fandom.com/wiki/Heimerdinger/LoL\n",
      "making html request:https://leagueoflegends.fandom.com/wiki/Illaoi/LoL\n",
      "making html request:https://leagueoflegends.fandom.com/wiki/Irelia/LoL\n",
      "making html request:https://leagueoflegends.fandom.com/wiki/Ivern/LoL\n",
      "making html request:https://leagueoflegends.fandom.com/wiki/Janna/LoL\n",
      "making html request:https://leagueoflegends.fandom.com/wiki/Jarvan_IV/LoL\n",
      "making html request:https://leagueoflegends.fandom.com/wiki/Jax/LoL\n",
      "making html request:https://leagueoflegends.fandom.com/wiki/Jayce/LoL\n",
      "making html request:https://leagueoflegends.fandom.com/wiki/Jhin/LoL\n",
      "making html request:https://leagueoflegends.fandom.com/wiki/Jinx/LoL\n",
      "making html request:https://leagueoflegends.fandom.com/wiki/Kai%27Sa/LoL\n",
      "making html request:https://leagueoflegends.fandom.com/wiki/Kalista/LoL\n",
      "making html request:https://leagueoflegends.fandom.com/wiki/Karma/LoL\n",
      "making html request:https://leagueoflegends.fandom.com/wiki/Karthus/LoL\n",
      "making html request:https://leagueoflegends.fandom.com/wiki/Kassadin/LoL\n",
      "making html request:https://leagueoflegends.fandom.com/wiki/Katarina/LoL\n",
      "making html request:https://leagueoflegends.fandom.com/wiki/Kayle/LoL\n",
      "making html request:https://leagueoflegends.fandom.com/wiki/Kayn/LoL\n",
      "making html request:https://leagueoflegends.fandom.com/wiki/Kennen/LoL\n",
      "making html request:https://leagueoflegends.fandom.com/wiki/Kha%27Zix/LoL\n",
      "making html request:https://leagueoflegends.fandom.com/wiki/Kindred/LoL\n",
      "making html request:https://leagueoflegends.fandom.com/wiki/Kled/LoL\n",
      "making html request:https://leagueoflegends.fandom.com/wiki/Kog%27Maw/LoL\n",
      "making html request:https://leagueoflegends.fandom.com/wiki/LeBlanc/LoL\n",
      "making html request:https://leagueoflegends.fandom.com/wiki/Lee_Sin/LoL\n",
      "making html request:https://leagueoflegends.fandom.com/wiki/Leona/LoL\n",
      "making html request:https://leagueoflegends.fandom.com/wiki/Lillia/LoL\n",
      "making html request:https://leagueoflegends.fandom.com/wiki/Lissandra/LoL\n",
      "making html request:https://leagueoflegends.fandom.com/wiki/Lucian/LoL\n",
      "making html request:https://leagueoflegends.fandom.com/wiki/Lulu/LoL\n",
      "making html request:https://leagueoflegends.fandom.com/wiki/Lux/LoL\n",
      "making html request:https://leagueoflegends.fandom.com/wiki/Malphite/LoL\n",
      "making html request:https://leagueoflegends.fandom.com/wiki/Malzahar/LoL\n",
      "making html request:https://leagueoflegends.fandom.com/wiki/Maokai/LoL\n",
      "making html request:https://leagueoflegends.fandom.com/wiki/Master_Yi/LoL\n",
      "making html request:https://leagueoflegends.fandom.com/wiki/Miss_Fortune/LoL\n",
      "making html request:https://leagueoflegends.fandom.com/wiki/Mordekaiser/LoL\n",
      "making html request:https://leagueoflegends.fandom.com/wiki/Morgana/LoL\n",
      "making html request:https://leagueoflegends.fandom.com/wiki/Nami/LoL\n",
      "making html request:https://leagueoflegends.fandom.com/wiki/Nasus/LoL\n",
      "making html request:https://leagueoflegends.fandom.com/wiki/Nautilus/LoL\n",
      "making html request:https://leagueoflegends.fandom.com/wiki/Neeko/LoL\n",
      "making html request:https://leagueoflegends.fandom.com/wiki/Nidalee/LoL\n",
      "making html request:https://leagueoflegends.fandom.com/wiki/Nocturne/LoL\n",
      "making html request:https://leagueoflegends.fandom.com/wiki/Nunu_%26_Willump/LoL\n",
      "making html request:https://leagueoflegends.fandom.com/wiki/Olaf/LoL\n",
      "making html request:https://leagueoflegends.fandom.com/wiki/Orianna/LoL\n",
      "making html request:https://leagueoflegends.fandom.com/wiki/Ornn/LoL\n",
      "making html request:https://leagueoflegends.fandom.com/wiki/Pantheon/LoL\n",
      "making html request:https://leagueoflegends.fandom.com/wiki/Poppy/LoL\n",
      "making html request:https://leagueoflegends.fandom.com/wiki/Pyke/LoL\n",
      "making html request:https://leagueoflegends.fandom.com/wiki/Qiyana/LoL\n",
      "making html request:https://leagueoflegends.fandom.com/wiki/Quinn/LoL\n",
      "making html request:https://leagueoflegends.fandom.com/wiki/Rakan/LoL\n",
      "making html request:https://leagueoflegends.fandom.com/wiki/Rammus/LoL\n",
      "making html request:https://leagueoflegends.fandom.com/wiki/Rek%27Sai/LoL\n",
      "making html request:https://leagueoflegends.fandom.com/wiki/Rell/LoL\n",
      "making html request:https://leagueoflegends.fandom.com/wiki/Renata_Glasc/LoL\n",
      "making html request:https://leagueoflegends.fandom.com/wiki/Renekton/LoL\n",
      "making html request:https://leagueoflegends.fandom.com/wiki/Rengar/LoL\n",
      "making html request:https://leagueoflegends.fandom.com/wiki/Riven/LoL\n",
      "making html request:https://leagueoflegends.fandom.com/wiki/Rumble/LoL\n",
      "making html request:https://leagueoflegends.fandom.com/wiki/Ryze/LoL\n",
      "making html request:https://leagueoflegends.fandom.com/wiki/Samira/LoL\n",
      "making html request:https://leagueoflegends.fandom.com/wiki/Sejuani/LoL\n",
      "making html request:https://leagueoflegends.fandom.com/wiki/Senna/LoL\n",
      "making html request:https://leagueoflegends.fandom.com/wiki/Seraphine/LoL\n",
      "making html request:https://leagueoflegends.fandom.com/wiki/Sett/LoL\n",
      "making html request:https://leagueoflegends.fandom.com/wiki/Shaco/LoL\n",
      "making html request:https://leagueoflegends.fandom.com/wiki/Shen/LoL\n",
      "making html request:https://leagueoflegends.fandom.com/wiki/Shyvana/LoL\n",
      "making html request:https://leagueoflegends.fandom.com/wiki/Singed/LoL\n",
      "making html request:https://leagueoflegends.fandom.com/wiki/Sion/LoL\n",
      "making html request:https://leagueoflegends.fandom.com/wiki/Sivir/LoL\n",
      "making html request:https://leagueoflegends.fandom.com/wiki/Skarner/LoL\n",
      "making html request:https://leagueoflegends.fandom.com/wiki/Sona/LoL\n",
      "making html request:https://leagueoflegends.fandom.com/wiki/Soraka/LoL\n",
      "making html request:https://leagueoflegends.fandom.com/wiki/Swain/LoL\n",
      "making html request:https://leagueoflegends.fandom.com/wiki/Sylas/LoL\n",
      "making html request:https://leagueoflegends.fandom.com/wiki/Syndra/LoL\n",
      "making html request:https://leagueoflegends.fandom.com/wiki/Tahm_Kench/LoL\n",
      "making html request:https://leagueoflegends.fandom.com/wiki/Taliyah/LoL\n",
      "making html request:https://leagueoflegends.fandom.com/wiki/Talon/LoL\n",
      "making html request:https://leagueoflegends.fandom.com/wiki/Taric/LoL\n",
      "making html request:https://leagueoflegends.fandom.com/wiki/Teemo/LoL\n",
      "making html request:https://leagueoflegends.fandom.com/wiki/Thresh/LoL\n",
      "making html request:https://leagueoflegends.fandom.com/wiki/Tristana/LoL\n",
      "making html request:https://leagueoflegends.fandom.com/wiki/Trundle/LoL\n",
      "making html request:https://leagueoflegends.fandom.com/wiki/Tryndamere/LoL\n",
      "making html request:https://leagueoflegends.fandom.com/wiki/Twisted_Fate/LoL\n",
      "making html request:https://leagueoflegends.fandom.com/wiki/Twitch/LoL\n",
      "making html request:https://leagueoflegends.fandom.com/wiki/Udyr/LoL\n",
      "making html request:https://leagueoflegends.fandom.com/wiki/Urgot/LoL\n",
      "making html request:https://leagueoflegends.fandom.com/wiki/Varus/LoL\n",
      "making html request:https://leagueoflegends.fandom.com/wiki/Vayne/LoL\n",
      "making html request:https://leagueoflegends.fandom.com/wiki/Veigar/LoL\n",
      "making html request:https://leagueoflegends.fandom.com/wiki/Vel%27Koz/LoL\n",
      "making html request:https://leagueoflegends.fandom.com/wiki/Vex/LoL\n",
      "making html request:https://leagueoflegends.fandom.com/wiki/Vi/LoL\n",
      "making html request:https://leagueoflegends.fandom.com/wiki/Viego/LoL\n",
      "making html request:https://leagueoflegends.fandom.com/wiki/Viktor/LoL\n",
      "making html request:https://leagueoflegends.fandom.com/wiki/Vladimir/LoL\n",
      "making html request:https://leagueoflegends.fandom.com/wiki/Volibear/LoL\n",
      "making html request:https://leagueoflegends.fandom.com/wiki/Warwick/LoL\n",
      "making html request:https://leagueoflegends.fandom.com/wiki/Wukong/LoL\n",
      "making html request:https://leagueoflegends.fandom.com/wiki/Xayah/LoL\n",
      "making html request:https://leagueoflegends.fandom.com/wiki/Xerath/LoL\n",
      "making html request:https://leagueoflegends.fandom.com/wiki/Xin_Zhao/LoL\n",
      "making html request:https://leagueoflegends.fandom.com/wiki/Yasuo/LoL\n",
      "making html request:https://leagueoflegends.fandom.com/wiki/Yone/LoL\n",
      "making html request:https://leagueoflegends.fandom.com/wiki/Yorick/LoL\n",
      "making html request:https://leagueoflegends.fandom.com/wiki/Yuumi/LoL\n",
      "making html request:https://leagueoflegends.fandom.com/wiki/Zac/LoL\n",
      "making html request:https://leagueoflegends.fandom.com/wiki/Zed/LoL\n",
      "making html request:https://leagueoflegends.fandom.com/wiki/Zeri/LoL\n",
      "making html request:https://leagueoflegends.fandom.com/wiki/Ziggs/LoL\n",
      "making html request:https://leagueoflegends.fandom.com/wiki/Zilean/LoL\n",
      "making html request:https://leagueoflegends.fandom.com/wiki/Zoe/LoL\n",
      "making html request:https://leagueoflegends.fandom.com/wiki/Zyra/LoL\n"
     ]
    }
   ],
   "source": [
    "champion_details_dict = dict()\n",
    "for url in tqdm(df_wiki_links['url'].values):\n",
    "    champion_details_dict[url] = extract_champion_details(url)\n",
    "df_url_details = pd.DataFrame.from_dict(champion_details_dict,orient='index')"
   ]
  },
  {
   "cell_type": "code",
   "execution_count": 13,
   "metadata": {},
   "outputs": [
    {
     "data": {
      "text/html": [
       "<div>\n",
       "<style scoped>\n",
       "    .dataframe tbody tr th:only-of-type {\n",
       "        vertical-align: middle;\n",
       "    }\n",
       "\n",
       "    .dataframe tbody tr th {\n",
       "        vertical-align: top;\n",
       "    }\n",
       "\n",
       "    .dataframe thead th {\n",
       "        text-align: right;\n",
       "    }\n",
       "</style>\n",
       "<table border=\"1\" class=\"dataframe\">\n",
       "  <thead>\n",
       "    <tr style=\"text-align: right;\">\n",
       "      <th></th>\n",
       "      <th>primary_class</th>\n",
       "      <th>secondary_class</th>\n",
       "      <th>ratings</th>\n",
       "    </tr>\n",
       "  </thead>\n",
       "  <tbody>\n",
       "    <tr>\n",
       "      <th>https://leagueoflegends.fandom.com/wiki/Aatrox/LoL</th>\n",
       "      <td>Fighter</td>\n",
       "      <td>Tank</td>\n",
       "      <td>{'Physical Damage': 3, 'Toughness': 3, 'Contro...</td>\n",
       "    </tr>\n",
       "    <tr>\n",
       "      <th>https://leagueoflegends.fandom.com/wiki/Ahri/LoL</th>\n",
       "      <td>Mage</td>\n",
       "      <td>Assassin</td>\n",
       "      <td>{'Magic Damage': 3, 'Toughness': 1, 'Control':...</td>\n",
       "    </tr>\n",
       "    <tr>\n",
       "      <th>https://leagueoflegends.fandom.com/wiki/Akali/LoL</th>\n",
       "      <td>Assassin</td>\n",
       "      <td>NaN</td>\n",
       "      <td>{'Physical Damage': 3, 'Toughness': 1, 'Contro...</td>\n",
       "    </tr>\n",
       "    <tr>\n",
       "      <th>https://leagueoflegends.fandom.com/wiki/Akshan/LoL</th>\n",
       "      <td>Marksman</td>\n",
       "      <td>Assassin</td>\n",
       "      <td>{'Physical Damage': 3, 'Toughness': 1, 'Contro...</td>\n",
       "    </tr>\n",
       "    <tr>\n",
       "      <th>https://leagueoflegends.fandom.com/wiki/Alistar/LoL</th>\n",
       "      <td>Tank</td>\n",
       "      <td>Support</td>\n",
       "      <td>{'Magic Damage': 1, 'Toughness': 3, 'Control':...</td>\n",
       "    </tr>\n",
       "  </tbody>\n",
       "</table>\n",
       "</div>"
      ],
      "text/plain": [
       "                                                   primary_class  \\\n",
       "https://leagueoflegends.fandom.com/wiki/Aatrox/LoL       Fighter   \n",
       "https://leagueoflegends.fandom.com/wiki/Ahri/LoL            Mage   \n",
       "https://leagueoflegends.fandom.com/wiki/Akali/LoL       Assassin   \n",
       "https://leagueoflegends.fandom.com/wiki/Akshan/LoL      Marksman   \n",
       "https://leagueoflegends.fandom.com/wiki/Alistar...          Tank   \n",
       "\n",
       "                                                   secondary_class  \\\n",
       "https://leagueoflegends.fandom.com/wiki/Aatrox/LoL            Tank   \n",
       "https://leagueoflegends.fandom.com/wiki/Ahri/LoL          Assassin   \n",
       "https://leagueoflegends.fandom.com/wiki/Akali/LoL              NaN   \n",
       "https://leagueoflegends.fandom.com/wiki/Akshan/LoL        Assassin   \n",
       "https://leagueoflegends.fandom.com/wiki/Alistar...         Support   \n",
       "\n",
       "                                                                                              ratings  \n",
       "https://leagueoflegends.fandom.com/wiki/Aatrox/LoL  {'Physical Damage': 3, 'Toughness': 3, 'Contro...  \n",
       "https://leagueoflegends.fandom.com/wiki/Ahri/LoL    {'Magic Damage': 3, 'Toughness': 1, 'Control':...  \n",
       "https://leagueoflegends.fandom.com/wiki/Akali/LoL   {'Physical Damage': 3, 'Toughness': 1, 'Contro...  \n",
       "https://leagueoflegends.fandom.com/wiki/Akshan/LoL  {'Physical Damage': 3, 'Toughness': 1, 'Contro...  \n",
       "https://leagueoflegends.fandom.com/wiki/Alistar...  {'Magic Damage': 1, 'Toughness': 3, 'Control':...  "
      ]
     },
     "metadata": {},
     "output_type": "display_data"
    }
   ],
   "source": [
    "display(df_url_details.head())\n",
    "df_url_details.to_csv('./temp/wiki_url_details.csv',index=False)"
   ]
  },
  {
   "cell_type": "markdown",
   "metadata": {},
   "source": [
    "### 2.3 Preprocess Champion Details Table"
   ]
  },
  {
   "cell_type": "code",
   "execution_count": 14,
   "metadata": {},
   "outputs": [],
   "source": [
    "df_url_details.reset_index(inplace=True)\n",
    "df_url_details.rename(columns={'index':'url'},inplace=True)"
   ]
  },
  {
   "cell_type": "code",
   "execution_count": 15,
   "metadata": {},
   "outputs": [],
   "source": [
    "df_details =  pd.merge(df_wiki_links, df_url_details, on=\"url\", how=\"inner\")"
   ]
  },
  {
   "cell_type": "code",
   "execution_count": 16,
   "metadata": {},
   "outputs": [],
   "source": [
    "df_details[['champion','primary_class','secondary_class','ratings']].to_csv('./preprocessed_data/wiki_champion_details.csv',index=False)"
   ]
  },
  {
   "cell_type": "markdown",
   "metadata": {},
   "source": [
    "## 3. Process and Upload"
   ]
  },
  {
   "cell_type": "code",
   "execution_count": 17,
   "metadata": {},
   "outputs": [],
   "source": [
    "def merge_classes(class1,class2):\n",
    "    if isinstance(class2,str):\n",
    "        return f'{class1}/{class2}'\n",
    "    else:\n",
    "        return class1"
   ]
  },
  {
   "cell_type": "code",
   "execution_count": 18,
   "metadata": {},
   "outputs": [],
   "source": [
    "preprocessed_data_dir = './preprocessed_data'\n",
    "processed_data_dir = './processed_data'"
   ]
  },
  {
   "cell_type": "code",
   "execution_count": 19,
   "metadata": {},
   "outputs": [],
   "source": [
    "df_champ_roles = pd.read_csv(f'{preprocessed_data_dir}/wiki_champ_roles.csv')\n",
    "df_champ_details = pd.read_csv(f'{preprocessed_data_dir}/wiki_champion_details.csv')"
   ]
  },
  {
   "cell_type": "code",
   "execution_count": 20,
   "metadata": {},
   "outputs": [],
   "source": [
    "# join detail and role tables\n",
    "df_champ_properties = pd.merge(df_champ_details,df_champ_roles[['champion','primary_role']],how='left',on='champion')\n",
    "df_champ_properties.rename(columns={'primary_role':'role'},inplace=True)"
   ]
  },
  {
   "cell_type": "code",
   "execution_count": 21,
   "metadata": {},
   "outputs": [],
   "source": [
    "# merge classes\n",
    "df_champ_properties['class'] = df_champ_properties.apply(lambda x: merge_classes(x['primary_class'],x['secondary_class']),axis=1)\n",
    "# keep selective columns\n",
    "df_champ_properties = df_champ_properties[['champion','class','primary_class','secondary_class','role','ratings']]\n",
    "\n",
    "# expand ratings into columns and replace na with 0\n",
    "df_ratings = df_champ_properties['ratings'].apply(lambda x: pd.Series(json.loads(x.replace(\"'\",'\"'))))\n",
    "df_ratings.replace(float('nan'),0,inplace=True)\n",
    "df_ratings.columns = ['physical_damage','tankiness','control','mobility','utility','magic_damage']\n",
    "df_champ_properties = pd.concat([df_champ_properties.drop(['ratings'], axis=1),df_ratings],axis=1)"
   ]
  },
  {
   "cell_type": "code",
   "execution_count": 27,
   "metadata": {},
   "outputs": [
    {
     "data": {
      "text/html": [
       "<div>\n",
       "<style scoped>\n",
       "    .dataframe tbody tr th:only-of-type {\n",
       "        vertical-align: middle;\n",
       "    }\n",
       "\n",
       "    .dataframe tbody tr th {\n",
       "        vertical-align: top;\n",
       "    }\n",
       "\n",
       "    .dataframe thead th {\n",
       "        text-align: right;\n",
       "    }\n",
       "</style>\n",
       "<table border=\"1\" class=\"dataframe\">\n",
       "  <thead>\n",
       "    <tr style=\"text-align: right;\">\n",
       "      <th></th>\n",
       "      <th>champion</th>\n",
       "      <th>class</th>\n",
       "      <th>primary_class</th>\n",
       "      <th>secondary_class</th>\n",
       "      <th>role</th>\n",
       "      <th>physical_damage</th>\n",
       "      <th>tankiness</th>\n",
       "      <th>control</th>\n",
       "      <th>mobility</th>\n",
       "      <th>utility</th>\n",
       "      <th>magic_damage</th>\n",
       "    </tr>\n",
       "  </thead>\n",
       "  <tbody>\n",
       "    <tr>\n",
       "      <th>0</th>\n",
       "      <td>Aatrox</td>\n",
       "      <td>Fighter/Tank</td>\n",
       "      <td>Fighter</td>\n",
       "      <td>Tank</td>\n",
       "      <td>Juggernaut</td>\n",
       "      <td>3.0</td>\n",
       "      <td>3.0</td>\n",
       "      <td>2.0</td>\n",
       "      <td>2.0</td>\n",
       "      <td>2.0</td>\n",
       "      <td>0.0</td>\n",
       "    </tr>\n",
       "    <tr>\n",
       "      <th>1</th>\n",
       "      <td>Ahri</td>\n",
       "      <td>Mage/Assassin</td>\n",
       "      <td>Mage</td>\n",
       "      <td>Assassin</td>\n",
       "      <td>Burst</td>\n",
       "      <td>0.0</td>\n",
       "      <td>1.0</td>\n",
       "      <td>2.0</td>\n",
       "      <td>3.0</td>\n",
       "      <td>1.0</td>\n",
       "      <td>3.0</td>\n",
       "    </tr>\n",
       "    <tr>\n",
       "      <th>2</th>\n",
       "      <td>Akali</td>\n",
       "      <td>Assassin</td>\n",
       "      <td>Assassin</td>\n",
       "      <td>NaN</td>\n",
       "      <td>Assassin</td>\n",
       "      <td>3.0</td>\n",
       "      <td>1.0</td>\n",
       "      <td>1.0</td>\n",
       "      <td>3.0</td>\n",
       "      <td>1.0</td>\n",
       "      <td>0.0</td>\n",
       "    </tr>\n",
       "    <tr>\n",
       "      <th>3</th>\n",
       "      <td>Akshan</td>\n",
       "      <td>Marksman/Assassin</td>\n",
       "      <td>Marksman</td>\n",
       "      <td>Assassin</td>\n",
       "      <td>Marksman</td>\n",
       "      <td>3.0</td>\n",
       "      <td>1.0</td>\n",
       "      <td>1.0</td>\n",
       "      <td>3.0</td>\n",
       "      <td>2.0</td>\n",
       "      <td>0.0</td>\n",
       "    </tr>\n",
       "    <tr>\n",
       "      <th>4</th>\n",
       "      <td>Alistar</td>\n",
       "      <td>Tank/Support</td>\n",
       "      <td>Tank</td>\n",
       "      <td>Support</td>\n",
       "      <td>Vanguard</td>\n",
       "      <td>0.0</td>\n",
       "      <td>3.0</td>\n",
       "      <td>3.0</td>\n",
       "      <td>1.0</td>\n",
       "      <td>2.0</td>\n",
       "      <td>1.0</td>\n",
       "    </tr>\n",
       "  </tbody>\n",
       "</table>\n",
       "</div>"
      ],
      "text/plain": [
       "  champion              class primary_class secondary_class        role  \\\n",
       "0   Aatrox       Fighter/Tank       Fighter            Tank  Juggernaut   \n",
       "1     Ahri      Mage/Assassin          Mage        Assassin       Burst   \n",
       "2    Akali           Assassin      Assassin             NaN    Assassin   \n",
       "3   Akshan  Marksman/Assassin      Marksman        Assassin    Marksman   \n",
       "4  Alistar       Tank/Support          Tank         Support    Vanguard   \n",
       "\n",
       "   physical_damage  tankiness  control  mobility  utility  magic_damage  \n",
       "0              3.0        3.0      2.0       2.0      2.0           0.0  \n",
       "1              0.0        1.0      2.0       3.0      1.0           3.0  \n",
       "2              3.0        1.0      1.0       3.0      1.0           0.0  \n",
       "3              3.0        1.0      1.0       3.0      2.0           0.0  \n",
       "4              0.0        3.0      3.0       1.0      2.0           1.0  "
      ]
     },
     "metadata": {},
     "output_type": "display_data"
    }
   ],
   "source": [
    "# display\n",
    "display(df_champ_properties.head())\n",
    "# save to local\n",
    "df_champ_properties.to_csv(f'{processed_data_dir}/champion_properties.csv',index=False)\n",
    "# upload to s3\n",
    "upload_df_to_s3(df_champ_properties,'peter-ff15-data/champion_properties.csv')"
   ]
  }
 ],
 "metadata": {
  "@webio": {
   "lastCommId": null,
   "lastKernelId": null
  },
  "kernelspec": {
   "display_name": "Python 3 (ipykernel)",
   "language": "python",
   "name": "python3"
  },
  "language_info": {
   "codemirror_mode": {
    "name": "ipython",
    "version": 3
   },
   "file_extension": ".py",
   "mimetype": "text/x-python",
   "name": "python",
   "nbconvert_exporter": "python",
   "pygments_lexer": "ipython3",
   "version": "3.9.7"
  }
 },
 "nbformat": 4,
 "nbformat_minor": 4
}
