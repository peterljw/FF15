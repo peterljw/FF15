{
 "cells": [
  {
   "cell_type": "code",
   "execution_count": null,
   "metadata": {},
   "outputs": [],
   "source": [
    "from utility import scraper\n",
    "from bs4 import BeautifulSoup as soup\n",
    "from tqdm.notebook import tqdm\n",
    "\n",
    "import pandas as pd\n",
    "import numpy as np\n",
    "import json\n",
    "\n",
    "import re\n",
    "import string\n",
    "\n",
    "from utility.s3_file_transfer import upload_df_to_s3"
   ]
  },
  {
   "cell_type": "markdown",
   "metadata": {},
   "source": [
    "## 1. Scrape Champion Roles (Fandom Wiki)\n",
    "- Updated when there's a new champion release\n",
    "- Can be updated manually"
   ]
  },
  {
   "cell_type": "code",
   "execution_count": null,
   "metadata": {},
   "outputs": [],
   "source": [
    "url = 'https://leagueoflegends.fandom.com/wiki/List_of_champions'\n",
    "wiki_champion_page_soup = scraper.get_page(url)\n",
    "champion_table = wiki_champion_page_soup.findAll('tbody')[1]\n",
    "champion_rows = champion_table.findAll('tr',recursive=False)[1:]"
   ]
  },
  {
   "cell_type": "code",
   "execution_count": null,
   "metadata": {},
   "outputs": [],
   "source": [
    "champion_name_list,primary_role_list,secondary_role_list  = list(),list(),list()\n",
    "\n",
    "for champion_row in champion_rows:\n",
    "    champion_name_list.append(champion_row.find('td')['data-sort-value'])\n",
    "    primary_role_list.append(champion_row.findAll('td')[1]['data-sort-value'])\n",
    "    secondary_role_list.append(champion_row.findAll('td')[2]['data-sort-value'])"
   ]
  },
  {
   "cell_type": "code",
   "execution_count": null,
   "metadata": {},
   "outputs": [],
   "source": [
    "df_roles = pd.DataFrame({'champion':champion_name_list,\n",
    "                         'primary_role':primary_role_list,\n",
    "                         'secondary_role':secondary_role_list})"
   ]
  },
  {
   "cell_type": "code",
   "execution_count": null,
   "metadata": {},
   "outputs": [],
   "source": [
    "df_roles.to_csv('./temp/wiki_champ_roles.csv',index=False)\n",
    "df_roles.to_csv('./preprocessed_data/wiki_champ_roles.csv',index=False)"
   ]
  },
  {
   "cell_type": "markdown",
   "metadata": {},
   "source": [
    "## 2. Scrape Champion Details (Fandom Wiki)\n",
    "- Updated when there's a new champion release\n",
    "- Can be updated manually"
   ]
  },
  {
   "cell_type": "markdown",
   "metadata": {},
   "source": [
    "### 2.1 Scrape Champion Catalog Page\n",
    "- Champion name\n",
    "- Champion page url"
   ]
  },
  {
   "cell_type": "code",
   "execution_count": null,
   "metadata": {},
   "outputs": [],
   "source": [
    "url = 'https://leagueoflegends.fandom.com/wiki/List_of_champions'\n",
    "wiki_champion_page_soup = scraper.get_page(url)\n",
    "champion_table = wiki_champion_page_soup.findAll('tbody')[1]\n",
    "champion_rows = champion_table.findAll('tr',recursive=False)[1:]"
   ]
  },
  {
   "cell_type": "code",
   "execution_count": null,
   "metadata": {},
   "outputs": [],
   "source": [
    "champion_name_list,champion_url_list  = list(),list()\n",
    "\n",
    "for champion_row in champion_rows:\n",
    "    champion_name_list.append(champion_row.find('td')['data-sort-value'])\n",
    "    url = champion_row.find('td').find('a',href=True)['href']\n",
    "    champion_url_list.append(f'https://leagueoflegends.fandom.com{url}')"
   ]
  },
  {
   "cell_type": "code",
   "execution_count": null,
   "metadata": {},
   "outputs": [],
   "source": [
    "df_wiki_links = pd.DataFrame({'champion':champion_name_list,\n",
    "                              'url':champion_url_list})"
   ]
  },
  {
   "cell_type": "code",
   "execution_count": null,
   "metadata": {},
   "outputs": [],
   "source": [
    "df_wiki_links.to_csv('./temp/wiki_champ_urls.csv',index=False)"
   ]
  },
  {
   "cell_type": "markdown",
   "metadata": {},
   "source": [
    "### 2.2 Scrape Indivdual Champion Page"
   ]
  },
  {
   "cell_type": "code",
   "execution_count": null,
   "metadata": {},
   "outputs": [],
   "source": [
    "df_wiki_links = pd.read_csv('./temp/wiki_champ_urls.csv')"
   ]
  },
  {
   "cell_type": "code",
   "execution_count": null,
   "metadata": {},
   "outputs": [],
   "source": [
    "def extract_champion_details(url):\n",
    "    for i in range(3):\n",
    "        try:\n",
    "            champ_page_soup = scraper.get_page(url)\n",
    "\n",
    "            # extract primary and secondary classes\n",
    "            classes = champ_page_soup.find('div',{'data-source':'legacy'}).find('div').findAll('span')\n",
    "            primary_class = classes[0].findAll('a')[1].text.strip()\n",
    "            try:\n",
    "                secondary_class = classes[1].findAll('a')[1].text.strip()\n",
    "            except:\n",
    "                secondary_class = float('nan')\n",
    "\n",
    "            # extract adaptive type\n",
    "            adaptivetype = champ_page_soup.find('div',{'data-source':'adaptivetype'}).find('div').find('span').findAll('a')[0].text.strip()\n",
    "\n",
    "            # extract rating distributions\n",
    "            values = champ_page_soup.find('div',{'class':'stat-wheel'})['data-values'].split(';')\n",
    "            values = pd.Series(values).apply(int)\n",
    "            ratings = [element.text.strip() for element in champ_page_soup.find('div',{'class':'stat-wheel'}).findAll('th')]\n",
    "            ratings[0] = f'{adaptivetype} {ratings[0]}'\n",
    "            rating_dist = dict(zip(ratings,values))\n",
    "\n",
    "            details_dict = {'primary_class':primary_class,'secondary_class':secondary_class,'ratings':rating_dist}\n",
    "            return details_dict\n",
    "        except:\n",
    "            pass\n",
    "    print(f'Error{url}')\n",
    "    details_dict = {'primary_class':float('nan'),'secondary_class':float('nan'),'ratings':float('nan')}\n",
    "    return details_dict"
   ]
  },
  {
   "cell_type": "code",
   "execution_count": null,
   "metadata": {
    "scrolled": true
   },
   "outputs": [],
   "source": [
    "champion_details_dict = dict()\n",
    "for url in tqdm(df_wiki_links['url'].values):\n",
    "    champion_details_dict[url] = extract_champion_details(url)\n",
    "df_url_details = pd.DataFrame.from_dict(champion_details_dict,orient='index')"
   ]
  },
  {
   "cell_type": "code",
   "execution_count": null,
   "metadata": {},
   "outputs": [],
   "source": [
    "df_url_details.to_csv('./temp/wiki_url_details.csv',index=False)"
   ]
  },
  {
   "cell_type": "markdown",
   "metadata": {},
   "source": [
    "### 2.3 Preprocess Champion Details Table"
   ]
  },
  {
   "cell_type": "code",
   "execution_count": null,
   "metadata": {},
   "outputs": [],
   "source": [
    "df_url_details.reset_index(inplace=True)\n",
    "df_url_details.rename(columns={'index':'url'},inplace=True)"
   ]
  },
  {
   "cell_type": "code",
   "execution_count": null,
   "metadata": {},
   "outputs": [],
   "source": [
    "df_details =  pd.merge(df_wiki_links, df_url_details, on=\"url\", how=\"inner\")"
   ]
  },
  {
   "cell_type": "code",
   "execution_count": null,
   "metadata": {},
   "outputs": [],
   "source": [
    "df_details[['champion','primary_class','secondary_class','ratings']].to_csv('./preprocessed_data/wiki_champion_details.csv',index=False)"
   ]
  },
  {
   "cell_type": "markdown",
   "metadata": {},
   "source": [
    "## 3. Process and Upload"
   ]
  },
  {
   "cell_type": "code",
   "execution_count": null,
   "metadata": {},
   "outputs": [],
   "source": [
    "def merge_classes(class1,class2):\n",
    "    if isinstance(class2,str):\n",
    "        return f'{class1}/{class2}'\n",
    "    else:\n",
    "        return class1"
   ]
  },
  {
   "cell_type": "code",
   "execution_count": null,
   "metadata": {},
   "outputs": [],
   "source": [
    "preprocessed_data_dir = './preprocessed_data'\n",
    "processed_data_dir = './processed_data'"
   ]
  },
  {
   "cell_type": "code",
   "execution_count": null,
   "metadata": {},
   "outputs": [],
   "source": [
    "df_champ_roles = pd.read_csv(f'{preprocessed_data_dir}/wiki_champ_roles.csv')\n",
    "df_champ_details = pd.read_csv(f'{preprocessed_data_dir}/wiki_champion_details.csv')"
   ]
  },
  {
   "cell_type": "code",
   "execution_count": null,
   "metadata": {},
   "outputs": [],
   "source": [
    "# join detail and role tables\n",
    "df_champ_properties = pd.merge(df_champ_details,df_champ_roles[['champion','primary_role']],how='left',on='champion')\n",
    "df_champ_properties.rename(columns={'primary_role':'role'},inplace=True)"
   ]
  },
  {
   "cell_type": "code",
   "execution_count": null,
   "metadata": {},
   "outputs": [],
   "source": [
    "# merge classes\n",
    "df_champ_properties['class'] = df_champ_properties.apply(lambda x: merge_classes(x['primary_class'],x['secondary_class']),axis=1)\n",
    "# keep selective columns\n",
    "df_champ_properties = df_champ_properties[['champion','class','primary_class','secondary_class','role','ratings']]\n",
    "\n",
    "# expand ratings into columns and replace na with 0\n",
    "df_ratings = df_champ_properties['ratings'].apply(lambda x: pd.Series(json.loads(x.replace(\"'\",'\"'))))\n",
    "df_ratings.replace(float('nan'),0,inplace=True)\n",
    "df_ratings.columns = ['physical_damage','tankiness','control','mobility','utility','magic_damage']\n",
    "df_champ_properties = pd.concat([df_champ_properties.drop(['ratings'], axis=1),df_ratings],axis=1)"
   ]
  },
  {
   "cell_type": "code",
   "execution_count": null,
   "metadata": {
    "scrolled": true
   },
   "outputs": [],
   "source": [
    "df_champ_properties.head()"
   ]
  },
  {
   "cell_type": "code",
   "execution_count": null,
   "metadata": {},
   "outputs": [],
   "source": [
    "# save to local\n",
    "df_champ_properties.to_csv(f'{processed_data_dir}/champion_properties.csv',index=False)\n",
    "# upload to s3\n",
    "# upload_df_to_s3(df_champ_properties,'peter-ff15-data/champion_properties.csv')"
   ]
  }
 ],
 "metadata": {
  "@webio": {
   "lastCommId": null,
   "lastKernelId": null
  },
  "kernelspec": {
   "display_name": "Python 3 (ipykernel)",
   "language": "python",
   "name": "python3"
  },
  "language_info": {
   "codemirror_mode": {
    "name": "ipython",
    "version": 3
   },
   "file_extension": ".py",
   "mimetype": "text/x-python",
   "name": "python",
   "nbconvert_exporter": "python",
   "pygments_lexer": "ipython3",
   "version": "3.9.7"
  }
 },
 "nbformat": 4,
 "nbformat_minor": 4
}
