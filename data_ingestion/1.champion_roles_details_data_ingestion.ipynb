{
 "cells": [
  {
   "cell_type": "code",
   "execution_count": 1,
   "metadata": {},
   "outputs": [],
   "source": [
    "from utility import scraper\n",
    "from bs4 import BeautifulSoup as soup\n",
    "from tqdm.notebook import tqdm\n",
    "\n",
    "import pandas as pd\n",
    "import numpy as np\n",
    "import json\n",
    "\n",
    "import re\n",
    "import string\n",
    "\n",
    "from utility.s3_file_transfer import upload_df_to_s3"
   ]
  },
  {
   "cell_type": "markdown",
   "metadata": {},
   "source": [
    "## 1. Scrape Champion Roles (Fandom Wiki)\n",
    "- Updated when there's a new champion release\n",
    "- Can be updated manually"
   ]
  },
  {
   "cell_type": "code",
   "execution_count": 2,
   "metadata": {},
   "outputs": [
    {
     "name": "stdout",
     "output_type": "stream",
     "text": [
      "making html request:https://leagueoflegends.fandom.com/wiki/List_of_champions\n"
     ]
    }
   ],
   "source": [
    "url = 'https://leagueoflegends.fandom.com/wiki/List_of_champions'\n",
    "wiki_champion_page_soup = scraper.get_page(url)\n",
    "champion_table = wiki_champion_page_soup.findAll('tbody')[1]\n",
    "champion_rows = champion_table.findAll('tr',recursive=False)[1:]"
   ]
  },
  {
   "cell_type": "code",
   "execution_count": 3,
   "metadata": {},
   "outputs": [],
   "source": [
    "champion_name_list,primary_role_list,secondary_role_list  = list(),list(),list()\n",
    "\n",
    "for champion_row in champion_rows:\n",
    "    champion_name_list.append(champion_row.find('td')['data-sort-value'])\n",
    "    primary_role_list.append(champion_row.findAll('td')[1]['data-sort-value'])\n",
    "    secondary_role_list.append(champion_row.findAll('td')[2]['data-sort-value'])"
   ]
  },
  {
   "cell_type": "code",
   "execution_count": 4,
   "metadata": {},
   "outputs": [],
   "source": [
    "df_roles = pd.DataFrame({'champion':champion_name_list,\n",
    "                         'primary_role':primary_role_list,\n",
    "                         'secondary_role':secondary_role_list})"
   ]
  },
  {
   "cell_type": "code",
   "execution_count": 5,
   "metadata": {},
   "outputs": [],
   "source": [
    "df_roles.to_csv('./temp/wiki_champ_roles.csv',index=False)\n",
    "df_roles.to_csv('./preprocessed_data/wiki_champ_roles.csv',index=False)"
   ]
  },
  {
   "cell_type": "markdown",
   "metadata": {},
   "source": [
    "## 2. Scrape Champion Details (Fandom Wiki)\n",
    "- Updated when there's a new champion release\n",
    "- Can be updated manually"
   ]
  },
  {
   "cell_type": "markdown",
   "metadata": {},
   "source": [
    "### 2.1 Scrape Champion Catalog Page\n",
    "- Champion name\n",
    "- Champion page url"
   ]
  },
  {
   "cell_type": "code",
   "execution_count": 6,
   "metadata": {},
   "outputs": [
    {
     "name": "stdout",
     "output_type": "stream",
     "text": [
      "making html request:https://leagueoflegends.fandom.com/wiki/List_of_champions\n"
     ]
    }
   ],
   "source": [
    "url = 'https://leagueoflegends.fandom.com/wiki/List_of_champions'\n",
    "wiki_champion_page_soup = scraper.get_page(url)\n",
    "champion_table = wiki_champion_page_soup.findAll('tbody')[1]\n",
    "champion_rows = champion_table.findAll('tr',recursive=False)[1:]"
   ]
  },
  {
   "cell_type": "code",
   "execution_count": 7,
   "metadata": {},
   "outputs": [],
   "source": [
    "champion_name_list,champion_url_list  = list(),list()\n",
    "\n",
    "for champion_row in champion_rows:\n",
    "    champion_name_list.append(champion_row.find('td')['data-sort-value'])\n",
    "    url = champion_row.find('td').find('a',href=True)['href']\n",
    "    champion_url_list.append(f'https://leagueoflegends.fandom.com{url}')"
   ]
  },
  {
   "cell_type": "code",
   "execution_count": 8,
   "metadata": {},
   "outputs": [],
   "source": [
    "df_wiki_links = pd.DataFrame({'champion':champion_name_list,\n",
    "                              'url':champion_url_list})"
   ]
  },
  {
   "cell_type": "code",
   "execution_count": 9,
   "metadata": {},
   "outputs": [],
   "source": [
    "df_wiki_links.to_csv('./temp/wiki_champ_urls.csv',index=False)"
   ]
  },
  {
   "cell_type": "markdown",
   "metadata": {},
   "source": [
    "### 2.2 Scrape Indivdual Champion Page"
   ]
  },
  {
   "cell_type": "code",
   "execution_count": 10,
   "metadata": {},
   "outputs": [],
   "source": [
    "df_wiki_links = pd.read_csv('./temp/wiki_champ_urls.csv')"
   ]
  },
  {
   "cell_type": "code",
   "execution_count": 11,
   "metadata": {},
   "outputs": [],
   "source": [
    "def extract_champion_details(url):\n",
    "    for i in range(3):\n",
    "        try:\n",
    "            champ_page_soup = scraper.get_page(url)\n",
    "\n",
    "            # extract primary and secondary classes\n",
    "            classes = champ_page_soup.find('div',{'data-source':'legacy'}).find('div').findAll('span')\n",
    "            primary_class = classes[0].findAll('a')[1].text.strip()\n",
    "            try:\n",
    "                secondary_class = classes[1].findAll('a')[1].text.strip()\n",
    "            except:\n",
    "                secondary_class = float('nan')\n",
    "\n",
    "            # extract adaptive type\n",
    "            adaptivetype = champ_page_soup.find('div',{'data-source':'adaptivetype'}).find('div').find('span').findAll('a')[0].text.strip()\n",
    "\n",
    "            # extract rating distributions\n",
    "            values = champ_page_soup.find('div',{'class':'stat-wheel'})['data-values'].split(';')\n",
    "            values = pd.Series(values).apply(int)\n",
    "            ratings = [element.text.strip() for element in champ_page_soup.find('div',{'class':'stat-wheel'}).findAll('th')]\n",
    "            ratings[0] = f'{adaptivetype} {ratings[0]}'\n",
    "            rating_dist = dict(zip(ratings,values))\n",
    "\n",
    "            details_dict = {'primary_class':primary_class,'secondary_class':secondary_class,'ratings':rating_dist}\n",
    "            return details_dict\n",
    "        except:\n",
    "            pass\n",
    "    print(f'Error{url}')\n",
    "    details_dict = {'primary_class':float('nan'),'secondary_class':float('nan'),'ratings':float('nan')}\n",
    "    return details_dict"
   ]
  },
  {
   "cell_type": "code",
   "execution_count": 12,
   "metadata": {
    "scrolled": true
   },
   "outputs": [
    {
     "data": {
      "application/vnd.jupyter.widget-view+json": {
       "model_id": "514de2a8344749a4aaa537984899318f",
       "version_major": 2,
       "version_minor": 0
      },
      "text/plain": [
       "  0%|          | 0/154 [00:00<?, ?it/s]"
      ]
     },
     "metadata": {},
     "output_type": "display_data"
    },
    {
     "name": "stdout",
     "output_type": "stream",
     "text": [
      "making html request:https://leagueoflegends.fandom.com/wiki/Aatrox\n",
      "making html request:https://leagueoflegends.fandom.com/wiki/Ahri\n",
      "making html request:https://leagueoflegends.fandom.com/wiki/Akali\n",
      "making html request:https://leagueoflegends.fandom.com/wiki/Alistar\n",
      "making html request:https://leagueoflegends.fandom.com/wiki/Amumu\n",
      "making html request:https://leagueoflegends.fandom.com/wiki/Anivia\n",
      "making html request:https://leagueoflegends.fandom.com/wiki/Annie\n",
      "making html request:https://leagueoflegends.fandom.com/wiki/Aphelios\n",
      "making html request:https://leagueoflegends.fandom.com/wiki/Ashe\n",
      "making html request:https://leagueoflegends.fandom.com/wiki/Aurelion_Sol\n",
      "making html request:https://leagueoflegends.fandom.com/wiki/Azir\n",
      "making html request:https://leagueoflegends.fandom.com/wiki/Bard\n",
      "making html request:https://leagueoflegends.fandom.com/wiki/Blitzcrank\n",
      "making html request:https://leagueoflegends.fandom.com/wiki/Brand\n",
      "making html request:https://leagueoflegends.fandom.com/wiki/Braum\n",
      "making html request:https://leagueoflegends.fandom.com/wiki/Caitlyn\n",
      "making html request:https://leagueoflegends.fandom.com/wiki/Camille\n",
      "making html request:https://leagueoflegends.fandom.com/wiki/Cassiopeia\n",
      "making html request:https://leagueoflegends.fandom.com/wiki/Cho%27Gath\n",
      "making html request:https://leagueoflegends.fandom.com/wiki/Corki\n",
      "making html request:https://leagueoflegends.fandom.com/wiki/Darius\n",
      "making html request:https://leagueoflegends.fandom.com/wiki/Diana\n",
      "making html request:https://leagueoflegends.fandom.com/wiki/Dr._Mundo\n",
      "making html request:https://leagueoflegends.fandom.com/wiki/Draven\n",
      "making html request:https://leagueoflegends.fandom.com/wiki/Ekko\n",
      "making html request:https://leagueoflegends.fandom.com/wiki/Elise\n",
      "making html request:https://leagueoflegends.fandom.com/wiki/Evelynn\n",
      "making html request:https://leagueoflegends.fandom.com/wiki/Ezreal\n",
      "making html request:https://leagueoflegends.fandom.com/wiki/Fiddlesticks\n",
      "making html request:https://leagueoflegends.fandom.com/wiki/Fiora\n",
      "making html request:https://leagueoflegends.fandom.com/wiki/Fizz\n",
      "making html request:https://leagueoflegends.fandom.com/wiki/Galio\n",
      "making html request:https://leagueoflegends.fandom.com/wiki/Gangplank\n",
      "making html request:https://leagueoflegends.fandom.com/wiki/Garen\n",
      "making html request:https://leagueoflegends.fandom.com/wiki/Gnar\n",
      "making html request:https://leagueoflegends.fandom.com/wiki/Gragas\n",
      "making html request:https://leagueoflegends.fandom.com/wiki/Graves\n",
      "making html request:https://leagueoflegends.fandom.com/wiki/Hecarim\n",
      "making html request:https://leagueoflegends.fandom.com/wiki/Heimerdinger\n",
      "making html request:https://leagueoflegends.fandom.com/wiki/Illaoi\n",
      "making html request:https://leagueoflegends.fandom.com/wiki/Irelia\n",
      "making html request:https://leagueoflegends.fandom.com/wiki/Ivern\n",
      "making html request:https://leagueoflegends.fandom.com/wiki/Janna\n",
      "making html request:https://leagueoflegends.fandom.com/wiki/Jarvan_IV\n",
      "making html request:https://leagueoflegends.fandom.com/wiki/Jax\n",
      "making html request:https://leagueoflegends.fandom.com/wiki/Jayce\n",
      "making html request:https://leagueoflegends.fandom.com/wiki/Jhin\n",
      "making html request:https://leagueoflegends.fandom.com/wiki/Jinx\n",
      "making html request:https://leagueoflegends.fandom.com/wiki/Kai%27Sa\n",
      "making html request:https://leagueoflegends.fandom.com/wiki/Kalista\n",
      "making html request:https://leagueoflegends.fandom.com/wiki/Karma\n",
      "making html request:https://leagueoflegends.fandom.com/wiki/Karthus\n",
      "making html request:https://leagueoflegends.fandom.com/wiki/Kassadin\n",
      "making html request:https://leagueoflegends.fandom.com/wiki/Katarina\n",
      "making html request:https://leagueoflegends.fandom.com/wiki/Kayle\n",
      "making html request:https://leagueoflegends.fandom.com/wiki/Kayn\n",
      "making html request:https://leagueoflegends.fandom.com/wiki/Kennen\n",
      "making html request:https://leagueoflegends.fandom.com/wiki/Kha%27Zix\n",
      "making html request:https://leagueoflegends.fandom.com/wiki/Kindred\n",
      "making html request:https://leagueoflegends.fandom.com/wiki/Kled\n",
      "making html request:https://leagueoflegends.fandom.com/wiki/Kog%27Maw\n",
      "making html request:https://leagueoflegends.fandom.com/wiki/LeBlanc\n",
      "making html request:https://leagueoflegends.fandom.com/wiki/Lee_Sin\n",
      "making html request:https://leagueoflegends.fandom.com/wiki/Leona\n",
      "making html request:https://leagueoflegends.fandom.com/wiki/Lillia\n",
      "making html request:https://leagueoflegends.fandom.com/wiki/Lissandra\n",
      "making html request:https://leagueoflegends.fandom.com/wiki/Lucian\n",
      "making html request:https://leagueoflegends.fandom.com/wiki/Lulu\n",
      "making html request:https://leagueoflegends.fandom.com/wiki/Lux\n",
      "making html request:https://leagueoflegends.fandom.com/wiki/Malphite\n",
      "making html request:https://leagueoflegends.fandom.com/wiki/Malzahar\n",
      "making html request:https://leagueoflegends.fandom.com/wiki/Maokai\n",
      "making html request:https://leagueoflegends.fandom.com/wiki/Master_Yi\n",
      "making html request:https://leagueoflegends.fandom.com/wiki/Miss_Fortune\n",
      "making html request:https://leagueoflegends.fandom.com/wiki/Mordekaiser\n",
      "making html request:https://leagueoflegends.fandom.com/wiki/Morgana\n",
      "making html request:https://leagueoflegends.fandom.com/wiki/Nami\n",
      "making html request:https://leagueoflegends.fandom.com/wiki/Nasus\n",
      "making html request:https://leagueoflegends.fandom.com/wiki/Nautilus\n",
      "making html request:https://leagueoflegends.fandom.com/wiki/Neeko\n",
      "making html request:https://leagueoflegends.fandom.com/wiki/Nidalee\n",
      "making html request:https://leagueoflegends.fandom.com/wiki/Nocturne\n",
      "making html request:https://leagueoflegends.fandom.com/wiki/Nunu_%26_Willump\n",
      "making html request:https://leagueoflegends.fandom.com/wiki/Olaf\n",
      "making html request:https://leagueoflegends.fandom.com/wiki/Orianna\n",
      "making html request:https://leagueoflegends.fandom.com/wiki/Ornn\n",
      "making html request:https://leagueoflegends.fandom.com/wiki/Pantheon\n",
      "making html request:https://leagueoflegends.fandom.com/wiki/Poppy\n",
      "making html request:https://leagueoflegends.fandom.com/wiki/Pyke\n",
      "making html request:https://leagueoflegends.fandom.com/wiki/Qiyana\n",
      "making html request:https://leagueoflegends.fandom.com/wiki/Quinn\n",
      "making html request:https://leagueoflegends.fandom.com/wiki/Rakan\n",
      "making html request:https://leagueoflegends.fandom.com/wiki/Rammus\n",
      "making html request:https://leagueoflegends.fandom.com/wiki/Rek%27Sai\n",
      "making html request:https://leagueoflegends.fandom.com/wiki/Rell\n",
      "making html request:https://leagueoflegends.fandom.com/wiki/Renekton\n",
      "making html request:https://leagueoflegends.fandom.com/wiki/Rengar\n",
      "making html request:https://leagueoflegends.fandom.com/wiki/Riven\n",
      "making html request:https://leagueoflegends.fandom.com/wiki/Rumble\n",
      "making html request:https://leagueoflegends.fandom.com/wiki/Ryze\n",
      "making html request:https://leagueoflegends.fandom.com/wiki/Samira\n",
      "making html request:https://leagueoflegends.fandom.com/wiki/Sejuani\n",
      "making html request:https://leagueoflegends.fandom.com/wiki/Senna\n",
      "making html request:https://leagueoflegends.fandom.com/wiki/Seraphine\n",
      "making html request:https://leagueoflegends.fandom.com/wiki/Sett\n",
      "making html request:https://leagueoflegends.fandom.com/wiki/Shaco\n",
      "making html request:https://leagueoflegends.fandom.com/wiki/Shen\n",
      "making html request:https://leagueoflegends.fandom.com/wiki/Shyvana\n",
      "making html request:https://leagueoflegends.fandom.com/wiki/Singed\n",
      "making html request:https://leagueoflegends.fandom.com/wiki/Sion\n",
      "making html request:https://leagueoflegends.fandom.com/wiki/Sivir\n",
      "making html request:https://leagueoflegends.fandom.com/wiki/Skarner\n",
      "making html request:https://leagueoflegends.fandom.com/wiki/Sona\n",
      "making html request:https://leagueoflegends.fandom.com/wiki/Soraka\n",
      "making html request:https://leagueoflegends.fandom.com/wiki/Swain\n",
      "making html request:https://leagueoflegends.fandom.com/wiki/Sylas\n",
      "making html request:https://leagueoflegends.fandom.com/wiki/Syndra\n",
      "making html request:https://leagueoflegends.fandom.com/wiki/Tahm_Kench\n",
      "making html request:https://leagueoflegends.fandom.com/wiki/Taliyah\n",
      "making html request:https://leagueoflegends.fandom.com/wiki/Talon\n",
      "making html request:https://leagueoflegends.fandom.com/wiki/Taric\n",
      "making html request:https://leagueoflegends.fandom.com/wiki/Teemo\n"
     ]
    },
    {
     "name": "stdout",
     "output_type": "stream",
     "text": [
      "making html request:https://leagueoflegends.fandom.com/wiki/Thresh\n",
      "making html request:https://leagueoflegends.fandom.com/wiki/Tristana\n",
      "making html request:https://leagueoflegends.fandom.com/wiki/Trundle\n",
      "making html request:https://leagueoflegends.fandom.com/wiki/Tryndamere\n",
      "making html request:https://leagueoflegends.fandom.com/wiki/Twisted_Fate\n",
      "making html request:https://leagueoflegends.fandom.com/wiki/Twitch\n",
      "making html request:https://leagueoflegends.fandom.com/wiki/Udyr\n",
      "making html request:https://leagueoflegends.fandom.com/wiki/Urgot\n",
      "making html request:https://leagueoflegends.fandom.com/wiki/Varus\n",
      "making html request:https://leagueoflegends.fandom.com/wiki/Vayne\n",
      "making html request:https://leagueoflegends.fandom.com/wiki/Veigar\n",
      "making html request:https://leagueoflegends.fandom.com/wiki/Vel%27Koz\n",
      "making html request:https://leagueoflegends.fandom.com/wiki/Vi\n",
      "making html request:https://leagueoflegends.fandom.com/wiki/Viego\n",
      "making html request:https://leagueoflegends.fandom.com/wiki/Viktor\n",
      "making html request:https://leagueoflegends.fandom.com/wiki/Vladimir\n",
      "making html request:https://leagueoflegends.fandom.com/wiki/Volibear\n",
      "making html request:https://leagueoflegends.fandom.com/wiki/Warwick\n",
      "making html request:https://leagueoflegends.fandom.com/wiki/Wukong\n",
      "making html request:https://leagueoflegends.fandom.com/wiki/Xayah\n",
      "making html request:https://leagueoflegends.fandom.com/wiki/Xerath\n",
      "making html request:https://leagueoflegends.fandom.com/wiki/Xin_Zhao\n",
      "making html request:https://leagueoflegends.fandom.com/wiki/Yasuo\n",
      "making html request:https://leagueoflegends.fandom.com/wiki/Yone\n",
      "making html request:https://leagueoflegends.fandom.com/wiki/Yorick\n",
      "making html request:https://leagueoflegends.fandom.com/wiki/Yuumi\n",
      "making html request:https://leagueoflegends.fandom.com/wiki/Zac\n",
      "making html request:https://leagueoflegends.fandom.com/wiki/Zed\n",
      "making html request:https://leagueoflegends.fandom.com/wiki/Ziggs\n",
      "making html request:https://leagueoflegends.fandom.com/wiki/Zilean\n",
      "making html request:https://leagueoflegends.fandom.com/wiki/Zoe\n",
      "making html request:https://leagueoflegends.fandom.com/wiki/Zyra\n"
     ]
    }
   ],
   "source": [
    "champion_details_dict = dict()\n",
    "for url in tqdm(df_wiki_links['url'].values):\n",
    "    champion_details_dict[url] = extract_champion_details(url)\n",
    "df_url_details = pd.DataFrame.from_dict(champion_details_dict,orient='index')"
   ]
  },
  {
   "cell_type": "code",
   "execution_count": 13,
   "metadata": {},
   "outputs": [],
   "source": [
    "df_url_details.to_csv('./temp/wiki_url_details.csv',index=False)"
   ]
  },
  {
   "cell_type": "markdown",
   "metadata": {},
   "source": [
    "### 2.3 Preprocess Champion Details Table"
   ]
  },
  {
   "cell_type": "code",
   "execution_count": 14,
   "metadata": {},
   "outputs": [],
   "source": [
    "df_url_details.reset_index(inplace=True)\n",
    "df_url_details.rename(columns={'index':'url'},inplace=True)"
   ]
  },
  {
   "cell_type": "code",
   "execution_count": 15,
   "metadata": {},
   "outputs": [],
   "source": [
    "df_details =  pd.merge(df_wiki_links, df_url_details, on=\"url\", how=\"inner\")"
   ]
  },
  {
   "cell_type": "code",
   "execution_count": 16,
   "metadata": {},
   "outputs": [],
   "source": [
    "df_details[['champion','primary_class','secondary_class','ratings']].to_csv('./preprocessed_data/wiki_champion_details.csv',index=False)"
   ]
  },
  {
   "cell_type": "markdown",
   "metadata": {},
   "source": [
    "## 3. Process and Upload"
   ]
  },
  {
   "cell_type": "code",
   "execution_count": 17,
   "metadata": {},
   "outputs": [],
   "source": [
    "def merge_classes(class1,class2):\n",
    "    if isinstance(class2,str):\n",
    "        return f'{class1}/{class2}'\n",
    "    else:\n",
    "        return class1"
   ]
  },
  {
   "cell_type": "code",
   "execution_count": 18,
   "metadata": {},
   "outputs": [],
   "source": [
    "preprocessed_data_dir = './preprocessed_data'\n",
    "processed_data_dir = './processed_data'"
   ]
  },
  {
   "cell_type": "code",
   "execution_count": 19,
   "metadata": {},
   "outputs": [],
   "source": [
    "df_champ_roles = pd.read_csv(f'{preprocessed_data_dir}/wiki_champ_roles.csv')\n",
    "df_champ_details = pd.read_csv(f'{preprocessed_data_dir}/wiki_champion_details.csv')"
   ]
  },
  {
   "cell_type": "code",
   "execution_count": 20,
   "metadata": {},
   "outputs": [],
   "source": [
    "# join detail and role tables\n",
    "df_champ_properties = pd.merge(df_champ_details,df_champ_roles[['champion','primary_role']],how='left',on='champion')\n",
    "df_champ_properties.rename(columns={'primary_role':'role'},inplace=True)"
   ]
  },
  {
   "cell_type": "code",
   "execution_count": 21,
   "metadata": {},
   "outputs": [],
   "source": [
    "# merge classes\n",
    "df_champ_properties['class'] = df_champ_properties.apply(lambda x: merge_classes(x['primary_class'],x['secondary_class']),axis=1)\n",
    "# keep selective columns\n",
    "df_champ_properties = df_champ_properties[['champion','class','primary_class','secondary_class','role','ratings']]\n",
    "\n",
    "# expand ratings into columns and replace na with 0\n",
    "df_ratings = df_champ_properties['ratings'].apply(lambda x: pd.Series(json.loads(x.replace(\"'\",'\"'))))\n",
    "df_ratings.replace(float('nan'),0,inplace=True)\n",
    "df_ratings.columns = ['physical_damage','tankiness','control','mobility','utility','magic_damage']\n",
    "df_champ_properties = pd.concat([df_champ_properties.drop(['ratings'], axis=1),df_ratings],axis=1)"
   ]
  },
  {
   "cell_type": "code",
   "execution_count": 22,
   "metadata": {
    "scrolled": true
   },
   "outputs": [
    {
     "data": {
      "text/html": [
       "<div>\n",
       "<style scoped>\n",
       "    .dataframe tbody tr th:only-of-type {\n",
       "        vertical-align: middle;\n",
       "    }\n",
       "\n",
       "    .dataframe tbody tr th {\n",
       "        vertical-align: top;\n",
       "    }\n",
       "\n",
       "    .dataframe thead th {\n",
       "        text-align: right;\n",
       "    }\n",
       "</style>\n",
       "<table border=\"1\" class=\"dataframe\">\n",
       "  <thead>\n",
       "    <tr style=\"text-align: right;\">\n",
       "      <th></th>\n",
       "      <th>champion</th>\n",
       "      <th>class</th>\n",
       "      <th>primary_class</th>\n",
       "      <th>secondary_class</th>\n",
       "      <th>role</th>\n",
       "      <th>physical_damage</th>\n",
       "      <th>tankiness</th>\n",
       "      <th>control</th>\n",
       "      <th>mobility</th>\n",
       "      <th>utility</th>\n",
       "      <th>magic_damage</th>\n",
       "    </tr>\n",
       "  </thead>\n",
       "  <tbody>\n",
       "    <tr>\n",
       "      <th>0</th>\n",
       "      <td>Aatrox</td>\n",
       "      <td>Fighter/Tank</td>\n",
       "      <td>Fighter</td>\n",
       "      <td>Tank</td>\n",
       "      <td>Juggernaut</td>\n",
       "      <td>3.0</td>\n",
       "      <td>3.0</td>\n",
       "      <td>2.0</td>\n",
       "      <td>2.0</td>\n",
       "      <td>2.0</td>\n",
       "      <td>0.0</td>\n",
       "    </tr>\n",
       "    <tr>\n",
       "      <th>1</th>\n",
       "      <td>Ahri</td>\n",
       "      <td>Mage/Assassin</td>\n",
       "      <td>Mage</td>\n",
       "      <td>Assassin</td>\n",
       "      <td>Burst</td>\n",
       "      <td>0.0</td>\n",
       "      <td>1.0</td>\n",
       "      <td>2.0</td>\n",
       "      <td>3.0</td>\n",
       "      <td>1.0</td>\n",
       "      <td>3.0</td>\n",
       "    </tr>\n",
       "    <tr>\n",
       "      <th>2</th>\n",
       "      <td>Akali</td>\n",
       "      <td>Assassin</td>\n",
       "      <td>Assassin</td>\n",
       "      <td>NaN</td>\n",
       "      <td>Assassin</td>\n",
       "      <td>3.0</td>\n",
       "      <td>1.0</td>\n",
       "      <td>1.0</td>\n",
       "      <td>3.0</td>\n",
       "      <td>1.0</td>\n",
       "      <td>0.0</td>\n",
       "    </tr>\n",
       "    <tr>\n",
       "      <th>3</th>\n",
       "      <td>Alistar</td>\n",
       "      <td>Tank/Support</td>\n",
       "      <td>Tank</td>\n",
       "      <td>Support</td>\n",
       "      <td>Vanguard</td>\n",
       "      <td>0.0</td>\n",
       "      <td>3.0</td>\n",
       "      <td>3.0</td>\n",
       "      <td>1.0</td>\n",
       "      <td>2.0</td>\n",
       "      <td>1.0</td>\n",
       "    </tr>\n",
       "    <tr>\n",
       "      <th>4</th>\n",
       "      <td>Amumu</td>\n",
       "      <td>Tank/Mage</td>\n",
       "      <td>Tank</td>\n",
       "      <td>Mage</td>\n",
       "      <td>Vanguard</td>\n",
       "      <td>0.0</td>\n",
       "      <td>3.0</td>\n",
       "      <td>3.0</td>\n",
       "      <td>1.0</td>\n",
       "      <td>1.0</td>\n",
       "      <td>2.0</td>\n",
       "    </tr>\n",
       "  </tbody>\n",
       "</table>\n",
       "</div>"
      ],
      "text/plain": [
       "  champion          class primary_class secondary_class        role  \\\n",
       "0   Aatrox   Fighter/Tank       Fighter            Tank  Juggernaut   \n",
       "1     Ahri  Mage/Assassin          Mage        Assassin       Burst   \n",
       "2    Akali       Assassin      Assassin             NaN    Assassin   \n",
       "3  Alistar   Tank/Support          Tank         Support    Vanguard   \n",
       "4    Amumu      Tank/Mage          Tank            Mage    Vanguard   \n",
       "\n",
       "   physical_damage  tankiness  control  mobility  utility  magic_damage  \n",
       "0              3.0        3.0      2.0       2.0      2.0           0.0  \n",
       "1              0.0        1.0      2.0       3.0      1.0           3.0  \n",
       "2              3.0        1.0      1.0       3.0      1.0           0.0  \n",
       "3              0.0        3.0      3.0       1.0      2.0           1.0  \n",
       "4              0.0        3.0      3.0       1.0      1.0           2.0  "
      ]
     },
     "execution_count": 22,
     "metadata": {},
     "output_type": "execute_result"
    }
   ],
   "source": [
    "df_champ_properties.head()"
   ]
  },
  {
   "cell_type": "code",
   "execution_count": 23,
   "metadata": {},
   "outputs": [],
   "source": [
    "# save to local\n",
    "df_champ_properties.to_csv(f'{processed_data_dir}/champion_properties.csv',index=False)\n",
    "# upload to s3\n",
    "# upload_df_to_s3(df_champ_properties,'peter-ff15-data/champion_properties.csv')"
   ]
  }
 ],
 "metadata": {
  "@webio": {
   "lastCommId": null,
   "lastKernelId": null
  },
  "kernelspec": {
   "display_name": "Python 3",
   "language": "python",
   "name": "python3"
  },
  "language_info": {
   "codemirror_mode": {
    "name": "ipython",
    "version": 3
   },
   "file_extension": ".py",
   "mimetype": "text/x-python",
   "name": "python",
   "nbconvert_exporter": "python",
   "pygments_lexer": "ipython3",
   "version": "3.6.8"
  }
 },
 "nbformat": 4,
 "nbformat_minor": 4
}
