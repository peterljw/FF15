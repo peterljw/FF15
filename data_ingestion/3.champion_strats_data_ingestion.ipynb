{
 "cells": [
  {
   "cell_type": "code",
   "execution_count": 1,
   "metadata": {},
   "outputs": [],
   "source": [
    "from utility import scraper\n",
    "from bs4 import BeautifulSoup as soup\n",
    "from tqdm.notebook import tqdm\n",
    "\n",
    "import pandas as pd\n",
    "import numpy as np\n",
    "\n",
    "import re\n",
    "import string"
   ]
  },
  {
   "cell_type": "markdown",
   "metadata": {},
   "source": [
    "## 1.Scrape Champion Strategies (Tencent)\n",
    "- Updated when a new champion is released\n",
    "- Can be updated manually"
   ]
  },
  {
   "cell_type": "markdown",
   "metadata": {},
   "source": [
    "### 1.1 Scrape Champion Catalog Page\n",
    "- Champion name (in Chinese)\n",
    "- Champion page url"
   ]
  },
  {
   "cell_type": "code",
   "execution_count": null,
   "metadata": {},
   "outputs": [],
   "source": [
    "def scrape_champion_catalog():\n",
    "    url = 'https://lol.qq.com/data/info-heros.shtml'\n",
    "    champ_list_soup = scraper.get_page_selenium(url)\n",
    "    champ_lists = champ_list_soup.find('ul',{'class':'imgtextlist'}).findAll('li')\n",
    "    \n",
    "    champion_chinese_list,champion_url_list = list(),list()\n",
    "    for champ in champ_lists:\n",
    "        # extract\n",
    "        champion_chinese = champ.find('a')['title']\n",
    "        champion_url = 'https://lol.qq.com/data/' + champ.find('a',href=True)['href']\n",
    "        # store\n",
    "        champion_chinese_list.append(champion_chinese)\n",
    "        champion_url_list.append(champion_url)\n",
    "        \n",
    "    df_champion_strats = pd.DataFrame({'champion_chinese':champion_chinese_list,\n",
    "                                       'champion_url':champion_url_list})\n",
    "    return df_champion_strats"
   ]
  },
  {
   "cell_type": "code",
   "execution_count": null,
   "metadata": {},
   "outputs": [],
   "source": [
    "df_champion_strats = scrape_champion_catalog()"
   ]
  },
  {
   "cell_type": "code",
   "execution_count": null,
   "metadata": {},
   "outputs": [],
   "source": [
    "df_champion_strats.to_csv('./temp/tencent_champion_catalog.csv',index=False)"
   ]
  },
  {
   "cell_type": "markdown",
   "metadata": {},
   "source": [
    "### 1.2 Scrape Indivdual Champion Page"
   ]
  },
  {
   "cell_type": "code",
   "execution_count": null,
   "metadata": {},
   "outputs": [],
   "source": [
    "df_champion_strats = pd.read_csv('./temp/tencent_champion_catalog.csv')"
   ]
  },
  {
   "cell_type": "code",
   "execution_count": null,
   "metadata": {},
   "outputs": [],
   "source": [
    "def extract_strats(url):\n",
    "    for i in range(3):\n",
    "        try:\n",
    "            champ_page_soup = scraper.get_page_selenium(url)\n",
    "            regex = re.compile('.*arttips.*')\n",
    "            tips = champ_page_soup.find('div',{'class':regex})\n",
    "\n",
    "            regex = re.compile('.*allytips.*')\n",
    "            ally_tips = tips.find('dl',{'id':regex})\n",
    "            regex = re.compile('.*enemytips.*')\n",
    "            enemy_tips = tips.find('dl',{'id':regex})\n",
    "\n",
    "            play_strats,counter_strats = '',''\n",
    "            for tip in ally_tips.findAll('p'):\n",
    "                play_strats = '\\n'.join([play_strats,tip.text.strip()])\n",
    "            for tip in enemy_tips.findAll('p'):\n",
    "                counter_strats = '\\n'.join([counter_strats,tip.text.strip()])\n",
    "            return {'play_strats':play_strats,'counter_strats':counter_strats}\n",
    "        except:\n",
    "            pass\n",
    "    print('Error:'+url)\n",
    "    play_strats,counter_strats = float('nan'),float('nan')\n",
    "    return {'play_strats':play_strats,'counter_strats':counter_strats}"
   ]
  },
  {
   "cell_type": "code",
   "execution_count": null,
   "metadata": {},
   "outputs": [],
   "source": [
    "url_strats_dict = dict()\n",
    "for url in tqdm(df_champion_strats['champion_url'].values):\n",
    "    url_strats_dict[url] = extract_strats(url)"
   ]
  },
  {
   "cell_type": "code",
   "execution_count": null,
   "metadata": {},
   "outputs": [],
   "source": [
    "df_url_strats = pd.DataFrame.from_dict(url_strats_dict, orient='index')\n",
    "df_url_strats.replace('\\n-',float('nan'),inplace=True)\n",
    "df_url_strats.reset_index(inplace=True)\n",
    "df_url_strats.rename(columns={'index':'champion_url'},inplace=True)"
   ]
  },
  {
   "cell_type": "code",
   "execution_count": null,
   "metadata": {},
   "outputs": [],
   "source": [
    "df_url_strats.to_csv('./temp/tencent_url_strats.csv',index=False)"
   ]
  },
  {
   "cell_type": "markdown",
   "metadata": {},
   "source": [
    "### 1.3 Preprocess Starts Table"
   ]
  },
  {
   "cell_type": "markdown",
   "metadata": {},
   "source": [
    "Inner join two tables."
   ]
  },
  {
   "cell_type": "code",
   "execution_count": null,
   "metadata": {},
   "outputs": [],
   "source": [
    "df_strats =  pd.merge(df_champion_strats, df_url_strats, on=\"champion_url\", how=\"inner\")"
   ]
  },
  {
   "cell_type": "code",
   "execution_count": null,
   "metadata": {},
   "outputs": [],
   "source": [
    "df_strats.to_csv('./temp/tencent_champion_strats.csv',index=False)"
   ]
  },
  {
   "cell_type": "markdown",
   "metadata": {},
   "source": [
    "Get name mapping and map names to English."
   ]
  },
  {
   "cell_type": "code",
   "execution_count": null,
   "metadata": {},
   "outputs": [],
   "source": [
    "url = 'https://weixia.info/league-of-legends-name.html'\n",
    "champ_translation_soup = scraper.get_page(url)\n",
    "champion_names = champ_translation_soup.find('tbody').findAll('tr')"
   ]
  },
  {
   "cell_type": "code",
   "execution_count": null,
   "metadata": {},
   "outputs": [],
   "source": [
    "champion_names_cn,champion_names_eng = list(),list()\n",
    "for champion in champion_names:\n",
    "    champion_names_cn.append(champion.findAll('td')[3].text.strip())\n",
    "    champion_names_eng.append(champion.findAll('td')[4].text.strip())\n",
    "cn_eng_name_mapping = dict(zip(champion_names_cn,champion_names_eng))"
   ]
  },
  {
   "cell_type": "code",
   "execution_count": null,
   "metadata": {},
   "outputs": [],
   "source": [
    "df_strats['champion_name_cn'] = df_strats['champion_chinese'].apply(lambda x: x.split(' ')[1])\n",
    "df_strats['champion_name_eng'] = df_strats['champion_name_cn'].map(cn_eng_name_mapping)"
   ]
  },
  {
   "cell_type": "code",
   "execution_count": null,
   "metadata": {},
   "outputs": [],
   "source": [
    "def replace_names(txt,cn_eng_name_mapping):\n",
    "    if isinstance(txt,str):\n",
    "        for name in list(cn_eng_name_mapping.keys()):\n",
    "            if name in txt:\n",
    "                txt = txt.replace(name,cn_eng_name_mapping[name])\n",
    "        return txt\n",
    "    else:\n",
    "        return txt"
   ]
  },
  {
   "cell_type": "code",
   "execution_count": null,
   "metadata": {},
   "outputs": [],
   "source": [
    "df_strats['play_strats'] = df_strats['play_strats'].apply(lambda x: replace_names(x,cn_eng_name_mapping))\n",
    "df_strats['counter_strats'] = df_strats['counter_strats'].apply(lambda x: replace_names(x,cn_eng_name_mapping))"
   ]
  },
  {
   "cell_type": "code",
   "execution_count": null,
   "metadata": {
    "scrolled": true
   },
   "outputs": [],
   "source": [
    "from utility.translation import google_translate\n",
    "df_strats['play_strats_en'] = df_strats['play_strats'].apply(google_translate)\n",
    "df_strats['counter_strats_en'] = df_strats['counter_strats'].apply(google_translate)"
   ]
  },
  {
   "cell_type": "code",
   "execution_count": null,
   "metadata": {},
   "outputs": [],
   "source": [
    "df_strats.to_csv('./temp/tencent_champion_strats_translated.csv',index=False)"
   ]
  },
  {
   "cell_type": "code",
   "execution_count": null,
   "metadata": {},
   "outputs": [],
   "source": [
    "df_champ_strats = df_strats[['champion_name_cn','champion_name_eng','play_strats_en','counter_strats_en']].copy(deep=True)\n",
    "df_champ_strats.rename(columns={'champion_name_cn':'champion_cn','champion_name_eng':'champion',\n",
    "                                'play_strats_en':'play_strats','counter_strats_en':'counter_strats'},inplace=True)\n",
    "df_champ_strats.to_csv('./preprocessed_data/tencent_champion_strats.csv',index=False)"
   ]
  }
 ],
 "metadata": {
  "@webio": {
   "lastCommId": null,
   "lastKernelId": null
  },
  "kernelspec": {
   "display_name": "Python 3",
   "language": "python",
   "name": "python3"
  },
  "language_info": {
   "codemirror_mode": {
    "name": "ipython",
    "version": 3
   },
   "file_extension": ".py",
   "mimetype": "text/x-python",
   "name": "python",
   "nbconvert_exporter": "python",
   "pygments_lexer": "ipython3",
   "version": "3.6.8"
  }
 },
 "nbformat": 4,
 "nbformat_minor": 4
}
