{
 "cells": [
  {
   "cell_type": "code",
   "execution_count": 1,
   "metadata": {},
   "outputs": [],
   "source": [
    "from utility import scraper\n",
    "from bs4 import BeautifulSoup as soup\n",
    "from tqdm.notebook import tqdm\n",
    "\n",
    "import pandas as pd\n",
    "import numpy as np\n",
    "\n",
    "import re\n",
    "import string"
   ]
  },
  {
   "cell_type": "markdown",
   "metadata": {},
   "source": [
    "# Outline\n",
    "1. Scrape Tier List Table (UGG)\n",
    "2. Scrape Champion Roles (Fandom Wiki)\n",
    "3. Scrape Champion Strategies (Tencent)\n",
    "4. Scrape Champion Details (Fandom Wiki)"
   ]
  },
  {
   "cell_type": "markdown",
   "metadata": {},
   "source": [
    "## 1. Scrape Tier List Table (UGG)\n",
    "- Should be updated daily"
   ]
  },
  {
   "cell_type": "markdown",
   "metadata": {},
   "source": [
    "### 1.1 Extract Raw Data"
   ]
  },
  {
   "cell_type": "code",
   "execution_count": null,
   "metadata": {},
   "outputs": [],
   "source": [
    "def extract_from_tier_list_row(row,divison):\n",
    "    \n",
    "    # extract information from the row\n",
    "    divison = divison.capitalize() \n",
    "    lane = row.find('img',{'class':'tier-list-role'})['alt'].capitalize() \n",
    "    champion = row.find('strong',{'class':'champion-name'}).text\n",
    "    try:\n",
    "        regex = re.compile('.*rt-td tier.*')\n",
    "        tier = row.find('div',{'class':regex}).find('span').text\n",
    "    except:\n",
    "        tier = float('nan')\n",
    "    try:\n",
    "        regex = re.compile('.*rt-td winrate.*')\n",
    "        win_rate = row.find('div',{'class':regex}).find('span').text\n",
    "    except:\n",
    "        win_rate = float('nan')\n",
    "    try:\n",
    "        regex = re.compile('.*rt-td pickrate.*')\n",
    "        pick_rate = row.find('div',{'class':regex}).find('span').text\n",
    "    except:\n",
    "        pick_rate = float('nan')\n",
    "    try:\n",
    "        regex = re.compile('.*rt-td banrate.*')\n",
    "        ban_rate = row.find('div',{'class':regex}).find('span').text\n",
    "    except:\n",
    "        ban_rate = float('nan')\n",
    "    try:\n",
    "        counter_raw_list = row.find('div',{'class':'against-container'}).findAll('div',{'class':'against'})\n",
    "        counter_list = list()\n",
    "        for counter in counter_raw_list:\n",
    "            counter_champ = counter.find('a')['href'].split('/')[3].capitalize() \n",
    "            counter_list.append(counter_champ)\n",
    "        counters = ','.join(counter_list)\n",
    "    except:\n",
    "        counters = float('nan')\n",
    "    try:\n",
    "        regex = re.compile('.*rt-td matches.*')\n",
    "        matches = row.find('div',{'class':regex}).find('span').text\n",
    "    except:\n",
    "        matches = float('nan')\n",
    "    # store all into a dictionary\n",
    "    row_dict = {'divison':divison,'lane':lane,'champion':champion,\n",
    "                'tier':tier,'win_rate':win_rate,'pick_rate':pick_rate,\n",
    "                'ban_rate':ban_rate,'counters':counters,'matches':matches}\n",
    "    \n",
    "    return row_dict\n",
    "\n",
    "\n",
    "def generate_divison_tier_table(champ_tier_list_soup,divison):\n",
    "    \n",
    "    tier_list_table = champ_tier_list_soup.find('div',{'class':'tier-list-page'})\n",
    "    champ_rows = tier_list_table.findAll('div',{'class':'rt-tr-group'})\n",
    "    \n",
    "    division_dict = dict()\n",
    "    for i,row in enumerate(tqdm(champ_rows)):\n",
    "        division_dict[i] = extract_from_tier_list_row(row,divison)\n",
    "    df_division = pd.DataFrame.from_dict(division_dict, orient='index').sort_values(by=['win_rate'],ascending=False)\n",
    "    return df_division\n",
    "\n",
    "def scrape_ugg_tier_list():\n",
    "    divisions = ['iron','bronze','silver','gold','platinum','diamond','master','grandmaster','challenger']\n",
    "    df_tier_list = pd.DataFrame()\n",
    "\n",
    "    for divsion in tqdm(divisions):\n",
    "        # generate the table for the given division\n",
    "        url = f'https://u.gg/lol/tier-list?rank={divsion}'\n",
    "        champ_tier_list_soup = scraper.get_page_selenium(url)\n",
    "        df_divsion = generate_divison_tier_table(champ_tier_list_soup,divison=divsion)\n",
    "        # append to parent table\n",
    "        df_tier_list = pd.concat([df_tier_list,df_divsion],ignore_index=True)\n",
    "    return df_tier_list"
   ]
  },
  {
   "cell_type": "code",
   "execution_count": null,
   "metadata": {},
   "outputs": [],
   "source": [
    "df_tier_list = scrape_ugg_tier_list()"
   ]
  },
  {
   "cell_type": "code",
   "execution_count": null,
   "metadata": {},
   "outputs": [],
   "source": [
    "df_tier_list.to_csv('./temp/ugg_tier_list_raw.csv',index=False)"
   ]
  },
  {
   "cell_type": "markdown",
   "metadata": {},
   "source": [
    "### 1.2 Preprocess\n",
    "- Correct names in `counters`"
   ]
  },
  {
   "cell_type": "code",
   "execution_count": null,
   "metadata": {},
   "outputs": [],
   "source": [
    "def adjust_name(name):\n",
    "    adjusted_name = name.translate(str.maketrans('', '', string.punctuation))\n",
    "    adjusted_name = adjusted_name.replace(' ','').lower().capitalize()\n",
    "    return adjusted_name\n",
    "\n",
    "def correct_counters(counters,correction_champ_names,name_correction_dict):\n",
    "    for name in correction_champ_names:\n",
    "        if name in counters:\n",
    "            counters = counters.replace(name,name_correction_dict[name])\n",
    "    return counters"
   ]
  },
  {
   "cell_type": "code",
   "execution_count": null,
   "metadata": {},
   "outputs": [],
   "source": [
    "champ_names = pd.Series(df_tier_list['champion'].unique())\n",
    "corrected_champ_names = champ_names[champ_names.apply(lambda x: ' ' in x or \"'\" in x)]\n",
    "correction_champ_names = pd.Series(corrected_champ_names).apply(adjust_name)\n",
    "\n",
    "name_correction_dict = dict(zip(correction_champ_names,corrected_champ_names))"
   ]
  },
  {
   "cell_type": "code",
   "execution_count": null,
   "metadata": {},
   "outputs": [],
   "source": [
    "df_tier_list['counters'] = df_tier_list['counters'].apply(lambda x: correct_counters(x,correction_champ_names,name_correction_dict))"
   ]
  },
  {
   "cell_type": "code",
   "execution_count": null,
   "metadata": {},
   "outputs": [],
   "source": [
    "df_tier_list.to_csv('./preprocessed_data/ugg_tier_list.csv',index=False)"
   ]
  },
  {
   "cell_type": "markdown",
   "metadata": {},
   "source": [
    "**Notes**:\n",
    "- Allow mutiple selection for `Divison`\n",
    "    - Group by `lane` + `champion`\n",
    "    - To re-compute the numerical values (e.g. `win_rate`,`pick_rate`,`ban_rate`), simply take weighed average using `matches`\n",
    "    - To re-compute tier, first map tier to numerical values (e.g. D->1 and S+->6) and take weighed average, then map back to tier OR train a classification model and save it to predict in real-time"
   ]
  },
  {
   "cell_type": "markdown",
   "metadata": {},
   "source": [
    "## 2. Scrape Champion Roles (Fandom Wiki)"
   ]
  },
  {
   "cell_type": "code",
   "execution_count": null,
   "metadata": {},
   "outputs": [],
   "source": [
    "url = 'https://leagueoflegends.fandom.com/wiki/List_of_champions'\n",
    "wiki_champion_page_soup = scraper.get_page(url)\n",
    "champion_table = wiki_champion_page_soup.findAll('tbody')[1]\n",
    "champion_rows = champion_table.findAll('tr',recursive=False)[1:]"
   ]
  },
  {
   "cell_type": "code",
   "execution_count": null,
   "metadata": {},
   "outputs": [],
   "source": [
    "champion_name_list,primary_role_list,secondary_role_list  = list(),list(),list()\n",
    "\n",
    "for champion_row in champion_rows:\n",
    "    champion_name_list.append(champion_row.find('td')['data-sort-value'])\n",
    "    primary_role_list.append(champion_row.findAll('td')[1]['data-sort-value'])\n",
    "    secondary_role_list.append(champion_row.findAll('td')[2]['data-sort-value'])"
   ]
  },
  {
   "cell_type": "code",
   "execution_count": null,
   "metadata": {},
   "outputs": [],
   "source": [
    "df_roles = pd.DataFrame({'champion':champion_name_list,\n",
    "                         'primary_role':primary_role_list,\n",
    "                         'secondary_role':secondary_role_list})"
   ]
  },
  {
   "cell_type": "code",
   "execution_count": null,
   "metadata": {},
   "outputs": [],
   "source": [
    "df_roles.to_csv('./temp/wiki_champ_roles.csv',index=False)\n",
    "df_roles.to_csv('./preprocessed_data/wiki_champ_roles.csv',index=False)"
   ]
  },
  {
   "cell_type": "markdown",
   "metadata": {},
   "source": [
    "## 3. Scrape Champion Strategies (Tencent)\n",
    "- Should be updated whenever there's a new champion"
   ]
  },
  {
   "cell_type": "markdown",
   "metadata": {},
   "source": [
    "### 3.1 Scrape Champion Catalog Page\n",
    "- Champion name (in Chinese)\n",
    "- Champion page url"
   ]
  },
  {
   "cell_type": "code",
   "execution_count": null,
   "metadata": {},
   "outputs": [],
   "source": [
    "def scrape_champion_catalog():\n",
    "    url = 'https://lol.qq.com/data/info-heros.shtml'\n",
    "    champ_list_soup = scraper.get_page_selenium(url)\n",
    "    champ_lists = champ_list_soup.find('ul',{'class':'imgtextlist'}).findAll('li')\n",
    "    \n",
    "    champion_chinese_list,champion_url_list = list(),list()\n",
    "    for champ in champ_lists:\n",
    "        # extract\n",
    "        champion_chinese = champ.find('a')['title']\n",
    "        champion_url = 'https://lol.qq.com/data/' + champ.find('a',href=True)['href']\n",
    "        # store\n",
    "        champion_chinese_list.append(champion_chinese)\n",
    "        champion_url_list.append(champion_url)\n",
    "        \n",
    "    df_champion_strats = pd.DataFrame({'champion_chinese':champion_chinese_list,\n",
    "                                       'champion_url':champion_url_list})\n",
    "    return df_champion_strats"
   ]
  },
  {
   "cell_type": "code",
   "execution_count": null,
   "metadata": {},
   "outputs": [],
   "source": [
    "df_champion_strats = scrape_champion_catalog()"
   ]
  },
  {
   "cell_type": "code",
   "execution_count": null,
   "metadata": {},
   "outputs": [],
   "source": [
    "df_champion_strats.to_csv('./temp/tencent_champion_catalog.csv',index=False)"
   ]
  },
  {
   "cell_type": "markdown",
   "metadata": {},
   "source": [
    "### 3.2 Scrape Indivdual Champion Page"
   ]
  },
  {
   "cell_type": "code",
   "execution_count": null,
   "metadata": {},
   "outputs": [],
   "source": [
    "df_champion_strats = pd.read_csv('./temp/tencent_champion_catalog.csv')"
   ]
  },
  {
   "cell_type": "code",
   "execution_count": null,
   "metadata": {},
   "outputs": [],
   "source": [
    "def extract_strats(url):\n",
    "    for i in range(3):\n",
    "        try:\n",
    "            champ_page_soup = scraper.get_page_selenium(url)\n",
    "            regex = re.compile('.*arttips.*')\n",
    "            tips = champ_page_soup.find('div',{'class':regex})\n",
    "\n",
    "            regex = re.compile('.*allytips.*')\n",
    "            ally_tips = tips.find('dl',{'id':regex})\n",
    "            regex = re.compile('.*enemytips.*')\n",
    "            enemy_tips = tips.find('dl',{'id':regex})\n",
    "\n",
    "            play_strats,counter_strats = '',''\n",
    "            for tip in ally_tips.findAll('p'):\n",
    "                play_strats = '\\n'.join([play_strats,tip.text.strip()])\n",
    "            for tip in enemy_tips.findAll('p'):\n",
    "                counter_strats = '\\n'.join([counter_strats,tip.text.strip()])\n",
    "            return {'play_strats':play_strats,'counter_strats':counter_strats}\n",
    "        except:\n",
    "            pass\n",
    "    print('Error:'+url)\n",
    "    play_strats,counter_strats = float('nan'),float('nan')\n",
    "    return {'play_strats':play_strats,'counter_strats':counter_strats}"
   ]
  },
  {
   "cell_type": "code",
   "execution_count": null,
   "metadata": {},
   "outputs": [],
   "source": [
    "url_strats_dict = dict()\n",
    "for url in tqdm(df_champion_strats['champion_url'].values):\n",
    "    url_strats_dict[url] = extract_strats(url)"
   ]
  },
  {
   "cell_type": "code",
   "execution_count": null,
   "metadata": {},
   "outputs": [],
   "source": [
    "df_url_strats = pd.DataFrame.from_dict(url_strats_dict, orient='index')\n",
    "df_url_strats.replace('\\n-',float('nan'),inplace=True)\n",
    "df_url_strats.reset_index(inplace=True)\n",
    "df_url_strats.rename(columns={'index':'champion_url'},inplace=True)"
   ]
  },
  {
   "cell_type": "code",
   "execution_count": null,
   "metadata": {},
   "outputs": [],
   "source": [
    "df_url_strats.to_csv('./temp/tencent_url_strats.csv',index=False)"
   ]
  },
  {
   "cell_type": "markdown",
   "metadata": {},
   "source": [
    "### 3.3 Preprocess Starts Table"
   ]
  },
  {
   "cell_type": "markdown",
   "metadata": {},
   "source": [
    "Inner join two tables."
   ]
  },
  {
   "cell_type": "code",
   "execution_count": null,
   "metadata": {},
   "outputs": [],
   "source": [
    "df_strats =  pd.merge(df_champion_strats, df_url_strats, on=\"champion_url\", how=\"inner\")"
   ]
  },
  {
   "cell_type": "code",
   "execution_count": null,
   "metadata": {},
   "outputs": [],
   "source": [
    "df_strats.to_csv('./temp/tencent_champion_strats.csv',index=False)"
   ]
  },
  {
   "cell_type": "markdown",
   "metadata": {},
   "source": [
    "Get name mapping and map names to English."
   ]
  },
  {
   "cell_type": "code",
   "execution_count": null,
   "metadata": {},
   "outputs": [],
   "source": [
    "url = 'https://weixia.info/league-of-legends-name.html'\n",
    "champ_translation_soup = scraper.get_page(url)\n",
    "champion_names = champ_translation_soup.find('tbody').findAll('tr')"
   ]
  },
  {
   "cell_type": "code",
   "execution_count": null,
   "metadata": {},
   "outputs": [],
   "source": [
    "champion_names_cn,champion_names_eng = list(),list()\n",
    "for champion in champion_names:\n",
    "    champion_names_cn.append(champion.findAll('td')[3].text.strip())\n",
    "    champion_names_eng.append(champion.findAll('td')[4].text.strip())\n",
    "cn_eng_name_mapping = dict(zip(champion_names_cn,champion_names_eng))"
   ]
  },
  {
   "cell_type": "code",
   "execution_count": null,
   "metadata": {},
   "outputs": [],
   "source": [
    "df_strats['champion_name_cn'] = df_strats['champion_chinese'].apply(lambda x: x.split(' ')[1])\n",
    "df_strats['champion_name_eng'] = df_strats['champion_name_cn'].map(cn_eng_name_mapping)"
   ]
  },
  {
   "cell_type": "code",
   "execution_count": null,
   "metadata": {},
   "outputs": [],
   "source": [
    "def replace_names(txt,cn_eng_name_mapping):\n",
    "    if isinstance(txt,str):\n",
    "        for name in list(cn_eng_name_mapping.keys()):\n",
    "            if name in txt:\n",
    "                txt = txt.replace(name,cn_eng_name_mapping[name])\n",
    "        return txt\n",
    "    else:\n",
    "        return txt"
   ]
  },
  {
   "cell_type": "code",
   "execution_count": null,
   "metadata": {},
   "outputs": [],
   "source": [
    "df_strats['play_strats'] = df_strats['play_strats'].apply(lambda x: replace_names(x,cn_eng_name_mapping))\n",
    "df_strats['counter_strats'] = df_strats['counter_strats'].apply(lambda x: replace_names(x,cn_eng_name_mapping))"
   ]
  },
  {
   "cell_type": "code",
   "execution_count": null,
   "metadata": {
    "scrolled": true
   },
   "outputs": [],
   "source": [
    "from utility.translation import google_translate\n",
    "df_strats['play_strats_en'] = df_strats['play_strats'].apply(google_translate)\n",
    "df_strats['counter_strats_en'] = df_strats['counter_strats'].apply(google_translate)"
   ]
  },
  {
   "cell_type": "code",
   "execution_count": null,
   "metadata": {},
   "outputs": [],
   "source": [
    "df_strats.to_csv('./temp/tencent_champion_strats_translated.csv',index=False)"
   ]
  },
  {
   "cell_type": "code",
   "execution_count": null,
   "metadata": {},
   "outputs": [],
   "source": [
    "df_champ_strats = df_strats[['champion_name_cn','champion_name_eng','play_strats_en','counter_strats_en']].copy(deep=True)\n",
    "df_champ_strats.rename(columns={'champion_name_cn':'champion_cn','champion_name_eng':'champion',\n",
    "                                'play_strats_en':'play_strats','counter_strats_en':'counter_strats'},inplace=True)\n",
    "df_champ_strats.to_csv('./preprocessed_data/tencent_champion_strats.csv',index=False)"
   ]
  },
  {
   "cell_type": "markdown",
   "metadata": {},
   "source": [
    "**Note**:\n",
    "- This table still needs manual editing\n",
    "    - Impute missing English names and starts by looking up guides\n",
    "    - Go over the translations to fix obvious errors"
   ]
  },
  {
   "cell_type": "markdown",
   "metadata": {},
   "source": [
    "## 4. Scrape Champion Details (Fandom Wiki)"
   ]
  },
  {
   "cell_type": "markdown",
   "metadata": {},
   "source": [
    "### 4.1 Scrape Champion Catalog Page\n",
    "- Champion name\n",
    "- Champion page url"
   ]
  },
  {
   "cell_type": "code",
   "execution_count": null,
   "metadata": {},
   "outputs": [],
   "source": [
    "url = 'https://leagueoflegends.fandom.com/wiki/List_of_champions'\n",
    "wiki_champion_page_soup = scraper.get_page(url)\n",
    "champion_table = wiki_champion_page_soup.findAll('tbody')[1]\n",
    "champion_rows = champion_table.findAll('tr',recursive=False)[1:]"
   ]
  },
  {
   "cell_type": "code",
   "execution_count": null,
   "metadata": {},
   "outputs": [],
   "source": [
    "champion_name_list,champion_url_list  = list(),list()\n",
    "\n",
    "for champion_row in champion_rows:\n",
    "    champion_name_list.append(champion_row.find('td')['data-sort-value'])\n",
    "    url = champion_row.find('td').find('a',href=True)['href']\n",
    "    champion_url_list.append(f'https://leagueoflegends.fandom.com{url}')"
   ]
  },
  {
   "cell_type": "code",
   "execution_count": null,
   "metadata": {},
   "outputs": [],
   "source": [
    "df_wiki_links = pd.DataFrame({'champion':champion_name_list,\n",
    "                              'url':champion_url_list})"
   ]
  },
  {
   "cell_type": "code",
   "execution_count": null,
   "metadata": {},
   "outputs": [],
   "source": [
    "df_wiki_links.to_csv('./temp/wiki_champ_urls.csv',index=False)"
   ]
  },
  {
   "cell_type": "markdown",
   "metadata": {},
   "source": [
    "### 4.2 Scrape Indivdual Champion Page"
   ]
  },
  {
   "cell_type": "code",
   "execution_count": 2,
   "metadata": {},
   "outputs": [],
   "source": [
    "df_wiki_links = pd.read_csv('./temp/wiki_champ_urls.csv')"
   ]
  },
  {
   "cell_type": "code",
   "execution_count": 10,
   "metadata": {},
   "outputs": [],
   "source": [
    "def extract_champion_details(url):\n",
    "    for i in range(3):\n",
    "        try:\n",
    "            champ_page_soup = scraper.get_page(url)\n",
    "\n",
    "            # extract primary and secondary classes\n",
    "            classes = champ_page_soup.find('div',{'data-source':'legacy'}).find('div').findAll('span')\n",
    "            primary_class = classes[0].findAll('a')[1].text.strip()\n",
    "            try:\n",
    "                secondary_class = classes[1].findAll('a')[1].text.strip()\n",
    "            except:\n",
    "                secondary_class = float('nan')\n",
    "\n",
    "            # extract adaptive type\n",
    "            adaptivetype = champ_page_soup.find('div',{'data-source':'adaptivetype'}).find('div').find('span').findAll('a')[0].text.strip()\n",
    "\n",
    "            # extract rating distributions\n",
    "            values = champ_page_soup.find('div',{'class':'stat-wheel'})['data-values'].split(';')\n",
    "            values = pd.Series(values).apply(int)\n",
    "            ratings = [element.text.strip() for element in champ_page_soup.find('div',{'class':'stat-wheel'}).findAll('th')]\n",
    "            ratings[0] = f'{adaptivetype} {ratings[0]}'\n",
    "            rating_dist = dict(zip(ratings,values))\n",
    "\n",
    "            details_dict = {'primary_class':primary_class,'secondary_class':secondary_class,'ratings':rating_dist}\n",
    "            return details_dict\n",
    "        except:\n",
    "            pass\n",
    "    print(f'Error{url}')\n",
    "    details_dict = {'primary_class':float('nan'),'secondary_class':float('nan'),'ratings':float('nan')}\n",
    "    return details_dict"
   ]
  },
  {
   "cell_type": "code",
   "execution_count": 11,
   "metadata": {},
   "outputs": [
    {
     "data": {
      "application/vnd.jupyter.widget-view+json": {
       "model_id": "e885d448f460412b9d666b6ccc5347d9",
       "version_major": 2,
       "version_minor": 0
      },
      "text/plain": [
       "  0%|          | 0/154 [00:00<?, ?it/s]"
      ]
     },
     "metadata": {},
     "output_type": "display_data"
    },
    {
     "name": "stdout",
     "output_type": "stream",
     "text": [
      "making html request:https://leagueoflegends.fandom.com/wiki/Aatrox\n",
      "making html request:https://leagueoflegends.fandom.com/wiki/Ahri\n",
      "making html request:https://leagueoflegends.fandom.com/wiki/Akali\n",
      "making html request:https://leagueoflegends.fandom.com/wiki/Alistar\n",
      "making html request:https://leagueoflegends.fandom.com/wiki/Amumu\n",
      "making html request:https://leagueoflegends.fandom.com/wiki/Anivia\n",
      "making html request:https://leagueoflegends.fandom.com/wiki/Annie\n",
      "making html request:https://leagueoflegends.fandom.com/wiki/Aphelios\n",
      "making html request:https://leagueoflegends.fandom.com/wiki/Ashe\n",
      "making html request:https://leagueoflegends.fandom.com/wiki/Aurelion_Sol\n",
      "making html request:https://leagueoflegends.fandom.com/wiki/Azir\n",
      "making html request:https://leagueoflegends.fandom.com/wiki/Bard\n",
      "making html request:https://leagueoflegends.fandom.com/wiki/Blitzcrank\n",
      "making html request:https://leagueoflegends.fandom.com/wiki/Brand\n",
      "making html request:https://leagueoflegends.fandom.com/wiki/Braum\n",
      "making html request:https://leagueoflegends.fandom.com/wiki/Caitlyn\n",
      "making html request:https://leagueoflegends.fandom.com/wiki/Camille\n",
      "making html request:https://leagueoflegends.fandom.com/wiki/Cassiopeia\n",
      "making html request:https://leagueoflegends.fandom.com/wiki/Cho%27Gath\n",
      "making html request:https://leagueoflegends.fandom.com/wiki/Corki\n",
      "making html request:https://leagueoflegends.fandom.com/wiki/Darius\n",
      "making html request:https://leagueoflegends.fandom.com/wiki/Diana\n",
      "making html request:https://leagueoflegends.fandom.com/wiki/Dr._Mundo\n",
      "making html request:https://leagueoflegends.fandom.com/wiki/Draven\n",
      "making html request:https://leagueoflegends.fandom.com/wiki/Ekko\n",
      "making html request:https://leagueoflegends.fandom.com/wiki/Elise\n",
      "making html request:https://leagueoflegends.fandom.com/wiki/Evelynn\n",
      "making html request:https://leagueoflegends.fandom.com/wiki/Ezreal\n",
      "making html request:https://leagueoflegends.fandom.com/wiki/Fiddlesticks\n",
      "making html request:https://leagueoflegends.fandom.com/wiki/Fiora\n",
      "making html request:https://leagueoflegends.fandom.com/wiki/Fizz\n",
      "making html request:https://leagueoflegends.fandom.com/wiki/Galio\n",
      "making html request:https://leagueoflegends.fandom.com/wiki/Gangplank\n",
      "making html request:https://leagueoflegends.fandom.com/wiki/Garen\n",
      "making html request:https://leagueoflegends.fandom.com/wiki/Gnar\n",
      "making html request:https://leagueoflegends.fandom.com/wiki/Gragas\n",
      "making html request:https://leagueoflegends.fandom.com/wiki/Graves\n",
      "making html request:https://leagueoflegends.fandom.com/wiki/Hecarim\n",
      "making html request:https://leagueoflegends.fandom.com/wiki/Heimerdinger\n",
      "making html request:https://leagueoflegends.fandom.com/wiki/Illaoi\n",
      "making html request:https://leagueoflegends.fandom.com/wiki/Irelia\n",
      "making html request:https://leagueoflegends.fandom.com/wiki/Ivern\n",
      "making html request:https://leagueoflegends.fandom.com/wiki/Janna\n",
      "making html request:https://leagueoflegends.fandom.com/wiki/Jarvan_IV\n",
      "making html request:https://leagueoflegends.fandom.com/wiki/Jax\n",
      "making html request:https://leagueoflegends.fandom.com/wiki/Jayce\n",
      "making html request:https://leagueoflegends.fandom.com/wiki/Jhin\n",
      "making html request:https://leagueoflegends.fandom.com/wiki/Jinx\n",
      "making html request:https://leagueoflegends.fandom.com/wiki/Kai%27Sa\n",
      "making html request:https://leagueoflegends.fandom.com/wiki/Kalista\n",
      "making html request:https://leagueoflegends.fandom.com/wiki/Karma\n",
      "making html request:https://leagueoflegends.fandom.com/wiki/Karthus\n",
      "making html request:https://leagueoflegends.fandom.com/wiki/Kassadin\n",
      "making html request:https://leagueoflegends.fandom.com/wiki/Katarina\n",
      "making html request:https://leagueoflegends.fandom.com/wiki/Kayle\n",
      "making html request:https://leagueoflegends.fandom.com/wiki/Kayn\n",
      "making html request:https://leagueoflegends.fandom.com/wiki/Kennen\n",
      "making html request:https://leagueoflegends.fandom.com/wiki/Kha%27Zix\n",
      "making html request:https://leagueoflegends.fandom.com/wiki/Kindred\n",
      "making html request:https://leagueoflegends.fandom.com/wiki/Kled\n",
      "making html request:https://leagueoflegends.fandom.com/wiki/Kog%27Maw\n",
      "making html request:https://leagueoflegends.fandom.com/wiki/LeBlanc\n",
      "making html request:https://leagueoflegends.fandom.com/wiki/Lee_Sin\n",
      "making html request:https://leagueoflegends.fandom.com/wiki/Leona\n",
      "making html request:https://leagueoflegends.fandom.com/wiki/Lillia\n",
      "making html request:https://leagueoflegends.fandom.com/wiki/Lissandra\n",
      "making html request:https://leagueoflegends.fandom.com/wiki/Lucian\n",
      "making html request:https://leagueoflegends.fandom.com/wiki/Lulu\n",
      "making html request:https://leagueoflegends.fandom.com/wiki/Lux\n",
      "making html request:https://leagueoflegends.fandom.com/wiki/Malphite\n",
      "making html request:https://leagueoflegends.fandom.com/wiki/Malzahar\n",
      "making html request:https://leagueoflegends.fandom.com/wiki/Maokai\n",
      "making html request:https://leagueoflegends.fandom.com/wiki/Master_Yi\n",
      "making html request:https://leagueoflegends.fandom.com/wiki/Miss_Fortune\n",
      "making html request:https://leagueoflegends.fandom.com/wiki/Mordekaiser\n",
      "making html request:https://leagueoflegends.fandom.com/wiki/Morgana\n",
      "making html request:https://leagueoflegends.fandom.com/wiki/Nami\n",
      "making html request:https://leagueoflegends.fandom.com/wiki/Nasus\n",
      "making html request:https://leagueoflegends.fandom.com/wiki/Nautilus\n",
      "making html request:https://leagueoflegends.fandom.com/wiki/Neeko\n",
      "making html request:https://leagueoflegends.fandom.com/wiki/Nidalee\n",
      "making html request:https://leagueoflegends.fandom.com/wiki/Nocturne\n",
      "making html request:https://leagueoflegends.fandom.com/wiki/Nunu_%26_Willump\n",
      "making html request:https://leagueoflegends.fandom.com/wiki/Olaf\n",
      "making html request:https://leagueoflegends.fandom.com/wiki/Orianna\n",
      "making html request:https://leagueoflegends.fandom.com/wiki/Ornn\n",
      "making html request:https://leagueoflegends.fandom.com/wiki/Pantheon\n",
      "making html request:https://leagueoflegends.fandom.com/wiki/Poppy\n",
      "making html request:https://leagueoflegends.fandom.com/wiki/Pyke\n",
      "making html request:https://leagueoflegends.fandom.com/wiki/Qiyana\n",
      "making html request:https://leagueoflegends.fandom.com/wiki/Quinn\n",
      "making html request:https://leagueoflegends.fandom.com/wiki/Rakan\n",
      "making html request:https://leagueoflegends.fandom.com/wiki/Rammus\n",
      "making html request:https://leagueoflegends.fandom.com/wiki/Rek%27Sai\n",
      "making html request:https://leagueoflegends.fandom.com/wiki/Rell\n",
      "making html request:https://leagueoflegends.fandom.com/wiki/Renekton\n",
      "making html request:https://leagueoflegends.fandom.com/wiki/Rengar\n",
      "making html request:https://leagueoflegends.fandom.com/wiki/Riven\n",
      "making html request:https://leagueoflegends.fandom.com/wiki/Rumble\n",
      "making html request:https://leagueoflegends.fandom.com/wiki/Ryze\n",
      "making html request:https://leagueoflegends.fandom.com/wiki/Samira\n",
      "making html request:https://leagueoflegends.fandom.com/wiki/Sejuani\n",
      "making html request:https://leagueoflegends.fandom.com/wiki/Senna\n",
      "making html request:https://leagueoflegends.fandom.com/wiki/Seraphine\n",
      "making html request:https://leagueoflegends.fandom.com/wiki/Sett\n",
      "making html request:https://leagueoflegends.fandom.com/wiki/Shaco\n",
      "making html request:https://leagueoflegends.fandom.com/wiki/Shen\n",
      "making html request:https://leagueoflegends.fandom.com/wiki/Shyvana\n",
      "making html request:https://leagueoflegends.fandom.com/wiki/Singed\n",
      "making html request:https://leagueoflegends.fandom.com/wiki/Sion\n",
      "making html request:https://leagueoflegends.fandom.com/wiki/Sivir\n",
      "making html request:https://leagueoflegends.fandom.com/wiki/Skarner\n",
      "making html request:https://leagueoflegends.fandom.com/wiki/Sona\n",
      "making html request:https://leagueoflegends.fandom.com/wiki/Soraka\n",
      "making html request:https://leagueoflegends.fandom.com/wiki/Swain\n",
      "making html request:https://leagueoflegends.fandom.com/wiki/Sylas\n",
      "making html request:https://leagueoflegends.fandom.com/wiki/Syndra\n",
      "making html request:https://leagueoflegends.fandom.com/wiki/Tahm_Kench\n",
      "making html request:https://leagueoflegends.fandom.com/wiki/Taliyah\n",
      "making html request:https://leagueoflegends.fandom.com/wiki/Talon\n",
      "making html request:https://leagueoflegends.fandom.com/wiki/Taric\n",
      "making html request:https://leagueoflegends.fandom.com/wiki/Teemo\n"
     ]
    },
    {
     "name": "stdout",
     "output_type": "stream",
     "text": [
      "making html request:https://leagueoflegends.fandom.com/wiki/Thresh\n",
      "making html request:https://leagueoflegends.fandom.com/wiki/Tristana\n",
      "making html request:https://leagueoflegends.fandom.com/wiki/Trundle\n",
      "making html request:https://leagueoflegends.fandom.com/wiki/Tryndamere\n",
      "making html request:https://leagueoflegends.fandom.com/wiki/Twisted_Fate\n",
      "making html request:https://leagueoflegends.fandom.com/wiki/Twitch\n",
      "making html request:https://leagueoflegends.fandom.com/wiki/Udyr\n",
      "making html request:https://leagueoflegends.fandom.com/wiki/Urgot\n",
      "making html request:https://leagueoflegends.fandom.com/wiki/Varus\n",
      "making html request:https://leagueoflegends.fandom.com/wiki/Vayne\n",
      "making html request:https://leagueoflegends.fandom.com/wiki/Veigar\n",
      "making html request:https://leagueoflegends.fandom.com/wiki/Vel%27Koz\n",
      "making html request:https://leagueoflegends.fandom.com/wiki/Vi\n",
      "making html request:https://leagueoflegends.fandom.com/wiki/Viego\n",
      "making html request:https://leagueoflegends.fandom.com/wiki/Viktor\n",
      "making html request:https://leagueoflegends.fandom.com/wiki/Vladimir\n",
      "making html request:https://leagueoflegends.fandom.com/wiki/Volibear\n",
      "making html request:https://leagueoflegends.fandom.com/wiki/Warwick\n",
      "making html request:https://leagueoflegends.fandom.com/wiki/Wukong\n",
      "making html request:https://leagueoflegends.fandom.com/wiki/Xayah\n",
      "making html request:https://leagueoflegends.fandom.com/wiki/Xerath\n",
      "making html request:https://leagueoflegends.fandom.com/wiki/Xin_Zhao\n",
      "making html request:https://leagueoflegends.fandom.com/wiki/Yasuo\n",
      "making html request:https://leagueoflegends.fandom.com/wiki/Yone\n",
      "making html request:https://leagueoflegends.fandom.com/wiki/Yorick\n",
      "making html request:https://leagueoflegends.fandom.com/wiki/Yuumi\n",
      "making html request:https://leagueoflegends.fandom.com/wiki/Zac\n",
      "making html request:https://leagueoflegends.fandom.com/wiki/Zed\n",
      "making html request:https://leagueoflegends.fandom.com/wiki/Ziggs\n",
      "making html request:https://leagueoflegends.fandom.com/wiki/Zilean\n",
      "making html request:https://leagueoflegends.fandom.com/wiki/Zoe\n",
      "making html request:https://leagueoflegends.fandom.com/wiki/Zyra\n"
     ]
    }
   ],
   "source": [
    "champion_details_dict = dict()\n",
    "for url in tqdm(df_wiki_links['url'].values):\n",
    "    champion_details_dict[url] = extract_champion_details(url)\n",
    "df_url_details = pd.DataFrame.from_dict(champion_details_dict,orient='index')"
   ]
  },
  {
   "cell_type": "code",
   "execution_count": 15,
   "metadata": {},
   "outputs": [],
   "source": [
    "df_url_details.to_csv('./temp/wiki_url_details.csv',index=False)"
   ]
  },
  {
   "cell_type": "markdown",
   "metadata": {},
   "source": [
    "### 4.3 Preprocess Champion Details Table"
   ]
  },
  {
   "cell_type": "code",
   "execution_count": 17,
   "metadata": {},
   "outputs": [],
   "source": [
    "df_url_details.reset_index(inplace=True)\n",
    "df_url_details.rename(columns={'index':'url'},inplace=True)"
   ]
  },
  {
   "cell_type": "code",
   "execution_count": 19,
   "metadata": {},
   "outputs": [],
   "source": [
    "df_details =  pd.merge(df_wiki_links, df_url_details, on=\"url\", how=\"inner\")"
   ]
  },
  {
   "cell_type": "code",
   "execution_count": 23,
   "metadata": {},
   "outputs": [],
   "source": [
    "df_details[['champion','primary_class','secondary_class','ratings']].to_csv('./preprocessed_data/wiki_champion_details.csv',index=False)"
   ]
  }
 ],
 "metadata": {
  "@webio": {
   "lastCommId": null,
   "lastKernelId": null
  },
  "kernelspec": {
   "display_name": "Python 3",
   "language": "python",
   "name": "python3"
  },
  "language_info": {
   "codemirror_mode": {
    "name": "ipython",
    "version": 3
   },
   "file_extension": ".py",
   "mimetype": "text/x-python",
   "name": "python",
   "nbconvert_exporter": "python",
   "pygments_lexer": "ipython3",
   "version": "3.6.8"
  }
 },
 "nbformat": 4,
 "nbformat_minor": 4
}
