{
 "cells": [
  {
   "cell_type": "code",
   "execution_count": 2,
   "metadata": {},
   "outputs": [],
   "source": [
    "from utility import scraper\n",
    "from bs4 import BeautifulSoup as soup\n",
    "from tqdm import tqdm\n",
    "\n",
    "import pandas as pd\n",
    "import numpy as np\n",
    "\n",
    "import re\n",
    "import string\n",
    "\n",
    "from utility.s3_file_transfer import upload_df_to_s3"
   ]
  },
  {
   "cell_type": "code",
   "execution_count": 3,
   "metadata": {},
   "outputs": [],
   "source": [
    "preprocessed_data_dir = './preprocessed_data'\n",
    "processed_data_dir = './processed_data'"
   ]
  },
  {
   "cell_type": "markdown",
   "metadata": {},
   "source": [
    "## 1. Scrape Tier List Table (UGG)\n",
    "- Updated daily to weekly"
   ]
  },
  {
   "cell_type": "markdown",
   "metadata": {},
   "source": [
    "### 1.1 Extract Raw Data"
   ]
  },
  {
   "cell_type": "code",
   "execution_count": 4,
   "metadata": {},
   "outputs": [],
   "source": [
    "def extract_from_tier_list_row(row,divison):\n",
    "    \n",
    "    # extract information from the row\n",
    "    divison = divison.capitalize() \n",
    "    lane = row.find('img',{'class':'tier-list-role'})['alt'].capitalize() \n",
    "    champion = row.find('strong',{'class':'champion-name'}).text\n",
    "    try:\n",
    "        regex = re.compile('.*rt-td tier.*')\n",
    "        tier = row.find('div',{'class':regex}).find('span').text\n",
    "    except:\n",
    "        tier = float('nan')\n",
    "    try:\n",
    "        regex = re.compile('.*rt-td winrate.*')\n",
    "        win_rate = row.find('div',{'class':regex}).find('span').text\n",
    "    except:\n",
    "        win_rate = float('nan')\n",
    "    try:\n",
    "        regex = re.compile('.*rt-td pickrate.*')\n",
    "        pick_rate = row.find('div',{'class':regex}).find('span').text\n",
    "    except:\n",
    "        pick_rate = float('nan')\n",
    "    try:\n",
    "        regex = re.compile('.*rt-td banrate.*')\n",
    "        ban_rate = row.find('div',{'class':regex}).find('span').text\n",
    "    except:\n",
    "        ban_rate = float('nan')\n",
    "    try:\n",
    "        counter_raw_list = row.find('div',{'class':'against-container'}).findAll('div',{'class':'against'})\n",
    "        counter_list = list()\n",
    "        for counter in counter_raw_list:\n",
    "            counter_champ = counter.find('a')['href'].split('/')[3].capitalize() \n",
    "            counter_list.append(counter_champ)\n",
    "        counters = ','.join(counter_list)\n",
    "    except:\n",
    "        counters = float('nan')\n",
    "    try:\n",
    "        regex = re.compile('.*rt-td matches.*')\n",
    "        matches = row.find('div',{'class':regex}).find('span').text\n",
    "    except:\n",
    "        matches = float('nan')\n",
    "    # store all into a dictionary\n",
    "    row_dict = {'divison':divison,'lane':lane,'champion':champion,\n",
    "                'tier':tier,'win_rate':win_rate,'pick_rate':pick_rate,\n",
    "                'ban_rate':ban_rate,'counters':counters,'matches':matches}\n",
    "    \n",
    "    return row_dict\n",
    "\n",
    "\n",
    "def generate_divison_tier_table(champ_tier_list_soup,divison):\n",
    "    \n",
    "    tier_list_table = champ_tier_list_soup.find('div',{'class':'tier-list-page'})\n",
    "    champ_rows = tier_list_table.findAll('div',{'class':'rt-tr-group'})\n",
    "    \n",
    "    division_dict = dict()\n",
    "    for i,row in enumerate(tqdm(champ_rows)):\n",
    "        division_dict[i] = extract_from_tier_list_row(row,divison)\n",
    "    df_division = pd.DataFrame.from_dict(division_dict, orient='index').sort_values(by=['win_rate'],ascending=False)\n",
    "    return df_division\n",
    "\n",
    "def scrape_ugg_tier_list():\n",
    "    \n",
    "    divisions = ['iron','bronze','silver','gold','platinum','diamond','master','grandmaster','challenger']\n",
    "    df_tier_list = pd.DataFrame()\n",
    "\n",
    "    for divsion in tqdm(divisions):\n",
    "        # generate the table for the given division\n",
    "        url = f'https://u.gg/lol/tier-list?rank={divsion}'\n",
    "        champ_tier_list_soup = scraper.get_page_selenium(url)\n",
    "        df_divsion = generate_divison_tier_table(champ_tier_list_soup,divison=divsion)\n",
    "        # append to parent table\n",
    "        df_tier_list = pd.concat([df_tier_list,df_divsion],ignore_index=True)\n",
    "    return df_tier_list"
   ]
  },
  {
   "cell_type": "code",
   "execution_count": null,
   "metadata": {},
   "outputs": [
    {
     "data": {
      "application/vnd.jupyter.widget-view+json": {
       "model_id": "09f244ffaae14c97a844fb107b7abaaf",
       "version_major": 2,
       "version_minor": 0
      },
      "text/plain": [
       "  0%|          | 0/9 [00:00<?, ?it/s]"
      ]
     },
     "metadata": {},
     "output_type": "display_data"
    },
    {
     "data": {
      "application/vnd.jupyter.widget-view+json": {
       "model_id": "6298c4de2f624d3f9b2d710794341ac3",
       "version_major": 2,
       "version_minor": 0
      },
      "text/plain": [
       "  0%|          | 0/225 [00:00<?, ?it/s]"
      ]
     },
     "metadata": {},
     "output_type": "display_data"
    },
    {
     "data": {
      "application/vnd.jupyter.widget-view+json": {
       "model_id": "b2e42bf263e5491da315f8df4f5e546f",
       "version_major": 2,
       "version_minor": 0
      },
      "text/plain": [
       "  0%|          | 0/224 [00:00<?, ?it/s]"
      ]
     },
     "metadata": {},
     "output_type": "display_data"
    }
   ],
   "source": [
    "df_tier_list = scrape_ugg_tier_list()"
   ]
  },
  {
   "cell_type": "code",
   "execution_count": null,
   "metadata": {},
   "outputs": [],
   "source": [
    "df_tier_list.to_csv('./temp/ugg_tier_list_raw.csv',index=False)"
   ]
  },
  {
   "cell_type": "markdown",
   "metadata": {},
   "source": [
    "### 1.2 Preprocess\n",
    "- Correct names in `counters`"
   ]
  },
  {
   "cell_type": "code",
   "execution_count": null,
   "metadata": {},
   "outputs": [],
   "source": [
    "def adjust_name(name):\n",
    "    adjusted_name = name.translate(str.maketrans('', '', string.punctuation))\n",
    "    adjusted_name = adjusted_name.replace(' ','').lower().capitalize()\n",
    "    return adjusted_name\n",
    "\n",
    "def correct_counters(counters,correction_champ_names,name_correction_dict):\n",
    "    for name in correction_champ_names:\n",
    "        if name in counters:\n",
    "            counters = counters.replace(name,name_correction_dict[name])\n",
    "    return counters"
   ]
  },
  {
   "cell_type": "code",
   "execution_count": null,
   "metadata": {},
   "outputs": [],
   "source": [
    "champ_names = pd.Series(df_tier_list['champion'].unique())\n",
    "corrected_champ_names = champ_names[champ_names.apply(lambda x: ' ' in x or \"'\" in x)]\n",
    "correction_champ_names = pd.Series(corrected_champ_names).apply(adjust_name)\n",
    "\n",
    "name_correction_dict = dict(zip(correction_champ_names,corrected_champ_names))"
   ]
  },
  {
   "cell_type": "code",
   "execution_count": null,
   "metadata": {},
   "outputs": [],
   "source": [
    "df_tier_list['counters'] = df_tier_list['counters'].apply(lambda x: correct_counters(x,correction_champ_names,name_correction_dict))"
   ]
  },
  {
   "cell_type": "code",
   "execution_count": null,
   "metadata": {},
   "outputs": [],
   "source": [
    "df_tier_list.to_csv(f'{preprocessed_data_dir}/ugg_tier_list.csv',index=False)"
   ]
  },
  {
   "cell_type": "markdown",
   "metadata": {},
   "source": [
    "### 1.3 Process and Upload"
   ]
  },
  {
   "cell_type": "code",
   "execution_count": null,
   "metadata": {},
   "outputs": [],
   "source": [
    "def convert_to_float(percent):\n",
    "    if isinstance(percent,str):\n",
    "        return round(float(percent.replace('%',''))/100,4)\n",
    "    else:\n",
    "        return float('nan')"
   ]
  },
  {
   "cell_type": "code",
   "execution_count": null,
   "metadata": {},
   "outputs": [],
   "source": [
    "df_tier_list = pd.read_csv(f'{preprocessed_data_dir}/ugg_tier_list.csv')\n",
    "df_champ_roles = pd.read_csv(f'{preprocessed_data_dir}/wiki_champ_roles.csv')\n",
    "df_champ_details = pd.read_csv(f'{preprocessed_data_dir}/wiki_champion_details.csv')"
   ]
  },
  {
   "cell_type": "code",
   "execution_count": null,
   "metadata": {},
   "outputs": [],
   "source": [
    "tier_list_set = set(df_tier_list['champion'].unique())\n",
    "champ_roles_set = set(df_champ_roles['champion'].unique())\n",
    "champ_details_set = set(df_champ_details['champion'].unique())"
   ]
  },
  {
   "cell_type": "code",
   "execution_count": null,
   "metadata": {},
   "outputs": [],
   "source": [
    "if tier_list_set == champ_roles_set and champ_roles_set == champ_details_set:\n",
    "    # turn matches into int dtype\n",
    "    df_tier_list['matches'] = df_tier_list['matches'].apply(lambda x: int(x.replace(',','')))\n",
    "    \n",
    "    # convert rates to float dtype\n",
    "    df_tier_list['win_rate'] = df_tier_list['win_rate'].apply(convert_to_float)\n",
    "    df_tier_list['pick_rate'] = df_tier_list['pick_rate'].apply(convert_to_float)\n",
    "    df_tier_list['ban_rate'] = df_tier_list['ban_rate'].apply(convert_to_float)\n",
    "    \n",
    "    # map tiers into int dtype\n",
    "    tier_mapping = {'S+':0,'S':1,'A':2,'B':3,'C':4,'D':5}\n",
    "    df_tier_list['tier'] = df_tier_list['tier'].map(tier_mapping)\n",
    "    \n",
    "    df_champ_stats = df_tier_list\n",
    "    df_champ_stats.rename(columns={'divison':'rank'},inplace=True)"
   ]
  },
  {
   "cell_type": "code",
   "execution_count": null,
   "metadata": {},
   "outputs": [],
   "source": [
    "# display\n",
    "display(df_champ_stats.head())\n",
    "# save to local\n",
    "df_champ_stats.to_csv(f'{processed_data_dir}/champion_stats.csv',index=False)\n",
    "# upload to s3\n",
    "# upload_df_to_s3(df_champ_stats,'peter-ff15-data/champion_stats.csv')"
   ]
  }
 ],
 "metadata": {
  "@webio": {
   "lastCommId": null,
   "lastKernelId": null
  },
  "kernelspec": {
   "display_name": "Python 3 (ipykernel)",
   "language": "python",
   "name": "python3"
  },
  "language_info": {
   "codemirror_mode": {
    "name": "ipython",
    "version": 3
   },
   "file_extension": ".py",
   "mimetype": "text/x-python",
   "name": "python",
   "nbconvert_exporter": "python",
   "pygments_lexer": "ipython3",
   "version": "3.9.7"
  }
 },
 "nbformat": 4,
 "nbformat_minor": 4
}
