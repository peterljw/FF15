{
 "cells": [
  {
   "cell_type": "code",
   "execution_count": 1,
   "metadata": {},
   "outputs": [],
   "source": [
    "from utility import scraper\n",
    "from bs4 import BeautifulSoup as soup\n",
    "from tqdm.notebook import tqdm\n",
    "\n",
    "import pandas as pd\n",
    "import numpy as np\n",
    "\n",
    "import re\n",
    "import string\n",
    "\n",
    "from utility.s3_file_transfer import upload_df_to_s3"
   ]
  },
  {
   "cell_type": "code",
   "execution_count": 2,
   "metadata": {},
   "outputs": [],
   "source": [
    "preprocessed_data_dir = './preprocessed_data'\n",
    "processed_data_dir = './processed_data'"
   ]
  },
  {
   "cell_type": "markdown",
   "metadata": {},
   "source": [
    "## 1. Scrape Tier List Table (UGG)\n",
    "- Updated daily to weekly"
   ]
  },
  {
   "cell_type": "markdown",
   "metadata": {},
   "source": [
    "### 1.1 Extract Raw Data"
   ]
  },
  {
   "cell_type": "code",
   "execution_count": 3,
   "metadata": {},
   "outputs": [],
   "source": [
    "def extract_from_tier_list_row(row,divison):\n",
    "    \n",
    "    # extract information from the row\n",
    "    divison = divison.capitalize() \n",
    "    lane = row.find('img',{'class':'tier-list-role'})['alt'].capitalize() \n",
    "    champion = row.find('strong',{'class':'champion-name'}).text\n",
    "    try:\n",
    "        regex = re.compile('.*rt-td tier.*')\n",
    "        tier = row.find('div',{'class':regex}).find('span').text\n",
    "    except:\n",
    "        tier = float('nan')\n",
    "    try:\n",
    "        regex = re.compile('.*rt-td winrate.*')\n",
    "        win_rate = row.find('div',{'class':regex}).find('span').text\n",
    "    except:\n",
    "        win_rate = float('nan')\n",
    "    try:\n",
    "        regex = re.compile('.*rt-td pickrate.*')\n",
    "        pick_rate = row.find('div',{'class':regex}).find('span').text\n",
    "    except:\n",
    "        pick_rate = float('nan')\n",
    "    try:\n",
    "        regex = re.compile('.*rt-td banrate.*')\n",
    "        ban_rate = row.find('div',{'class':regex}).find('span').text\n",
    "    except:\n",
    "        ban_rate = float('nan')\n",
    "    try:\n",
    "        counter_raw_list = row.find('div',{'class':'against-container'}).findAll('div',{'class':'against'})\n",
    "        counter_list = list()\n",
    "        for counter in counter_raw_list:\n",
    "            counter_champ = counter.find('a')['href'].split('/')[3].capitalize() \n",
    "            counter_list.append(counter_champ)\n",
    "        counters = ','.join(counter_list)\n",
    "    except:\n",
    "        counters = float('nan')\n",
    "    try:\n",
    "        regex = re.compile('.*rt-td matches.*')\n",
    "        matches = row.find('div',{'class':regex}).find('span').text\n",
    "    except:\n",
    "        matches = float('nan')\n",
    "    # store all into a dictionary\n",
    "    row_dict = {'divison':divison,'lane':lane,'champion':champion,\n",
    "                'tier':tier,'win_rate':win_rate,'pick_rate':pick_rate,\n",
    "                'ban_rate':ban_rate,'counters':counters,'matches':matches}\n",
    "    \n",
    "    return row_dict\n",
    "\n",
    "\n",
    "def generate_divison_tier_table(champ_tier_list_soup,divison):\n",
    "    \n",
    "    tier_list_table = champ_tier_list_soup.find('div',{'class':'tier-list-page'})\n",
    "    champ_rows = tier_list_table.findAll('div',{'class':'rt-tr-group'})\n",
    "    \n",
    "    division_dict = dict()\n",
    "    for i,row in enumerate(tqdm(champ_rows)):\n",
    "        division_dict[i] = extract_from_tier_list_row(row,divison)\n",
    "    df_division = pd.DataFrame.from_dict(division_dict, orient='index').sort_values(by=['win_rate'],ascending=False)\n",
    "    return df_division\n",
    "\n",
    "def scrape_ugg_tier_list():\n",
    "    \n",
    "    divisions = ['iron','bronze','silver','gold','platinum','diamond','master','grandmaster','challenger']\n",
    "    df_tier_list = pd.DataFrame()\n",
    "\n",
    "    for divsion in tqdm(divisions):\n",
    "        # generate the table for the given division\n",
    "        url = f'https://u.gg/lol/tier-list?rank={divsion}'\n",
    "        champ_tier_list_soup = scraper.get_page_selenium(url)\n",
    "        df_divsion = generate_divison_tier_table(champ_tier_list_soup,divison=divsion)\n",
    "        # append to parent table\n",
    "        df_tier_list = pd.concat([df_tier_list,df_divsion],ignore_index=True)\n",
    "    return df_tier_list"
   ]
  },
  {
   "cell_type": "code",
   "execution_count": 4,
   "metadata": {},
   "outputs": [
    {
     "data": {
      "application/vnd.jupyter.widget-view+json": {
       "model_id": "2d554a6e2d7b47b0a33697c5b0f5a07c",
       "version_major": 2,
       "version_minor": 0
      },
      "text/plain": [
       "  0%|          | 0/9 [00:00<?, ?it/s]"
      ]
     },
     "metadata": {},
     "output_type": "display_data"
    },
    {
     "data": {
      "application/vnd.jupyter.widget-view+json": {
       "model_id": "152612afa198406c946118debe428425",
       "version_major": 2,
       "version_minor": 0
      },
      "text/plain": [
       "  0%|          | 0/223 [00:00<?, ?it/s]"
      ]
     },
     "metadata": {},
     "output_type": "display_data"
    },
    {
     "data": {
      "application/vnd.jupyter.widget-view+json": {
       "model_id": "581a0627891148a38c1f7bc11262aa04",
       "version_major": 2,
       "version_minor": 0
      },
      "text/plain": [
       "  0%|          | 0/228 [00:00<?, ?it/s]"
      ]
     },
     "metadata": {},
     "output_type": "display_data"
    },
    {
     "data": {
      "application/vnd.jupyter.widget-view+json": {
       "model_id": "d00ce559bedc427ea892c9968c0d8d92",
       "version_major": 2,
       "version_minor": 0
      },
      "text/plain": [
       "  0%|          | 0/221 [00:00<?, ?it/s]"
      ]
     },
     "metadata": {},
     "output_type": "display_data"
    },
    {
     "data": {
      "application/vnd.jupyter.widget-view+json": {
       "model_id": "e48870a835104dcba1385678edcb48b2",
       "version_major": 2,
       "version_minor": 0
      },
      "text/plain": [
       "  0%|          | 0/216 [00:00<?, ?it/s]"
      ]
     },
     "metadata": {},
     "output_type": "display_data"
    },
    {
     "data": {
      "application/vnd.jupyter.widget-view+json": {
       "model_id": "33cc52f642854154a907d9f93df092e6",
       "version_major": 2,
       "version_minor": 0
      },
      "text/plain": [
       "  0%|          | 0/213 [00:00<?, ?it/s]"
      ]
     },
     "metadata": {},
     "output_type": "display_data"
    },
    {
     "data": {
      "application/vnd.jupyter.widget-view+json": {
       "model_id": "b29e0d3c2d0147e58b6dcdf8be620628",
       "version_major": 2,
       "version_minor": 0
      },
      "text/plain": [
       "  0%|          | 0/207 [00:00<?, ?it/s]"
      ]
     },
     "metadata": {},
     "output_type": "display_data"
    },
    {
     "data": {
      "application/vnd.jupyter.widget-view+json": {
       "model_id": "f64f34d375dc4515a3cb45e31542244c",
       "version_major": 2,
       "version_minor": 0
      },
      "text/plain": [
       "  0%|          | 0/214 [00:00<?, ?it/s]"
      ]
     },
     "metadata": {},
     "output_type": "display_data"
    },
    {
     "data": {
      "application/vnd.jupyter.widget-view+json": {
       "model_id": "57b80e6a646842ab97681358b7e603c9",
       "version_major": 2,
       "version_minor": 0
      },
      "text/plain": [
       "  0%|          | 0/216 [00:00<?, ?it/s]"
      ]
     },
     "metadata": {},
     "output_type": "display_data"
    },
    {
     "data": {
      "application/vnd.jupyter.widget-view+json": {
       "model_id": "e38e52bfa5ee4be09f618a3e5f8ddf1d",
       "version_major": 2,
       "version_minor": 0
      },
      "text/plain": [
       "  0%|          | 0/201 [00:00<?, ?it/s]"
      ]
     },
     "metadata": {},
     "output_type": "display_data"
    }
   ],
   "source": [
    "df_tier_list = scrape_ugg_tier_list()"
   ]
  },
  {
   "cell_type": "code",
   "execution_count": 5,
   "metadata": {},
   "outputs": [],
   "source": [
    "df_tier_list.to_csv('./temp/ugg_tier_list_raw.csv',index=False)"
   ]
  },
  {
   "cell_type": "markdown",
   "metadata": {},
   "source": [
    "### 1.2 Preprocess\n",
    "- Correct names in `counters`"
   ]
  },
  {
   "cell_type": "code",
   "execution_count": 6,
   "metadata": {},
   "outputs": [],
   "source": [
    "def adjust_name(name):\n",
    "    adjusted_name = name.translate(str.maketrans('', '', string.punctuation))\n",
    "    adjusted_name = adjusted_name.replace(' ','').lower().capitalize()\n",
    "    return adjusted_name\n",
    "\n",
    "def correct_counters(counters,correction_champ_names,name_correction_dict):\n",
    "    for name in correction_champ_names:\n",
    "        if name in counters:\n",
    "            counters = counters.replace(name,name_correction_dict[name])\n",
    "    return counters"
   ]
  },
  {
   "cell_type": "code",
   "execution_count": 7,
   "metadata": {},
   "outputs": [],
   "source": [
    "champ_names = pd.Series(df_tier_list['champion'].unique())\n",
    "corrected_champ_names = champ_names[champ_names.apply(lambda x: ' ' in x or \"'\" in x)]\n",
    "correction_champ_names = pd.Series(corrected_champ_names).apply(adjust_name)\n",
    "\n",
    "name_correction_dict = dict(zip(correction_champ_names,corrected_champ_names))"
   ]
  },
  {
   "cell_type": "code",
   "execution_count": 8,
   "metadata": {},
   "outputs": [],
   "source": [
    "df_tier_list['counters'] = df_tier_list['counters'].apply(lambda x: correct_counters(x,correction_champ_names,name_correction_dict))"
   ]
  },
  {
   "cell_type": "code",
   "execution_count": 9,
   "metadata": {},
   "outputs": [],
   "source": [
    "df_tier_list.to_csv(f'{preprocessed_data_dir}/ugg_tier_list.csv',index=False)"
   ]
  },
  {
   "cell_type": "markdown",
   "metadata": {},
   "source": [
    "### 1.3 Process and Upload"
   ]
  },
  {
   "cell_type": "code",
   "execution_count": 10,
   "metadata": {},
   "outputs": [],
   "source": [
    "def convert_to_float(percent):\n",
    "    if isinstance(percent,str):\n",
    "        return round(float(percent.replace('%',''))/100,4)\n",
    "    else:\n",
    "        return float('nan')"
   ]
  },
  {
   "cell_type": "code",
   "execution_count": 11,
   "metadata": {},
   "outputs": [],
   "source": [
    "df_tier_list = pd.read_csv(f'{preprocessed_data_dir}/ugg_tier_list.csv')\n",
    "df_champ_roles = pd.read_csv(f'{preprocessed_data_dir}/wiki_champ_roles.csv')\n",
    "df_champ_details = pd.read_csv(f'{preprocessed_data_dir}/wiki_champion_details.csv')"
   ]
  },
  {
   "cell_type": "code",
   "execution_count": 12,
   "metadata": {},
   "outputs": [],
   "source": [
    "tier_list_set = set(df_tier_list['champion'].unique())\n",
    "champ_roles_set = set(df_champ_roles['champion'].unique())\n",
    "champ_details_set = set(df_champ_details['champion'].unique())"
   ]
  },
  {
   "cell_type": "code",
   "execution_count": 13,
   "metadata": {},
   "outputs": [],
   "source": [
    "if tier_list_set == champ_roles_set and champ_roles_set == champ_details_set:\n",
    "    # turn matches into int dtype\n",
    "    df_tier_list['matches'] = df_tier_list['matches'].apply(lambda x: int(x.replace(',','')))\n",
    "    \n",
    "    # convert rates to float dtype\n",
    "    df_tier_list['win_rate'] = df_tier_list['win_rate'].apply(convert_to_float)\n",
    "    df_tier_list['pick_rate'] = df_tier_list['pick_rate'].apply(convert_to_float)\n",
    "    df_tier_list['ban_rate'] = df_tier_list['ban_rate'].apply(convert_to_float)\n",
    "    \n",
    "    # map tiers into int dtype\n",
    "    tier_mapping = {'S+':0,'S':1,'A':2,'B':3,'C':4,'D':5}\n",
    "    df_tier_list['tier'] = df_tier_list['tier'].map(tier_mapping)\n",
    "    \n",
    "    df_champ_stats = df_tier_list\n",
    "    df_champ_stats.rename(columns={'divison':'rank'},inplace=True)"
   ]
  },
  {
   "cell_type": "code",
   "execution_count": 14,
   "metadata": {},
   "outputs": [
    {
     "data": {
      "text/html": [
       "<div>\n",
       "<style scoped>\n",
       "    .dataframe tbody tr th:only-of-type {\n",
       "        vertical-align: middle;\n",
       "    }\n",
       "\n",
       "    .dataframe tbody tr th {\n",
       "        vertical-align: top;\n",
       "    }\n",
       "\n",
       "    .dataframe thead th {\n",
       "        text-align: right;\n",
       "    }\n",
       "</style>\n",
       "<table border=\"1\" class=\"dataframe\">\n",
       "  <thead>\n",
       "    <tr style=\"text-align: right;\">\n",
       "      <th></th>\n",
       "      <th>rank</th>\n",
       "      <th>lane</th>\n",
       "      <th>champion</th>\n",
       "      <th>tier</th>\n",
       "      <th>win_rate</th>\n",
       "      <th>pick_rate</th>\n",
       "      <th>ban_rate</th>\n",
       "      <th>counters</th>\n",
       "      <th>matches</th>\n",
       "    </tr>\n",
       "  </thead>\n",
       "  <tbody>\n",
       "    <tr>\n",
       "      <th>0</th>\n",
       "      <td>Iron</td>\n",
       "      <td>Supp</td>\n",
       "      <td>Swain</td>\n",
       "      <td>0</td>\n",
       "      <td>0.5540</td>\n",
       "      <td>0.046</td>\n",
       "      <td>0.071</td>\n",
       "      <td>Taric,Brand,Vel'Koz,Sett,Zilean,Alistar,Veigar</td>\n",
       "      <td>4834</td>\n",
       "    </tr>\n",
       "    <tr>\n",
       "      <th>1</th>\n",
       "      <td>Iron</td>\n",
       "      <td>Jungle</td>\n",
       "      <td>Dr. Mundo</td>\n",
       "      <td>1</td>\n",
       "      <td>0.5497</td>\n",
       "      <td>0.050</td>\n",
       "      <td>0.043</td>\n",
       "      <td>Shyvana,Sejuani,Nidalee,Elise,Master Yi,Udyr,A...</td>\n",
       "      <td>5263</td>\n",
       "    </tr>\n",
       "    <tr>\n",
       "      <th>2</th>\n",
       "      <td>Iron</td>\n",
       "      <td>Mid</td>\n",
       "      <td>Xin Zhao</td>\n",
       "      <td>2</td>\n",
       "      <td>0.5482</td>\n",
       "      <td>0.009</td>\n",
       "      <td>0.027</td>\n",
       "      <td>Vel'Koz,Anivia,Morgana,Pantheon,Azir,Viktor,Tr...</td>\n",
       "      <td>934</td>\n",
       "    </tr>\n",
       "    <tr>\n",
       "      <th>3</th>\n",
       "      <td>Iron</td>\n",
       "      <td>Supp</td>\n",
       "      <td>Brand</td>\n",
       "      <td>0</td>\n",
       "      <td>0.5444</td>\n",
       "      <td>0.075</td>\n",
       "      <td>0.168</td>\n",
       "      <td>Alistar,Sona,Pyke,Sett,Malphite,Blitzcrank,Galio</td>\n",
       "      <td>7928</td>\n",
       "    </tr>\n",
       "    <tr>\n",
       "      <th>4</th>\n",
       "      <td>Iron</td>\n",
       "      <td>Mid</td>\n",
       "      <td>Diana</td>\n",
       "      <td>0</td>\n",
       "      <td>0.5418</td>\n",
       "      <td>0.060</td>\n",
       "      <td>0.076</td>\n",
       "      <td>Viego,Xin Zhao,Galio,Brand,Fizz,Pyke,Morgana</td>\n",
       "      <td>6382</td>\n",
       "    </tr>\n",
       "  </tbody>\n",
       "</table>\n",
       "</div>"
      ],
      "text/plain": [
       "   rank    lane   champion  tier  win_rate  pick_rate  ban_rate  \\\n",
       "0  Iron    Supp      Swain     0    0.5540      0.046     0.071   \n",
       "1  Iron  Jungle  Dr. Mundo     1    0.5497      0.050     0.043   \n",
       "2  Iron     Mid   Xin Zhao     2    0.5482      0.009     0.027   \n",
       "3  Iron    Supp      Brand     0    0.5444      0.075     0.168   \n",
       "4  Iron     Mid      Diana     0    0.5418      0.060     0.076   \n",
       "\n",
       "                                            counters  matches  \n",
       "0     Taric,Brand,Vel'Koz,Sett,Zilean,Alistar,Veigar     4834  \n",
       "1  Shyvana,Sejuani,Nidalee,Elise,Master Yi,Udyr,A...     5263  \n",
       "2  Vel'Koz,Anivia,Morgana,Pantheon,Azir,Viktor,Tr...      934  \n",
       "3   Alistar,Sona,Pyke,Sett,Malphite,Blitzcrank,Galio     7928  \n",
       "4       Viego,Xin Zhao,Galio,Brand,Fizz,Pyke,Morgana     6382  "
      ]
     },
     "execution_count": 14,
     "metadata": {},
     "output_type": "execute_result"
    }
   ],
   "source": [
    "df_champ_stats.head()"
   ]
  },
  {
   "cell_type": "code",
   "execution_count": 15,
   "metadata": {},
   "outputs": [],
   "source": [
    "# save to local\n",
    "df_champ_stats.to_csv(f'{processed_data_dir}/champion_stats.csv',index=False)\n",
    "# upload to s3\n",
    "upload_df_to_s3(df_champ_stats,'peter-ff15-data/champion_stats.csv')"
   ]
  }
 ],
 "metadata": {
  "@webio": {
   "lastCommId": null,
   "lastKernelId": null
  },
  "kernelspec": {
   "display_name": "Python 3",
   "language": "python",
   "name": "python3"
  },
  "language_info": {
   "codemirror_mode": {
    "name": "ipython",
    "version": 3
   },
   "file_extension": ".py",
   "mimetype": "text/x-python",
   "name": "python",
   "nbconvert_exporter": "python",
   "pygments_lexer": "ipython3",
   "version": "3.6.8"
  }
 },
 "nbformat": 4,
 "nbformat_minor": 4
}
