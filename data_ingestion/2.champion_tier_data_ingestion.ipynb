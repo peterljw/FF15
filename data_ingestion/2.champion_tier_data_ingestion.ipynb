{
 "cells": [
  {
   "cell_type": "code",
   "execution_count": 1,
   "metadata": {},
   "outputs": [],
   "source": [
    "from utility import scraper\n",
    "from bs4 import BeautifulSoup as soup\n",
    "from tqdm.notebook import tqdm\n",
    "\n",
    "import pandas as pd\n",
    "import numpy as np\n",
    "\n",
    "import re\n",
    "import string\n",
    "\n",
    "from utility.s3_file_transfer import upload_df_to_s3"
   ]
  },
  {
   "cell_type": "code",
   "execution_count": 2,
   "metadata": {},
   "outputs": [],
   "source": [
    "preprocessed_data_dir = './preprocessed_data'\n",
    "processed_data_dir = './processed_data'"
   ]
  },
  {
   "cell_type": "markdown",
   "metadata": {},
   "source": [
    "## 1. Scrape Tier List Table (UGG)\n",
    "- Updated daily to weekly"
   ]
  },
  {
   "cell_type": "markdown",
   "metadata": {},
   "source": [
    "### 1.1 Extract Raw Data"
   ]
  },
  {
   "cell_type": "code",
   "execution_count": 3,
   "metadata": {},
   "outputs": [],
   "source": [
    "def extract_from_tier_list_row(row,divison):\n",
    "    \n",
    "    # extract information from the row\n",
    "    divison = divison.capitalize() \n",
    "    lane = row.find('img',{'class':'tier-list-role'})['alt'].capitalize() \n",
    "    champion = row.find('strong',{'class':'champion-name'}).text\n",
    "    try:\n",
    "        regex = re.compile('.*rt-td tier.*')\n",
    "        tier = row.find('div',{'class':regex}).find('span').text\n",
    "    except:\n",
    "        tier = float('nan')\n",
    "    try:\n",
    "        regex = re.compile('.*rt-td winrate.*')\n",
    "        win_rate = row.find('div',{'class':regex}).find('span').text\n",
    "    except:\n",
    "        win_rate = float('nan')\n",
    "    try:\n",
    "        regex = re.compile('.*rt-td pickrate.*')\n",
    "        pick_rate = row.find('div',{'class':regex}).find('span').text\n",
    "    except:\n",
    "        pick_rate = float('nan')\n",
    "    try:\n",
    "        regex = re.compile('.*rt-td banrate.*')\n",
    "        ban_rate = row.find('div',{'class':regex}).find('span').text\n",
    "    except:\n",
    "        ban_rate = float('nan')\n",
    "    try:\n",
    "        counter_raw_list = row.find('div',{'class':'against-container'}).findAll('div',{'class':'against'})\n",
    "        counter_list = list()\n",
    "        for counter in counter_raw_list:\n",
    "            counter_champ = counter.find('a')['href'].split('/')[3].capitalize() \n",
    "            counter_list.append(counter_champ)\n",
    "        counters = ','.join(counter_list)\n",
    "    except:\n",
    "        counters = float('nan')\n",
    "    try:\n",
    "        regex = re.compile('.*rt-td matches.*')\n",
    "        matches = row.find('div',{'class':regex}).find('span').text\n",
    "    except:\n",
    "        matches = float('nan')\n",
    "    # store all into a dictionary\n",
    "    row_dict = {'divison':divison,'lane':lane,'champion':champion,\n",
    "                'tier':tier,'win_rate':win_rate,'pick_rate':pick_rate,\n",
    "                'ban_rate':ban_rate,'counters':counters,'matches':matches}\n",
    "    \n",
    "    return row_dict\n",
    "\n",
    "\n",
    "def generate_divison_tier_table(champ_tier_list_soup,divison):\n",
    "    \n",
    "    tier_list_table = champ_tier_list_soup.find('div',{'class':'tier-list-page'})\n",
    "    champ_rows = tier_list_table.findAll('div',{'class':'rt-tr-group'})\n",
    "    \n",
    "    division_dict = dict()\n",
    "    for i,row in enumerate(tqdm(champ_rows)):\n",
    "        division_dict[i] = extract_from_tier_list_row(row,divison)\n",
    "    df_division = pd.DataFrame.from_dict(division_dict, orient='index').sort_values(by=['win_rate'],ascending=False)\n",
    "    return df_division\n",
    "\n",
    "def scrape_ugg_tier_list():\n",
    "    \n",
    "    divisions = ['iron','bronze','silver','gold','platinum','diamond','master','grandmaster','challenger']\n",
    "    df_tier_list = pd.DataFrame()\n",
    "\n",
    "    for divsion in tqdm(divisions):\n",
    "        # generate the table for the given division\n",
    "        url = f'https://u.gg/lol/tier-list?rank={divsion}'\n",
    "        champ_tier_list_soup = scraper.get_page_selenium(url)\n",
    "        df_divsion = generate_divison_tier_table(champ_tier_list_soup,divison=divsion)\n",
    "        # append to parent table\n",
    "        df_tier_list = pd.concat([df_tier_list,df_divsion],ignore_index=True)\n",
    "    return df_tier_list"
   ]
  },
  {
   "cell_type": "code",
   "execution_count": 4,
   "metadata": {},
   "outputs": [
    {
     "data": {
      "application/vnd.jupyter.widget-view+json": {
       "model_id": "93ba9092b2364acc85c5da212a7e1b06",
       "version_major": 2,
       "version_minor": 0
      },
      "text/plain": [
       "  0%|          | 0/9 [00:00<?, ?it/s]"
      ]
     },
     "metadata": {},
     "output_type": "display_data"
    },
    {
     "data": {
      "application/vnd.jupyter.widget-view+json": {
       "model_id": "eb12281917f644b88d2b9a3d1275df06",
       "version_major": 2,
       "version_minor": 0
      },
      "text/plain": [
       "  0%|          | 0/223 [00:00<?, ?it/s]"
      ]
     },
     "metadata": {},
     "output_type": "display_data"
    },
    {
     "data": {
      "application/vnd.jupyter.widget-view+json": {
       "model_id": "100959de56594f0d8cd74408a7021f8d",
       "version_major": 2,
       "version_minor": 0
      },
      "text/plain": [
       "  0%|          | 0/223 [00:00<?, ?it/s]"
      ]
     },
     "metadata": {},
     "output_type": "display_data"
    },
    {
     "data": {
      "application/vnd.jupyter.widget-view+json": {
       "model_id": "c8931d7ecee440868db6d599c4272e11",
       "version_major": 2,
       "version_minor": 0
      },
      "text/plain": [
       "  0%|          | 0/219 [00:00<?, ?it/s]"
      ]
     },
     "metadata": {},
     "output_type": "display_data"
    },
    {
     "data": {
      "application/vnd.jupyter.widget-view+json": {
       "model_id": "78870d31a3494eea8fe472df6681989c",
       "version_major": 2,
       "version_minor": 0
      },
      "text/plain": [
       "  0%|          | 0/211 [00:00<?, ?it/s]"
      ]
     },
     "metadata": {},
     "output_type": "display_data"
    },
    {
     "data": {
      "application/vnd.jupyter.widget-view+json": {
       "model_id": "15e5f71235fd4fad9b83055104c71229",
       "version_major": 2,
       "version_minor": 0
      },
      "text/plain": [
       "  0%|          | 0/211 [00:00<?, ?it/s]"
      ]
     },
     "metadata": {},
     "output_type": "display_data"
    },
    {
     "data": {
      "application/vnd.jupyter.widget-view+json": {
       "model_id": "b56bb014c57b4ca3b3a7d87947315e1a",
       "version_major": 2,
       "version_minor": 0
      },
      "text/plain": [
       "  0%|          | 0/209 [00:00<?, ?it/s]"
      ]
     },
     "metadata": {},
     "output_type": "display_data"
    },
    {
     "data": {
      "application/vnd.jupyter.widget-view+json": {
       "model_id": "eeb61fb3d8b6410a8ffb1f0a1b73fba8",
       "version_major": 2,
       "version_minor": 0
      },
      "text/plain": [
       "  0%|          | 0/205 [00:00<?, ?it/s]"
      ]
     },
     "metadata": {},
     "output_type": "display_data"
    },
    {
     "data": {
      "application/vnd.jupyter.widget-view+json": {
       "model_id": "7f23ff66678d4c2b915c83cea7ea585a",
       "version_major": 2,
       "version_minor": 0
      },
      "text/plain": [
       "  0%|          | 0/202 [00:00<?, ?it/s]"
      ]
     },
     "metadata": {},
     "output_type": "display_data"
    },
    {
     "data": {
      "application/vnd.jupyter.widget-view+json": {
       "model_id": "af165f6a549c41fda287ed289f7eb720",
       "version_major": 2,
       "version_minor": 0
      },
      "text/plain": [
       "  0%|          | 0/197 [00:00<?, ?it/s]"
      ]
     },
     "metadata": {},
     "output_type": "display_data"
    }
   ],
   "source": [
    "df_tier_list = scrape_ugg_tier_list()"
   ]
  },
  {
   "cell_type": "code",
   "execution_count": 5,
   "metadata": {},
   "outputs": [],
   "source": [
    "df_tier_list.to_csv('./temp/ugg_tier_list_raw.csv',index=False)"
   ]
  },
  {
   "cell_type": "markdown",
   "metadata": {},
   "source": [
    "### 1.2 Preprocess\n",
    "- Correct names in `counters`"
   ]
  },
  {
   "cell_type": "code",
   "execution_count": 6,
   "metadata": {},
   "outputs": [],
   "source": [
    "def adjust_name(name):\n",
    "    adjusted_name = name.translate(str.maketrans('', '', string.punctuation))\n",
    "    adjusted_name = adjusted_name.replace(' ','').lower().capitalize()\n",
    "    return adjusted_name\n",
    "\n",
    "def correct_counters(counters,correction_champ_names,name_correction_dict):\n",
    "    for name in correction_champ_names:\n",
    "        if name in counters:\n",
    "            counters = counters.replace(name,name_correction_dict[name])\n",
    "    return counters"
   ]
  },
  {
   "cell_type": "code",
   "execution_count": 7,
   "metadata": {},
   "outputs": [],
   "source": [
    "champ_names = pd.Series(df_tier_list['champion'].unique())\n",
    "corrected_champ_names = champ_names[champ_names.apply(lambda x: ' ' in x or \"'\" in x)]\n",
    "correction_champ_names = pd.Series(corrected_champ_names).apply(adjust_name)\n",
    "\n",
    "name_correction_dict = dict(zip(correction_champ_names,corrected_champ_names))"
   ]
  },
  {
   "cell_type": "code",
   "execution_count": 8,
   "metadata": {},
   "outputs": [],
   "source": [
    "df_tier_list['counters'] = df_tier_list['counters'].apply(lambda x: correct_counters(x,correction_champ_names,name_correction_dict))"
   ]
  },
  {
   "cell_type": "code",
   "execution_count": 9,
   "metadata": {},
   "outputs": [],
   "source": [
    "df_tier_list.to_csv(f'{preprocessed_data_dir}/ugg_tier_list.csv',index=False)"
   ]
  },
  {
   "cell_type": "markdown",
   "metadata": {},
   "source": [
    "### 1.3 Process and Upload"
   ]
  },
  {
   "cell_type": "code",
   "execution_count": 15,
   "metadata": {},
   "outputs": [],
   "source": [
    "def convert_to_float(percent):\n",
    "    if isinstance(percent,str):\n",
    "        return round(float(percent.replace('%',''))/100,4)\n",
    "    else:\n",
    "        return float('nan')"
   ]
  },
  {
   "cell_type": "code",
   "execution_count": 16,
   "metadata": {},
   "outputs": [],
   "source": [
    "df_tier_list = pd.read_csv(f'{preprocessed_data_dir}/ugg_tier_list.csv')\n",
    "df_champ_roles = pd.read_csv(f'{preprocessed_data_dir}/wiki_champ_roles.csv')\n",
    "df_champ_details = pd.read_csv(f'{preprocessed_data_dir}/wiki_champion_details.csv')"
   ]
  },
  {
   "cell_type": "code",
   "execution_count": 17,
   "metadata": {},
   "outputs": [],
   "source": [
    "tier_list_set = set(df_tier_list['champion'].unique())\n",
    "champ_roles_set = set(df_champ_roles['champion'].unique())\n",
    "champ_details_set = set(df_champ_details['champion'].unique())"
   ]
  },
  {
   "cell_type": "code",
   "execution_count": 18,
   "metadata": {},
   "outputs": [],
   "source": [
    "if tier_list_set == champ_roles_set and champ_roles_set == champ_details_set:\n",
    "    # turn matches into int dtype\n",
    "    df_tier_list['matches'] = df_tier_list['matches'].apply(lambda x: int(x.replace(',','')))\n",
    "    \n",
    "    # convert rates to float dtype\n",
    "    df_tier_list['win_rate'] = df_tier_list['win_rate'].apply(convert_to_float)\n",
    "    df_tier_list['pick_rate'] = df_tier_list['pick_rate'].apply(convert_to_float)\n",
    "    df_tier_list['ban_rate'] = df_tier_list['ban_rate'].apply(convert_to_float)\n",
    "    \n",
    "    # map tiers into int dtype\n",
    "    tier_mapping = {'S+':0,'S':1,'A':2,'B':3,'C':4,'D':5}\n",
    "    df_tier_list['tier'] = df_tier_list['tier'].map(tier_mapping)\n",
    "    \n",
    "    df_champ_stats = df_tier_list\n",
    "    df_champ_stats.rename(columns={'divison':'rank'},inplace=True)"
   ]
  },
  {
   "cell_type": "code",
   "execution_count": 20,
   "metadata": {},
   "outputs": [
    {
     "data": {
      "text/html": [
       "<div>\n",
       "<style scoped>\n",
       "    .dataframe tbody tr th:only-of-type {\n",
       "        vertical-align: middle;\n",
       "    }\n",
       "\n",
       "    .dataframe tbody tr th {\n",
       "        vertical-align: top;\n",
       "    }\n",
       "\n",
       "    .dataframe thead th {\n",
       "        text-align: right;\n",
       "    }\n",
       "</style>\n",
       "<table border=\"1\" class=\"dataframe\">\n",
       "  <thead>\n",
       "    <tr style=\"text-align: right;\">\n",
       "      <th></th>\n",
       "      <th>rank</th>\n",
       "      <th>lane</th>\n",
       "      <th>champion</th>\n",
       "      <th>tier</th>\n",
       "      <th>win_rate</th>\n",
       "      <th>pick_rate</th>\n",
       "      <th>ban_rate</th>\n",
       "      <th>counters</th>\n",
       "      <th>matches</th>\n",
       "    </tr>\n",
       "  </thead>\n",
       "  <tbody>\n",
       "    <tr>\n",
       "      <th>0</th>\n",
       "      <td>Iron</td>\n",
       "      <td>Jungle</td>\n",
       "      <td>Skarner</td>\n",
       "      <td>1</td>\n",
       "      <td>0.6019</td>\n",
       "      <td>0.008</td>\n",
       "      <td>0.0</td>\n",
       "      <td>Nidalee,Amumu,Cho'Gath,Xin Zhao,Nocturne,Sejua...</td>\n",
       "      <td>422</td>\n",
       "    </tr>\n",
       "    <tr>\n",
       "      <th>1</th>\n",
       "      <td>Iron</td>\n",
       "      <td>Jungle</td>\n",
       "      <td>Rammus</td>\n",
       "      <td>0</td>\n",
       "      <td>0.5711</td>\n",
       "      <td>0.041</td>\n",
       "      <td>0.0</td>\n",
       "      <td>Elise,Nunu,Lillia,Wukong,Amumu,Sejuani,Warwick</td>\n",
       "      <td>2180</td>\n",
       "    </tr>\n",
       "    <tr>\n",
       "      <th>2</th>\n",
       "      <td>Iron</td>\n",
       "      <td>Mid</td>\n",
       "      <td>Mordekaiser</td>\n",
       "      <td>2</td>\n",
       "      <td>0.5679</td>\n",
       "      <td>0.007</td>\n",
       "      <td>0.0</td>\n",
       "      <td>Tryndamere,Pyke,Azir,Galio,Leblanc,Morgana,Swain</td>\n",
       "      <td>361</td>\n",
       "    </tr>\n",
       "    <tr>\n",
       "      <th>3</th>\n",
       "      <td>Iron</td>\n",
       "      <td>Mid</td>\n",
       "      <td>Teemo</td>\n",
       "      <td>1</td>\n",
       "      <td>0.5593</td>\n",
       "      <td>0.010</td>\n",
       "      <td>0.0</td>\n",
       "      <td>Vladimir,Anivia,Xerath,Karthus,Tristana,Ezreal...</td>\n",
       "      <td>540</td>\n",
       "    </tr>\n",
       "    <tr>\n",
       "      <th>4</th>\n",
       "      <td>Iron</td>\n",
       "      <td>Top</td>\n",
       "      <td>Singed</td>\n",
       "      <td>1</td>\n",
       "      <td>0.5554</td>\n",
       "      <td>0.011</td>\n",
       "      <td>0.0</td>\n",
       "      <td>Tahm Kench,Shen,Yone,Heimerdinger,Gangplank,Dr...</td>\n",
       "      <td>596</td>\n",
       "    </tr>\n",
       "  </tbody>\n",
       "</table>\n",
       "</div>"
      ],
      "text/plain": [
       "   rank    lane     champion  tier  win_rate  pick_rate  ban_rate  \\\n",
       "0  Iron  Jungle      Skarner     1    0.6019      0.008       0.0   \n",
       "1  Iron  Jungle       Rammus     0    0.5711      0.041       0.0   \n",
       "2  Iron     Mid  Mordekaiser     2    0.5679      0.007       0.0   \n",
       "3  Iron     Mid        Teemo     1    0.5593      0.010       0.0   \n",
       "4  Iron     Top       Singed     1    0.5554      0.011       0.0   \n",
       "\n",
       "                                            counters  matches  \n",
       "0  Nidalee,Amumu,Cho'Gath,Xin Zhao,Nocturne,Sejua...      422  \n",
       "1     Elise,Nunu,Lillia,Wukong,Amumu,Sejuani,Warwick     2180  \n",
       "2   Tryndamere,Pyke,Azir,Galio,Leblanc,Morgana,Swain      361  \n",
       "3  Vladimir,Anivia,Xerath,Karthus,Tristana,Ezreal...      540  \n",
       "4  Tahm Kench,Shen,Yone,Heimerdinger,Gangplank,Dr...      596  "
      ]
     },
     "execution_count": 20,
     "metadata": {},
     "output_type": "execute_result"
    }
   ],
   "source": [
    "df_champ_stats.head()"
   ]
  },
  {
   "cell_type": "code",
   "execution_count": 21,
   "metadata": {},
   "outputs": [],
   "source": [
    "# save to local\n",
    "df_champ_stats.to_csv(f'{processed_data_dir}/champion_stats.csv',index=False)\n",
    "# upload to s3\n",
    "# upload_df_to_s3(df_champ_stats,'peter-ff15-data/champion_stats.csv')"
   ]
  }
 ],
 "metadata": {
  "@webio": {
   "lastCommId": null,
   "lastKernelId": null
  },
  "kernelspec": {
   "display_name": "Python 3",
   "language": "python",
   "name": "python3"
  },
  "language_info": {
   "codemirror_mode": {
    "name": "ipython",
    "version": 3
   },
   "file_extension": ".py",
   "mimetype": "text/x-python",
   "name": "python",
   "nbconvert_exporter": "python",
   "pygments_lexer": "ipython3",
   "version": "3.6.8"
  }
 },
 "nbformat": 4,
 "nbformat_minor": 4
}
